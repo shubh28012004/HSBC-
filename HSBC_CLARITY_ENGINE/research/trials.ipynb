{
 "cells": [
  {
   "cell_type": "code",
   "execution_count": 1,
   "metadata": {},
   "outputs": [
    {
     "name": "stdout",
     "output_type": "stream",
     "text": [
      "/opt/anaconda3/bin/python\n"
     ]
    }
   ],
   "source": [
    "!which python"
   ]
  },
  {
   "cell_type": "code",
   "execution_count": 2,
   "metadata": {},
   "outputs": [
    {
     "name": "stdout",
     "output_type": "stream",
     "text": [
      "OK\n"
     ]
    }
   ],
   "source": [
    "print(\"OK\")"
   ]
  },
  {
   "cell_type": "code",
   "execution_count": 3,
   "metadata": {},
   "outputs": [
    {
     "data": {
      "text/plain": [
       "'/Users/shubh/Desktop/HSBC /FinGuide/research'"
      ]
     },
     "execution_count": 3,
     "metadata": {},
     "output_type": "execute_result"
    }
   ],
   "source": [
    "%pwd"
   ]
  },
  {
   "cell_type": "code",
   "execution_count": 4,
   "metadata": {},
   "outputs": [],
   "source": [
    "import os \n",
    "os.chdir(\"../\")"
   ]
  },
  {
   "cell_type": "code",
   "execution_count": 5,
   "metadata": {},
   "outputs": [
    {
     "data": {
      "text/plain": [
       "'/Users/shubh/Desktop/HSBC /FinGuide'"
      ]
     },
     "execution_count": 5,
     "metadata": {},
     "output_type": "execute_result"
    }
   ],
   "source": [
    "%pwd"
   ]
  },
  {
   "cell_type": "code",
   "execution_count": 6,
   "metadata": {},
   "outputs": [],
   "source": [
    "from langchain.document_loaders import PyPDFLoader, DirectoryLoader\n",
    "from langchain.text_splitter import RecursiveCharacterTextSplitter"
   ]
  },
  {
   "cell_type": "code",
   "execution_count": 7,
   "metadata": {},
   "outputs": [],
   "source": [
    "# Extract text from PDF files\n",
    "def load_pdf_files(data):\n",
    "    loader = DirectoryLoader(\n",
    "        data,\n",
    "        glob=\"*.pdf\",\n",
    "        loader_cls=PyPDFLoader\n",
    "    )\n",
    "\n",
    "    documents = loader.load()\n",
    "    return documents"
   ]
  },
  {
   "cell_type": "code",
   "execution_count": 8,
   "metadata": {},
   "outputs": [],
   "source": [
    "extracted_data = load_pdf_files(\"data\")"
   ]
  },
  {
   "cell_type": "code",
   "execution_count": 9,
   "metadata": {},
   "outputs": [
    {
     "data": {
      "text/plain": [
       "[Document(metadata={'producer': 'Adobe PDF library 17.00', 'creator': 'Adobe Illustrator 28.7 (Windows)', 'creationdate': '2025-06-11T15:16:44+06:30', 'author': 'Kriti MANTRI', 'moddate': '2025-06-11T15:16:44+05:30', 'title': 'MITC-home-loans_11-6-25', 'source': 'data/mitc-home-loans.pdf', 'total_pages': 13, 'page': 0, 'page_label': '1'}, page_content='This MITC covers following loan products: \\ni.  Home Loan\\nii.  Smart Home Loan **\\niii.  Loan Against Property (LAP) \\niv.  Smart Loan Against Property ** \\nv.  Smart Home Drop-line Overdraft (Smart Home DLOD)\\nvi.  Smart Loan Against Property Drop-line Overdraft (Smart LAP DLOD)\\n1. Fees and Charges:\\n• A list of our fees and charges applicable on our Home Loan products are set out in the tariﬀ section of this document and \\nare also updated on our website (www.hsbc.co.in). They are also available upon request at any of our branches across India.\\n• Please be advised that indirect taxes any other amount liable to tax under prevailing Indirect tax Laws would be recovered \\non all our fees and charges.\\n• For Additional information, you can visit any of our branches in India or call HSBC Phone Banking service.\\n \\nTariﬀ  sheet   \\nHome Loan/Smart Home Loan/LAP/Smart LAP/Smart Home DLOD/Smart LAP DLOD \\nProcessing Fee (PF)\\n(Fixed and Floating rate Loans)\\n 1% of the sanctioned loan amount or 10,000, whichever is higher, will be \\napplicable as your PF plus applicable taxes* The fee will be collected from \\nyou in two parts: 5,000 plus applicable taxes is payable upfront along with \\nthe loan application and the balance PF plus applicable taxes* is payable \\nbefore loan disbursal Please note that the PF paid by you is \\nnon-refundable.\\nNon-utilization Fee (Applicable only to Smart Home \\nLoan/Smart LAP and Smart Home DLOD/Smart LAP \\nDLOD) with Commitment Fee variant\\n \\nUp-to 1% fees on amount above 25% of the sanctioned amount In the \\nevent if the Excess Funds in the account are more than 25% of the \\nsanctioned Amount (‘Threshold limit’), then the Bank will charge a \\nNon-utilisation fee/ Commitment fee of 1% p.a. on the balance amount \\nmaintained over and above the Minimum Threshold. Example - If \\nnon-utilisation/Commitment fee fees is 1%, original sanctioned amount \\nis `2,000,000 and limit deﬁned as 25% i.e. `500,000/- In this scenario if \\nthe fund in the account is `600,000, then the non-utilisation \\nfees/Commitment fee of 1% will be charged on `100,000. (This is for \\nillustration purpose only)\\n \\nPenal interest on the delayed instalments on \\naccount of cheque bounce or dishonoured \\nStanding Instruction and on overdue submission of \\nPost Disbursal documents (PDD) on Fixed and \\nFloating rate Loans.\\n \\nPenal Interest has been discontinued eﬀective 1st January 2024. The \\nBank however, reserves the right to review its exiting fees and charges \\nand introduce suitable Penal Charges for non-compliance to key terms \\nand conditions in the loan agreement, after giving prior notice to \\nborrowers.\\n \\n**Smart Home Loan and Smart Loan against Property stand discontinued w.e.f. 1st April 2025.\\nMost Important Terms and Conditions (MITC) \\nHML_MITC_06/25_v1'),\n",
       " Document(metadata={'producer': 'Adobe PDF library 17.00', 'creator': 'Adobe Illustrator 28.7 (Windows)', 'creationdate': '2025-06-11T15:16:44+06:30', 'author': 'Kriti MANTRI', 'moddate': '2025-06-11T15:16:44+05:30', 'title': 'MITC-home-loans_11-6-25', 'source': 'data/mitc-home-loans.pdf', 'total_pages': 13, 'page': 1, 'page_label': '2'}, page_content='Prepayment Charges (Floating rate loans):\\n \\nNIL\\n Prepayment Charges (Fixed rate loans): 5% of the principal outstanding balance/amount prepaid.\\nNote:\\nPrepayment charge will be applicable in the following scenarios:\\ni)  A bulk payment (over and above EMI) that results in a drop in account \\nbalance.\\nii) Any mid-term changes to the ﬁxed rate loan account (for example: \\nswitching from ﬁxed rate to variable rate type etc.).\\niii) The entire ﬁxed rate home loan being paid oﬀ before the end of the \\nﬁxed rate period.\\n  \\n \\nSwitching charges: \\n \\n(i) Floating rate to Fixed rate: `5,000/- \\n(ii) Fixed rate to Floating rate: `5,000 + 5% of the principal outstanding \\nbalance.\\nNote:\\n• Stamping/franking costs as applicable for switching, will be \\n borne by the borrower.\\n• Switching from one variant (ﬂoating/ﬁxed) to other variant will be \\nallowed up to three times during the loan tenure. \\n• The ﬁrst switch will be permissible 12 months after date of \\ndisbursement. \\n• A gap of a minimum of 12 months will be required between two \\nswitches.\\n• Existing borrowers opting to switch from ﬂoating to ﬁxed rate loan \\nmay be required to submit their latest income documents for fresh \\ncredit assessment or make a part-payment to maintain loan \\naﬀordability.\\n• Upon switching from ﬂoating rate to ﬁxed rate, the loan tenure on the \\nﬁxed rate loan would be capped at the residual tenure on the existing \\n(ﬂoating rate) loan, subject to maximum of 240 months.\\n \\n \\n \\n*Please note that basis Goods and Services Tax (GST) regulations and notiﬁed GST rates, Central GST and State/Union Territory GST \\nor Inter- State GST, as applicable, would apply on all our fees and charges with eﬀect from 1 July 2017\\nNote: \\nWe reserve the right to vary charges or fees from time to time by giving you prior notice of not less than 30 days for any variation \\naﬀecting fees and charges under our control or aﬀecting your liabilities or obligations or for such reasonable period as we may \\nspecify in the case of other variations. We will immediately update, on our website, any changes to the tariﬀ. If we have made any \\nchange without notice, we will notify the change within 30 days. If such change is to your disadvantage, you may within 60 days of \\nthe notice, close your account without having to pay any prepayment charge. We would not be bound by a month’s notice for \\nchange in interest rates or any charge levied as a result of regulatory requirements.\\nFloating Rate Loans\\na) The interest rate on your ﬂoating rate loan, is linked to the Bank’s Repo Linked Lending Rate (RLLR). Any revision in the Repo \\nLinked Lending Rate (RLLR) would also have an impact on your interest rate. \\nb) A revision in RLLR, MCLR or any other ﬂoating rate benchmark would typically lead to a revision in the Home Loan tenure, and \\nthe EMI would remain constant, however, the Bank reserves the right to change the loan EMI/tenure or a combination of both, \\nwhich will be duly communicated to you via email or SMS. \\nc) For processing prepayment requests, you are required to send, a written instruction communicating your desire to prepay and \\nintent of reducing either of the loan tenure or EMI. \\nHML_MITC_06/25_v1'),\n",
       " Document(metadata={'producer': 'Adobe PDF library 17.00', 'creator': 'Adobe Illustrator 28.7 (Windows)', 'creationdate': '2025-06-11T15:16:44+06:30', 'author': 'Kriti MANTRI', 'moddate': '2025-06-11T15:16:44+05:30', 'title': 'MITC-home-loans_11-6-25', 'source': 'data/mitc-home-loans.pdf', 'total_pages': 13, 'page': 2, 'page_label': '3'}, page_content='In the absence of clear instruction, we would by default reduce the loan tenure. In case excess funds are received towards the \\nloan account without any written instructions to prepay, for Smart Home Loan/Smart LAP and Smart Home DLOD and Smart \\nLAP DLOD, the amount will be credited to the Smart Home Loan/Smart LAP and Smart Home DLOD and Smart LAP DLOD, \\naccount which will reduce the balance in the account.\\nFixed Rate Loans (Oﬀered with Normal Home loan and Loan against Property variants only).\\na) Fixed rate loans are capped at a maximum tenure of 240 months.\\nb) Fixed rate loans will be priced at the ﬁxed rate of interest announced by the Bank from time to time.\\nc) Switching from one variant (ﬂoating/ﬁxed) to other variant will be allowed up to three times during the loan tenure. \\nd) The ﬁrst switch will be permissible 12 months after date of disbursement. \\ne) A gap of a minimum of 12 months will be required between two switches. \\nf) The pricing for the ﬁxed rate loans is expected to be higher than ﬂoating rate loans. Due to rate diﬀerential and relatively lower \\nmaximum tenure on ﬁxed rate loans (implying higher EMI), existing borrowers opting to switch from ﬂoating to ﬁxed rate loan \\nmay be required to submit their latest income documents for fresh credit assessment or make a part-payment to maintain loan \\naﬀordability.\\ng) Fixed rate loans are currently available under Normal Home/Normal LAP variants only. Borrowers running a Smart Home/ Smart \\nLAP/ Smart Home DLOD/Smart LAP DLOD will need to convert to a Normal Home Loan/LAP variant if they wish to avail the ﬁxed \\nrate option. Applicable conversion and switch charges will apply.\\nh) Upon switching from ﬂoating rate to ﬁxed rate, the loan tenure on the ﬁxed rate loan would be capped at the residual tenure on \\nthe existing (ﬂoating rate) loan, subject to maximum of 240 months.\\nService charges for all products\\nRequest for copy of property documents held with the Bank \\n \\n`500/-\\nLegal and Other Miscellaneous charges:\\nExpenses incurred on proceedings under SARFAESI \\nAct/proceedings under Section 138 of NI Act and/or other \\nlitigation on the account. \\n \\nAs per actuals applicable to an overdue/delinquent\\naccount. \\n \\nConversion Fees\\n \\n`5,000 plus applicable taxes are payable at the time of \\nconverting the loan from Normal to Smart, Smart to Normal or \\nwithin diﬀerent variants of Smart Home / Smart LAP DLOD.\\n \\n \\nSwitching Charges `2,500/-\\nBenchmark rate change from RLR/MCLR/Base rate/ to Repo \\nLinked Lending Rate.\\nExisting loans (disbursed till 30 Sep 2019) which are linked to \\nMCLR, Base Rate, RLR are eligible to switch to RBI’s Repo \\nLinked Lending Rate.\\n \\nRequest for change of EMI date, rescheduling of loans (increase/decrease in EMI/tenure).\\n Request for daily interest calculation details.\\n \\n2.  Services Oﬀered*\\nRequest for duplicate amortisation schedule.  \\nRequest for duplicate copy of welcome pack (amortisation schedule plus key fact statement plus list of \\ndocuments).  \\nRe-pricing request for an active account.  \\nRequest for change of Standing Instructions, change of repayment mode (cheque swap charges).  \\nCopy of track record.  \\nCopy of Credit Information Report (CIR).  \\n *The services oﬀered in this section are currently not chargeable to you.  \\n \\nHML_MITC_06/25_v1'),\n",
       " Document(metadata={'producer': 'Adobe PDF library 17.00', 'creator': 'Adobe Illustrator 28.7 (Windows)', 'creationdate': '2025-06-11T15:16:44+06:30', 'author': 'Kriti MANTRI', 'moddate': '2025-06-11T15:16:44+05:30', 'title': 'MITC-home-loans_11-6-25', 'source': 'data/mitc-home-loans.pdf', 'total_pages': 13, 'page': 3, 'page_label': '4'}, page_content='3. Interest\\n• On a monthly basis, you would be required to repay the principal amount of the loan and interest on the loan at the rate as set out \\nin the agreement.\\n• Interest on your loan accrues on a daily basis on the total outstanding balance on that day, and is compounded and will be payable \\nmonthly on EMI dates as mentioned in point No 4 herein.\\n• If your Equated Monthly Instalment (EMI) date falls on a Sunday/public holiday, your interest will be calculated inclusive of that \\nday and debited on the next working day.\\n• The interest rate on the Floating Rate Loan which is linked to HSBC’s published Repo Linked Lending Rate (RLLR) will undergo \\nre-pricing (i.e. upwards or downwards as the case may be) in line with the movement of the RLLR. Repo rate is normally reviewed \\nby the Monetary Policy Committee at intervals of two months. In case of change in Policy Repo Rate, RLLR will be changed in the \\nbeginning of the following month (by 7th calendar day of the following month). Consequent upon any change in RLLR, the rate of \\ninterest of loans linked to RLLR will undergo a change. The RLLR is published by HSBC at the beginning of every month, which \\nwill be the benchmark rate for loans that are disbursed in that month.\\n• The ﬂoating rate of interest on all the loans linked to RLLR disbursed by HSBC will be reset on the month following the \\nannouncement by RBI on change of policy repo rate. The reset will be done by the 7th calendar day of the month. (refer to the \\nexample below).\\nExample:\\nA RLLR Linked Home Loan disbursed during Month 1 will be benchmarked against the RLLR of Month 1. The policy repo rate is reviewed \\nby the RBI in the Monetary Policy Committee every 2 months. If the repo rate is changed by the RBI in month 1, the interest will be reset in \\nMonth 2 against the revised RLLR at the beginning of Month 2 (by the 7th calendar day of Month 2). If the repo rate is changed by the RBI \\nin month 2, the interest will be reset in Month 3 against the revised RLLR at the beginning of Month 3 (by the 7th calendar day of Month 3)\\n• A revision in rate of interest would typically lead to a revision in the Home Loan tenure, and the EMI would remain constant, \\nhowever, the Bank reserves the right to change the loan EMI/tenor or a combination of both, which will be duly communicated to \\nyou via email or SMS.\\n• The revised loan interest rate will be notiﬁed to you by SMS, or E-mail or letter as per HSBC’s prevailing policy/uni003B however, SMS will \\nbe the preferred mode.\\n• The applicable rate of interest rate on your loan is linked to the RLLR plus the margin (spread).The margin charged to you will not \\nbe increased throughout the tenure of the loan, except on account of deterioration in the credit risk proﬁle of the borrower.\\n• Your Smart LAP/Smart Home account / Smart Home DLOD/Smart LAP DLOD can be used for other regular banking transactions \\n(deposit & withdrawals). Excess funds over and above the EMI parked by you into the account will result in savings on interest as \\nthe account will compute interest only on the net ledger balance on a daily basis. This interest oﬀset enables you to reduce the \\ninterest paid and thereby resulting in a reduced tenure of the loan.\\n• However, in the event the Excess Funds in the Smart LAP/Smart Home/ Smart Home DLOD/Smart LAP DLOD account are more \\nthan the threshold Limit then the Bank will charge Non-utilization/Commitment Fee as mentioned and agreed in the Key Fact \\nStatement.\\n• The Customer acknowledges that the bank has discretion to change Non-utilization/Commitment fee or ‘Threshold Limit’ basis \\ninternal review with prior notiﬁcation to the customer.\\n• Interest payment – The interest will be levied once in a month and will be computed on the daily outstanding ledger balance basis \\nthe actual number of days in the year. This interest amount will be debited to the Smart Loan itself thereby recovering the interest \\ncomponent of the EMI. For interest servicing loans, only interest will be due for payment. If there is excess funds over and above \\nthe EMI in the smart loan then the monthly EMI will be adjusted from the excess funds parked in the account every month, till this \\nexcess balance is fully exhausted. The smart loan will remain Standard till such time that the EMI is being serviced from the excess \\nfunds parked in the account. If the Borrower(s) does not deposit any funds into the smart loan for EMI recovery in a particular \\nmonth, and if the interest debited for the month results in the smart loan ledger balance exceeding the account limit, the account \\nwill be shown as a delinquent account. The normal Interest rate and the overlimit Interest rate on the account will be kept the same \\nprocedurally and no additional (penal) interest will be levied.\\nChanges in the rate of interest\\n• Your ﬂoating interest rate loan is linked to the Repo Linked Lending Rate (RLLR). Any change in the RLLR would also have an \\nimpact on your rate of interest of your loan\\n• A revision in rate of interest would typically lead to a revision in the Home Loan tenure, and the EMI would remain constant, \\nhowever, the Bank reserves the right to change the loan EMI/tenor or a combination of both, which will be duly communicated to \\nyou via email or SMS.\\nHML_MITC_06/25_v1'),\n",
       " Document(metadata={'producer': 'Adobe PDF library 17.00', 'creator': 'Adobe Illustrator 28.7 (Windows)', 'creationdate': '2025-06-11T15:16:44+06:30', 'author': 'Kriti MANTRI', 'moddate': '2025-06-11T15:16:44+05:30', 'title': 'MITC-home-loans_11-6-25', 'source': 'data/mitc-home-loans.pdf', 'total_pages': 13, 'page': 4, 'page_label': '5'}, page_content='4.  EMI Date\\n• Your EMI date would be either the 1st or the 15th of every month following the month of disbursal. For loans disbursed between \\nthe 1st and the 15th, the EMI would fall on the 1st of the next month and for loans disbursed between the 15th and the 31st of \\nthe month, the EMI would fall on the 15th of the next month.\\n5.  Conditions for disbursement\\n• We may disburse the quantum of loan in lump sum or in instalments, at our own discretion depending on whether the property \\nis under construction or complete in all respects or existing for a certain number of years as acceptable to our internal policies\\n• We would also be at liberty to disburse the loan amount directly to the builder/seller/society as the case may be and as \\nrequested/speciﬁed/ directed by you. We will not be responsible/liable in any manner whatsoever for any delay from your side in \\nproviding such request/speciﬁcation/ direction. You will not claim any costs, charges and expenses in relation to any non-disbursal \\nby us, due to any such delay from your side. If you authorise us to handover the disbursement proceeds to the aforesaid persons \\ndirectly, then after such disbursement as per your instructions, we will be discharged from our liability to make the disbursement\\n• We would be free to stop disbursements of further instalments, on happening of any of the events which will aﬀect the security \\ncreated in any way, i.e. due to stoppage of construction, delay in construction, litigation, acquisition, requisition, reduction in the \\nvalue of the security oﬀered, on happening of any events as stipulated in the loan agreement under the heading ‘Events of default’ \\nor for any other reason as deemed ﬁt by HSBC\\n• Disbursements under the loan shall be made subject to fulﬁlment and compliance with the terms and conditions of the agreement \\nfor loan and furnishing of all other standard documents and writings executed by you and as speciﬁed by HSBC, including the \\nfollowing:\\na. No event of default has occurred or is subsisting.\\nb. You furnishing an evidence that the disbursement requested by yourselves is required for the purpose for which the loan was \\ninitially approved.\\nc. You furnishing such documents, evidences and writings as may be required in connection with the requested disbursement.\\nd. No circumstances shall have occurred which in our opinion, may make it impossible for you to fulﬁl the obligations under \\ndocuments executed or under the terms and conditions of the agreement for loan or other standard documents executed by you \\nfor availing of the loan.\\ne. You delivering the evidence to our satisfaction that all consents, approvals and permissions required to avail of the loan and to \\ncomply with all documentation related to availing of the loan including creation of security, is completed.\\nf. You need to obtain Collateral insurance for the property with an insurance company at all times during the loan tenure, against \\nloss by Fire, Lightning, Implosion/Explosion, STFI (Storm/Tempest/Flood/Inundation), Impact Damage due to Accident, RSMD \\n(Riot/Strike and Malicious Damage), Subsidence and Landslide including Rockslide, Aircraft Damage, Missile Testing, Bush Fire, \\nBursting of Water Tanks, Leakage from Automatic Sprinklers, Earthquake and Terrorism, with The Hongkong and Shanghai \\nBanking Corporation Limited, India, as the beneﬁciary. It is mandatory to have policy cover for minimum of ﬁve years for \\nresidential property and one year for commercial property (or as advised by the Bank) at the time of disbursement and renewal \\nthereafter to cover the remaining tenure of your loan. You are required to furnish copy of the insurance policy with respect to the \\nproperty(ies) endorsed in favour of HSBC as the ﬁnancier/mortgage. In case of non-renewal post the initial period the Bank may \\nrenew the policy on its own and cost of which may be recovered from the customer or charged to the loan account.\\n• The disbursement shall be deemed to have been made to the borrower(s) on the date of actual disbursement of the loan on \\nHSBC’s system or the date of the cheque or the payment advice whichever is earlier. Therefore, the interest on the loan shall \\naccrue in favour of HSBC from the date of the disbursement or cheque/payment advice/pay order/transfer by HSBC whichever is \\nearlier, irrespective of the time taken for the transit/collection/ realisation of the cheque/pay order by the borrower(s). The EMIs on \\nthe loan will commence based on the date of disbursement of the loan\\n• In cases of under-construction properties, we shall have the discretion to disburse the loan without any conditions, however, we \\nmay exercise our discretion to disburse in certain circumstances, only after the construction/improvement of such property has \\ncommenced and you producing documentary proof to us. We shall make disbursements in stages as per the progress of work, in \\nterms of our internal norms and guidelines. You shall not hold us responsible for any delay in the construction/giving possession \\nof/completion of the property by the developer/builder/society to yourselves or for quality, condition, ﬁtness of the property even \\nif we may have approved/sanctioned any facilities to such developer/promoter/builder/ development authority or given you any \\ninformation about such promoter/property/builder/development authority. You shall have to abide by all its obligations as required \\nin case of availing of loan for an under-construction property\\nHML_MITC_06/25_v1'),\n",
       " Document(metadata={'producer': 'Adobe PDF library 17.00', 'creator': 'Adobe Illustrator 28.7 (Windows)', 'creationdate': '2025-06-11T15:16:44+06:30', 'author': 'Kriti MANTRI', 'moddate': '2025-06-11T15:16:44+05:30', 'title': 'MITC-home-loans_11-6-25', 'source': 'data/mitc-home-loans.pdf', 'total_pages': 13, 'page': 5, 'page_label': '6'}, page_content=\"• The Home Loan for Under-construction property is disbursed in tranches and only interest will be levied on the loan amount \\ndisbursed till the time property is completed or upto 3 years from the date of disbursal of the ﬁrst tranche, whichever is earlier\\n• On completion of the property or post 3 years from the date of ﬁrst disbursal of the tranche, whichever is earlier, loan will get \\nautomatically converted from Interest servicing loan to EMI servicing loan without taking any consent of whatsoever nature form \\nthe Borrower(s). Conversion will happen without downsizing the sanctioned loan amount \\n•  If loan is auto converted the EMI will be calculated as follows -\\na. Normal Home Loan - the EMI will be calculated on the sanctioned loan amount. However, the interest will only be charged on the \\ndisbursed amount. The excess amount collected will be apportioned towards the principal outstanding which will lead to faster \\nprincipal prepayment and closure of the loan\\nb. Smart Home Loan / Smart LAP / Smart Home DLOD/Smart LAP DLOD the EMI will be calculated on the disbursed amount and \\nnot the sanctioned loan amount\\n• Once the loan is auto converted the Bank will intimate the customer with revised EMI amount and loan tenure.\\n• The standing instruction given by the borrower(s) to debit his/her/their savings/current account to recover the Pre- EMIs at time of \\ndisbursement of the ﬁrst tranche will be used to recover the EMI post auto conversion of the loan from Pre-EMI to EMI Servicing\\n• After conversion of the loan to EMI Servicing loan, if the Borrower(s) wish avail further tranche disbursal or wish to downsize the \\nloan, he/she/they need to inform the Bank in writing along with necessary documents as requested by Bank from time to time\\n• In case of future tranche disbursal post conversion to EMI Servicing, the account limit as well as the outstanding of the loan will \\nincrease by the tranche amount disbursed. This will lead to an increase in the EMI of the loan\\n• In case you wish to convert your loan to EMI servicing before property completion or 3 years from the disbursal of the ﬁrst tranche \\n(whichever is earlier) you should inform the Bank about the same in writing and also instruct the Bank to convert the Pre-EMI to \\nEMI\\n6. Loan Disbursement\\n Your pre-approval expires after 120 days post which a fresh pre-approval will have to be sought. The pre-approval may be kept \\nopen at the Bank's sole discretion. We may at our sole discretion recall the loan oﬀer/pre-approval at any point of time.\\n7. Repayment\\n• You need to repay the loan in monthly instalments on the EMI date as mentioned in point No 4 herein. You are required to repay \\nthe loan EMI through Standing Instruction from your HSBC account/letter of authority to debit your HSBC account\\n• Your instalment amount would comprise of principal and interest, that are payable in EMIs as set out in the loan agreement/Key \\nFact Statement \\n• For Smart Loans, the interest portion of the EMI will be debited to the smart loan account itself. The principal portion of the EMI \\nwill be recovered by auto reducing the smart loan limit on a monthly basis. You need to ensure the smart loan account is \\nadequately funded for EMI repayment\\n• You would be required to pay outstanding balance, if any, pertaining to his loan account (after payment of all instalments) on the \\nlast EMI date as notiﬁed by us\\n• You would be required to pay the instalments, irrespective of you utilising any of the loan funds disbursed by HSBC from the loan \\naccount as per the disbursal advice signed by yourselves.\\n• You need to ensure that the repayment instrument/instruction is honoured Accordingly, you must ensure that:\\na. Suﬃcient funds are available in the designated account to be debited.\\nb. You do not cancel or put stop payment on the cheques/instruments given towards the loan agreement.\\nc. You do not cancel or vary payment arrangement/Standing Instructions (unless required by us) given towards the loan repayment.\\nd. You do not close or change the account on which repayment instrument is drawn (unless you make an alternate arrangement for \\nthe repayment as agreeable to us).\\nHML_MITC_06/25_v1\"),\n",
       " Document(metadata={'producer': 'Adobe PDF library 17.00', 'creator': 'Adobe Illustrator 28.7 (Windows)', 'creationdate': '2025-06-11T15:16:44+06:30', 'author': 'Kriti MANTRI', 'moddate': '2025-06-11T15:16:44+05:30', 'title': 'MITC-home-loans_11-6-25', 'source': 'data/mitc-home-loans.pdf', 'total_pages': 13, 'page': 6, 'page_label': '7'}, page_content='8.  Default\\n• In the event of default (i.e. non-payment of the EMI amount on the due date, or breach of any clause of the agreement), you will \\nreceive periodic reminders for outstanding payments on your loan account by post,  telephone, e-mail, SMS / WhatsApp \\nmessaging and/or through third parties appointed for collection purposes to remind, follow-up and collect outstanding dues. Any \\nthird party so appointed, shall adhere to the Indian Banks Association’s (IBA) code of conduct on debt collection. You may also \\nrefer to the ‘list of collection agencies’ at: https://www.hsbc.co.in/regulatory-disclosures/\\n• We will follow a deﬁned process in accordance with our guidelines for recovery of dues. The process will involve sending you \\nreminders via notice or by making personal visits and/or repossession of security. Our collection policy is built on fair treatment \\nand persuasion\\n• As per The Reserve Bank of India guidelines, we provide credit information relating to any customer who has availed of a credit \\nfacility, to the Credit Information Companies [CICs] or any other licenced bureau on a monthly basis. The information provided \\nreﬂects the status as at the previous month-end and includes information regarding whether the loan account is regular or \\ndelinquent. In the event a loan account is delinquent as of the date of such reporting and the account is subsequently regularised, \\nthe status of the account will only be updated prospectively, at the time of the next monthly reporting. As per CICs, all changes in \\nyour status are updated within a maximum of 30 days. To avoid any adverse credit history with CICs, you should ensure that timely \\npayment of the amount due on the loan amount is duly made\\n• In an event of default or non-repayment of monthly EMI, borrower accounts shall be ﬂagged as overdue and classiﬁed as Special \\nMention Account (SMA) or Non-Performing Asset (NPA) as per the prevailing RBI guidelines. \\n Example: If due date of a loan account is March 31, 2021, and full dues are not received before the day-end process for this date, \\nthe date of overdue shall be March 31, 2021. If it continues to remain overdue, then this account shall get tagged as SMA-1 upon \\nrunning day-end process on April 30, 2021 i.e. upon completion of a month of being continuously overdue. Accordingly, the date \\nof SMA-1 classiﬁcation for that account shall be April 30, 2021.\\n Similarly, if the account continues to remain overdue, it shall get tagged as SMA-2 upon running day-end process on May 30, 2021 \\nand if continues to remain overdue further, it shall get classiﬁed as NPA upon running day-end process on June 29, 2021. Bank \\nmay change the classiﬁcation logic basis the regulatory guideline from time to time.\\n The above SMA/NPA classiﬁcation approach is applicable to all variants - Normal Loans, Smart Loans and Smart Home / Smart \\nLAP DLOD\\n9. Prepayment and foreclosure\\n• You can prepay/foreclose the loan by giving a notice in writing and pay in accordance with our rules of prepayment/foreclose, \\nalong with charges if any (Please refer to the Loans — Service Charges and Fees section of our website for more details).\\n• If you make a prepayment/pay towards foreclosure by cheque, the payment will take eﬀect only when the cheque is cleared\\n10. Release of Movable/Immovable Property Documents\\n• Bank shall release all the original movable/immovable property documents and remove charges registered with any registry within \\na period of 30 days after full repayment/settlement of the loan account \\n• The original property documents submitted by you as security against your home loan would be returned to your preferred HSBC \\nbranch address as per sanction letter Or to the home-branch address or to your nearest HSBC branch (in the event of your \\npreferred/home branch being non operational on the date of document release) for your collection within 30-days from the date \\nof full repayment/settlement of the loan account for your collection\\n11. Compensation for delay in release of Movable/Immovable Property Documents\\n• In case of delay in releasing of original movable/immovable property documents beyond 30 days after full repayment/settlement \\nof loan, the Bank shall communicate to the borrower reasons for such delay. In case the delay is attributable to the Bank, it shall \\ncompensate the borrower at the rate of `5,000 for each day of delay. Similarly, in case of delay in removal of charge from relevant \\nregistry beyond 30 days after full repayment/settlement of loan, the Bank shall communicate to the borrower reasons for such \\ndelay. In case the delay is attributable to the Bank, it shall compensate the borrower at the rate of `5,000 for each day of delay. \\n• In case of loss/damage to original movable/immovable property documents, either in part or in full, the Bank shall assist the \\nborrower in obtaining duplicate/certiﬁed copies of the movable/ immovable property documents and shall bear the associated \\ncosts, in addition to paying compensation of `5,000 for each day of delay as indicated above. However, in such cases, an \\nadditional time of 30 days will be available to the Bank to complete this procedure and the delayed period compensation will be \\ncalculated thereafter (i.e., after a total period of 60 days).\\nHML_MITC_06/25_v1'),\n",
       " Document(metadata={'producer': 'Adobe PDF library 17.00', 'creator': 'Adobe Illustrator 28.7 (Windows)', 'creationdate': '2025-06-11T15:16:44+06:30', 'author': 'Kriti MANTRI', 'moddate': '2025-06-11T15:16:44+05:30', 'title': 'MITC-home-loans_11-6-25', 'source': 'data/mitc-home-loans.pdf', 'total_pages': 13, 'page': 7, 'page_label': '8'}, page_content='12. Statement of account\\n• We will send across a half-yearly statement of the loan account at your correspondence address registered on the Bank’s record. \\nIf you have signed up for Internet Banking and electronic statement, a paper copy will not be sent to your correspondence address. \\nYou can now instantly access and download the following statements for your active HSBC Home loan and Loan against property \\n(LAP) account from the HSBC India Personal Internet Banking a) Interest certiﬁcate b) Provisional Interest Certiﬁcate c) Repayment \\nTrack record d) Amortization Schedule. If you do not have access to HSBC India Personal Internet Banking and wish to activate it, \\nplease call HSBC PhoneBanking or visit your nearest HSBC Branch and we will be glad to assist you. If you need a copy of the \\nstatement of account, you may call our PhoneBanking service or visit our branch and request for a copy subject to the applicable \\nfee.\\n13. Know Your Customer/Due diligence requirement\\n• In line with the requirements of the HSBC’s policy, the Know Your Customer (KYC) documents along with other documentation \\nneed to be submitted at the time of opening a new account or as and when requested by HSBC.\\n HSBC reserves a right to allow/restrict operations in a newly opened/ existing accounts maintained with HSBC, if the customer is not \\nable to satisfy the due diligence requirements in line with the HSBC’s policy. HSBC reserves a right to block transactions/allow \\noperations in a newly opened/existing accounts maintained with HSBC, if the account deliverables/ welcome letter/welcome pack/bank \\ncorrespondences not limited to account statements, etc., are returned undelivered and HSBC is unable to contact you at the \\naddress/contact number provided by you at the time of account opening/updated in HSBC’s records.\\n14. Sanctions\\n• HSBC and other members of the HSBC Group are required to and may take any action to meet Compliance Obligations relating to or in \\nconnection with the detection, investigation and prevention of Financial Crime (Financial Crime Risk Management Activity) and act in \\naccordance with the laws, regulations and requests of public and regulatory authorities operating in various jurisdictions which relate \\nto Financial Crime. . HSBC may take, and may instruct (or be instructed by) any other member of the HSBC Group to take, any action \\nwhich it or such other member, in its sole and absolute discretion, considers appropriate to take in accordance with all such laws, \\nregulations and requests. Such action may include but is not limited to (a) screening, intercepting and investigating any instruction, \\ncommunication, drawdown request, application for services, or any payment sent to or by you, or on your behalf, (b) investigating the \\nsource of or intended recipient of funds, (c) combining customer information with other related information in the possession of the \\nHSBC Group, and/or (d) making further enquiries as to the status of a person or entity, whether they are subject to a sanctions regime, \\nor conﬁrming your identity and status and (e) share information on a conﬁdential basis with such HSBC Group oﬃces whether located \\nin India or overseas in relation to prevention of Financial Crime. Exceptionally, our Financial Crime Risk Management Activity may lead \\nto us delaying, blocking or refusing the making or clearing of any payment, the processing of your instructions or application for services \\nor the provision of all or part of the services. To the extent permissible by law, neither we nor any other member of HSBC Group shall \\nbe liable to you or any third party in respect of any loss (whether direct or consequential and including, without limitation, loss of proﬁt \\nor interest, however it arose) that was suﬀered or incurred by you or a third party, caused in whole or in part in connection with the \\nundertaking of Financial Crime Risk Management Activity. In certain circumstances, the action which HSBC may take may prevent or \\ncause a delay in the processing of certain information. Therefore, neither HSBC nor any member of the HSBC Group warrants that any \\ninformation on the HSBC’s systems relating to any payment messages or other information and communications which are the subject \\nof any action taken pursuant to this clause is accurate, current or up-to-date at the time it is accessed, whilst such action is being taken.\\n For the purpose of the present clause:\\n ‘Compliance Obligations’ means obligations of the HSBC Group to comply with: (a) laws or international guidance and internal policies \\nor procedures, (b) any demand or request from authorities or reporting, disclosure or other obligations under laws, and (c) laws requiring \\nus to verify the identity of our customers. \\n ‘Financial Crime’ includes money laundering, terrorist ﬁnancing, bribery, corruption, tax evasion, fraud, evasion of economic or trade \\nsanctions, and/or any acts or attempts to circumvent or violate any laws relating to these matters.\\n15. Customer service\\n We’re here to help\\n If you have any questions or would like further information, please contact your Relationship Manager who will be happy to help.\\n You can also,\\n –  Call our PhoneBanking service or\\n –  Visit us at any of our branches or\\nHML_MITC_06/25_v1'),\n",
       " Document(metadata={'producer': 'Adobe PDF library 17.00', 'creator': 'Adobe Illustrator 28.7 (Windows)', 'creationdate': '2025-06-11T15:16:44+06:30', 'author': 'Kriti MANTRI', 'moddate': '2025-06-11T15:16:44+05:30', 'title': 'MITC-home-loans_11-6-25', 'source': 'data/mitc-home-loans.pdf', 'total_pages': 13, 'page': 8, 'page_label': '9'}, page_content='Please note that all grievance/escalations should be marked to:\\n The Nodal Oﬃcer,\\n The Hongkong and Shanghai Banking Corporation Limited, Rajalakshmi, No. 5 and 7 Cathedral Road, Chennai - 600 086, India.\\n Nodal Oﬃcer e-mail: nodaloﬃcerinm@hsbc.co.in \\n You can call the team within Monday to Friday between 9:30a.m.- 6:00p.m. Contact number: 040-65118015/022-71728015.\\n Fax number: +91-022-66476011 and +91-022-49146011\\n16. Disclosures\\n• You acknowledge our right to provide details of your account to third party agencies for the purpose of availing support services of any \\nnature by us, without any speciﬁc consent or authorisation from you or any joint applicants/add-on customers.\\n• HSBC is required to provide information relating to credit history/repayment record of the customer to a credit information company \\n(speciﬁcally authorised by RBI), in terms of the Credit Information Companies (Regulation) Act, 2005/uni003B including information relating to \\nany default committed by the customer in discharge of the customer’s obligation, as HSBC may deem appropriate and necessary, with \\nany existing or future credit bureaus/credit reference agencies as determined by HSBC from time to time. Such entities may further \\nmake available processed information or data or products thereof to banks/ﬁnancial institutions and other credit grantors.\\n• As per Indian Banks Association (IBA) guidelines, we provide information related to our charge on your property against the credit \\nfacility availed by you, to the Central Registry of Securitisation Asset Reconstruction and Security Interest of India (CERSAI). The \\ninformation would reﬂect with CERSAI till your loan account is operational with us. We will de-register our charge on CERSAI records \\nwithin 30 working days of your loan closure.\\n• We have right to recall the loan in the event of you failing to submit all/any post disbursal documents as prescribed by us.\\n• You should seek independent legal advice on the legal status of property being purchased. In case you approach our empanelled lawyer \\nfor legal advice, they will do so on their own volition and we shall not be held liable for any disputes that you may have with them\\n17.  Cross default and cross collateralisation\\n• Your default on any other credit facility agreement or arrangement with the Bank or its successors-interest or with any of the aﬃliates \\nor our Group companies, shall be deemed to be a default across all fund based or non-fund based facilities availed of by you with any \\nof our entities. You agree that the securities charged with the Bank for diﬀerent credit facilities, would be cross collateralized and in the \\nevent of such default, HSBC shall be entitled to exercise any or all our rights under the security documents executed by you with any of \\nour Group entities.\\n18.  Tax representation\\n• You are responsible for fulﬁlling any obligation that you may have with respect to the ﬁling of returns or other required documentation \\nin respect of and the payment of all relevant taxes, including, without limitation, all income, capital gains, wealth and estate duties, \\nstamp duties and any other applicable taxes. The creation and continued operation of your account and/or the acquisition, holding or \\ndisposal of investments or assets in such account, as well as any income, distributions or losses realised in relation to the operation of \\nthe account may expose you to tax consequences depending on a number of factors including, but not limited to, your applicable \\ndomicile, your place of residence, your citizenship or the type of assets you hold in your account. Certain countries may have tax \\nlegislation with extraterritorial eﬀect regardless of your place of domicile, residence or citizenship. The Bank does not provide any legal \\nor tax advice and you should seek legal and/or tax advice from an independent legal and/or tax adviser. You acknowledge and agree \\nthat the Bank has no liability in respect of any of your tax obligations and/or any legal and/or tax advice provided to you by third parties.\\n19.  Smart Home/Smart LAP EMI calculation\\n• Equated Monthly Instalment (EMI) and interest calculation: The EMI of the smart loan is calculated based on 372 days in a year (31 days \\nin a month), however the interest will be computed on the daily outstanding ledger balance basis the actual number of days in the year. \\nThe principal amount will be the diﬀerence between the EMI and the interest amount calculated for the month. This approach implies \\nthat the principal component of a Smart Loan EMI is marginally higher that the interest component. This higher principal component in \\nthe EMI of smart loans results in a faster repayment of the loan.\\n20.  Change of correspondence address, email-ID and Mobile Number\\n• To enable the bank to contact you for any important communication or announcement, you need to notify the Bank regarding any \\nchange of residential address, email-ID and Mobile Number due to relocation or any other reason and you need to get the new address, \\nemail-ID and Mobile Number updated in the Bank’s system within one week of such a change. HML_MITC_06/25_v1'),\n",
       " Document(metadata={'producer': 'Adobe PDF library 17.00', 'creator': 'Adobe Illustrator 28.7 (Windows)', 'creationdate': '2025-06-11T15:16:44+06:30', 'author': 'Kriti MANTRI', 'moddate': '2025-06-11T15:16:44+05:30', 'title': 'MITC-home-loans_11-6-25', 'source': 'data/mitc-home-loans.pdf', 'total_pages': 13, 'page': 9, 'page_label': '10'}, page_content='21.  Foreign Exchange Management Act, 1999 (FEMA) guidelines for Non-Resident Indians\\n Loans disbursed to you should not be utilised for any of the activities listed herewith/uni003B the business of chit fund, or nidhi company, or \\nagricultural or plantation activities or in real estate business, or construction of farm houses/uni003B or trading in Transferable Development \\nRights (TDRs), investment in capital market including margin trading and derivatives. You are required to ensure that the loan amount \\ndisbursed to you is not remitted outside India. You should also ensure that the loan disbursed to you is not credited into your NRE/FCNR \\n(B) accounts. Non-Resident customers can repay the Home Loans or Loan Against Property by one of the following modes only: Debit \\nto their NRE Account/ NRO Account/Inward remittance/liquidation of FCNR/sales proceeds of immovable property on which loan was \\ngranted/Close relative’s (as deﬁned in Companies Act, 1956) bank account. \\n22. Liberalised Remittance Scheme (LRS) guidelines\\n• Please note that the Bank does not extend any kind of credit facilities to resident individuals to facilitate capital account remittance \\ntransaction under the Liberalised Remittance Scheme (LRS). Therefore, utilising the disbursed loan amount towards facilitating current \\naccount remittance transaction under the Liberalised Remittance Scheme (LRS) is prohibited.\\n23.  General points\\n• You should read the application form, all loan facility related documents and the loan agreement carefully understand its contents \\nbefore signing them. You should seek legal advice from your lawyers to ensure that you understand the contents and your obligations. \\nThese terms and conditions and those pertaining to any services provided by HSBC may, at the HSBC’s sole discretion, be changed \\nfrom time to time upon giving the accountholder prior notice or by way of display in HSBC’s premises/website. If the accountholder has \\nany objection pursuant to the change in the terms and condition, he/she can close the account or cancel the services prior to the expiry \\nof the notice period, else the accountholder shall be deemed to have agreed to such change. \\n24.  Additional conditions applicable to Smart Home and Smart LAP DLOD.\\n1. Smart Home / Smart LAP DLOD: Is a dropline overdraft facility wherein the limit will be equal to the amount disbursed to the \\nborrower(s). The limit is reduced on monthly basis by a minimum of the expected principal payment as per the amortization schedule.\\n2. The Smart Home / Smart LAP DLOD: Has an additional feature of interest save to the borrower(s)/uni003B to operationalize the same,  \\n borrower(s) can park surplus funds in the Smart loan to lower interest. The surplus funds are adjusted towards the Smart loan balance  \\n resulting in interest saves, since the interest calculation for the month considers the day end balance (post adjustment of the surplus  \\n funds). Borrower(s) can withdraw surplus funds from the Smart loan to the extent of the available limit on system (diﬀerence of current  \\n limit and the balance in the Smart Home / Smart LAP DLOD ). Whenever any amount is withdrawn from Smart Home / Smart LAP  \\n DLOD, the outstanding Smart Home / Smart LAP DLOD balance is increased accordingly.\\n3. In under-construction projects where the disbursal is construction-linked and released in tranches, the Smart Home / Smart LAP DLOD  \\n limit will be enhanced as and when the subsequent tranches are disbursed.\\n4.  Repayment account: A Saving Bank account will be opened simultaneously with Smart Home/Smart LAP DLOD. Existing HSBC \\nsaving bank account can also be used, however each Smart Home / Smart LAP DLOD will require a separate savings bank account. \\nAdditionally, borrower(s) authorized standing instruction for an amount equivalent to atleast an EMI will be loaded on the Savings Bank \\naccount to enable monthly credits into the Smart Home/Smart LAP DLOD on or prior EMI cycle date, towards EMI dues. The borrower \\nmay also place a request or authorize a standing instruction for periodic transfer of amount from Smart Home / Smart LAP DLOD to \\nlinked saving bank account.\\n Upon maturity/pre-payment/prior Smart Home/Smart LAP DLOD the linked Saving Bank account will be retained until unless \\nBorrower(s) submits a speciﬁc request to the Bank for closure of Savings Bank account.\\n5.  Equated Monthly Instalment (EMI) and Interest calculation: The EMI for the Smart Home/Smart LAP DLOD is calculated based on \\n372 days in a year (31 days in a month), however the interest will be computed on the daily outstanding ledger balance basis the actual \\nnumber of days in the year. The principal amount will be the diﬀerence between the EMI and the interest amount calculated for the \\nmonth. This approach implies that the principal component of a Smart Home/Smart LAP DLOD EMI is marginally higher than the \\ninterest component. This higher principal component in the EMI of Smart Home/Smart LAP DLOD results in a faster repayment of the \\nloan. \\n6.  Principal payment: The principal amount (i.e. the amount by which the Smart Home/Smart LAP DLOD limit will drop in a month) will \\nbe the diﬀerence between the EMI and the interest computed for the month. The principal recovery gets accounted in the Smart Home \\n/ Smart LAP DLOD through a monthly drop in the limit by at least the principal component as per the standard amortization schedule. \\nThe drop in the limit may be higher depending on the interest charge applicable for the month. \\n7.  Interest payment: The interest will be levied once in a month and will be computed on the daily outstanding ledger balance basis the \\nactual number of days in the year. This interest amount will be debited to the Smart Home / Smart LAP DLOD itself thereby recovering \\nthe interest component of the EMI. For interest servicing loans (under-construction property), only interest will be due for payment till \\nthe time property is completed, or upto 3 years from the date of disbursement of the ﬁrst tranche, whichever occurs earlier. \\nHML_MITC_06/25_v1'),\n",
       " Document(metadata={'producer': 'Adobe PDF library 17.00', 'creator': 'Adobe Illustrator 28.7 (Windows)', 'creationdate': '2025-06-11T15:16:44+06:30', 'author': 'Kriti MANTRI', 'moddate': '2025-06-11T15:16:44+05:30', 'title': 'MITC-home-loans_11-6-25', 'source': 'data/mitc-home-loans.pdf', 'total_pages': 13, 'page': 10, 'page_label': '11'}, page_content=\"Illustration:\\nAssuming a Smart Home / Smart LAP DLOD with a limit of `1,000,000/- availed @8.50% for 240 months, at an EMI of `8,782/-. \\nScenario1: Borrower maintains a balance of `100,000/- in the Smart Home / Smart LAP DLOD. i.e. limit utilization is `900,000/-.\\nMonthly interest will be computed on ledger balance of `900,000/- [`1,000,000 (-) 100,000], which is `6,288/-.\\nOn the EMI due date, the Smart Home / Smart LAP DLOD account will be debited with an interest amount of ` 6,288/-, and principal \\nadjustment of `2,494 [ ` 8,782 (-) 6,288] will take place by way of the Smart Home / Smart LAP DLOD limit dropping to ` 997,506/- \\n(`1,000,000-2,494). \\nScenario2: If the borrower maintains `10,50,000/- in the Smart Home / Smart LAP DLOD account during the interest computation period (i.e., \\n`50,000/- over and above the Smart Home / Smart LAP DLOD limit):\\nInterest liability for the given period will be NIL, and the entire EMI amount of INR 8,782/- will be apportioned towards principal dues, by way \\nof the Smart Home / Smart LAP DLOD limit dropping to `991,218/- [`1,000,000 (–) `8,782]. \\nAny credit balance in the account, over and above the Smart Home / Smart LAP DLOD limit may be transferred to the linked savings bank \\naccount at a periodicity decided by bank, without any notiﬁcation to the borrower(s).\\n6.  No EMI credit scenario: The EMI recovery process for the Smart Home / Smart LAP DLOD involves the recovery of the installment \\namount from the savings bank account. This is preceded by the following actions on the Smart Home / Smart LAP DLOD, i.e. interest debit \\nfor the month on due date, followed by lowering of limit to the extent of the principal component i.e. the diﬀerence between EMI amount \\nand interest debited on the day following the due date. If the EMI is not recovered, the Smart Home / Smart LAP DLOD will become \\noverlimit to the extent of the interest amount on the due date. Thereafter, “Out of order” conditions as deﬁned in ‘Critical Conditions for \\nNon-performing asset classiﬁcation’ section below will apply on the. The Smart Home / Smart LAP DLOD will be shown as an overlimit \\naccount. The contracted rate of interest and the rate of interest on the overlimit amount will be the same, with no additional (penal) interest \\nbeing levied.\\n In the event no EMI credit is received in Smart Home / Smart LAP DLOD, however available balance maintained by the borrower in is \\ngreater than interest due for the month, then the borrower will not become overlimit, as the starting position of the was below the exiting \\ncredit limit. Therefore, the Overlimit counter for the Smart Home / Smart LAP DLOD will not be triggered. However, since no new credit \\nhas been received in the Smart Home / Smart LAP DLOD, the 'Out of Order' condition requiring new credits in account to the extent of \\ninterest debits will be triggered and the countdown to NPA status will commence.\\nCritical Conditions for Non-performing asset (NPA) classiﬁcation\\n Borrower(s) needs to comply with below three ‘Out of order ‘conditions to ensure that the account is not classiﬁed as NPA\\n(Non- Performing Asset).\\n •  Borrower to ensure Smart Home / Smart LAP DLOD outstanding balance does not remain continuously in excess of sanctioned Limit  \\n     /drawing power for 90 days.\\n •  Borrower to ensure a credit transaction in Smart Home / Smart LAP DLOD account at least once in every 90 days.\\n •  Borrower to ensure that credits in Smart Home / Smart LAP DLOD are adequate to cover the interest debited during the previous 90  \\n     days period.\\n7.  Excess funds: Borrower(s) shall park funds in the Smart Home / Smart LAP DLOD upto the prevailing Smart Home / Smart LAP DLOD \\nlimit only. Maintaining funds over and above the prevailing Smart Home / Smart LAP DLOD limit leads to a credit balance in the DLOD \\naccount on which no interest saves/beneﬁt will be provided. Any credit balance in the Smart Home / Smart LAP DLOD (over and above \\nthe prevailing limit) may be transferred to linked Savings Bank account at a periodicity decided by bank, without any notiﬁcation to the \\nBorrower(s).\\n8.  Pre-payment: Borrower(s) has an option of prepaying the facility partially or in full by approaching any of the Bank’s service channels. \\nBorrower(s) can request a pre-payment by depositing the amount in the Savings Bank account or by requesting for the available balance \\nin the Smart Home DLOD to be adjusted towards partial or full pre-payment of the Smart Home / Smart LAP DLOD. Any shortfall during \\nclosure will be recovered from the Savings Bank account, subject to availability of clear balance. Once the pre-payment is eﬀected, the \\nSmart Home / Smart LAP DLOD limit will reduce permanently. In case excess funds are received towards the Smart Home / Smart LAP \\nDLOD without any written instruction to pre-pay, the amount will be credited to the Smart Home account which will impact the available \\nbalance in the account.\\n Notwithstanding anything contained herein above, in the event the excess funds in the Smart Home / Smart LAP DLOD account exceeds \\nthe ‘Threshold Limit’ then the Bank may charge Non-utilization/Commitment fee as detailed in the ‘Tariﬀ sheet’ section above, which will \\nbe subject to normal procedures of loan interest compounding. The Borrower(s) acknowledges that the Bank has the discretion to change \\nthe Non-utilization/Commitment fee rate or ‘Threshold Limit’ with prior notiﬁcation to the borrower.\\nHML_MITC_06/25_v1\"),\n",
       " Document(metadata={'producer': 'Adobe PDF library 17.00', 'creator': 'Adobe Illustrator 28.7 (Windows)', 'creationdate': '2025-06-11T15:16:44+06:30', 'author': 'Kriti MANTRI', 'moddate': '2025-06-11T15:16:44+05:30', 'title': 'MITC-home-loans_11-6-25', 'source': 'data/mitc-home-loans.pdf', 'total_pages': 13, 'page': 11, 'page_label': '12'}, page_content='Miscellaneous conditions applicable to Smart Home/LAP DLOD facility\\n • The Borrower(s) undertake not to use the Smart Home / Smart LAP DLOD credit facility being availed herein for remittances for  \\n  capital account transactions under the Liberalized Remittance Scheme (LRS).\\n • Borrower(s) agree than end use of the Smart Home / Smart LAP DLOD cannot be towards any speculative, anti-social , illegal ,  \\n  unproductive or capital market exposure.\\n • Borrower(s) agree that the loan proceeds will be solely used by the borrower(s) for the purpose declared to the bank by\\n  borrower(s) while availing the Smart home DLOD / Smart LAP DLOD. \\n • Further, borrower(s) agree to provide relevant evidences / CA certiﬁcates towards the end use of the Smart Home / Smart LAP  \\n  DLOD funds , as required by bank from time to time.\\n • Borrower(s) agree to comply with all the norms of the various guidelines issued by Reserve Bank of India from time to time  \\n  applicable to overdraft facilities, renewals, including but not limited to Consolidated Circular on Opening of Current Accounts and  \\n  CC/OD Accounts by Banks RBI ( RBI/2022-23/27DOR.CRE.REC.23/ 21.08.008 /2022-23) , Master Circular on Management of  \\n  Advances(RBI/2015-16/77DCBR.BPD.(PCB) MC No.14/13.05.000/2015-16 ), Master Circular - Prudential norms on Income  \\n  Recognition, Asset Classiﬁcation and Provisioning pertaining to Advances ( RBI/2024-25/12 DOR.STR.REC.8/21.04.048/2024-25)  \\n  and the borrower(s) agrees that the Smart Home / Smart LAP DLOD account will be converted to a normal term loan facility after  \\n  providing due notice if the Smart Home / Smart LAP DLOD account is in non-compliance of the aforesaid RBI circulars / not  \\n  meeting speciﬁc criteria in  any of the relevant regulatory guidelines.\\n • Borrower(s) understand that adequate credits in Smart Home / Smart LAP DLOD are done every month, even when surplus funds  \\n  are parked in the Smart Home / Smart LAP DLOD to ensure that Smart Home / Smart LAP DLOD account is not categorized as  \\n  Out of Order and consequently is categorized as a non-performing asset (NPA) as per the Master Circular - Prudential norms on  \\n  Income Recognition, Asset Classiﬁcation and Provisioning pertaining to Advances - RBI/2024-25/12DOR.STR.REC.8/21.04.048  \\n  /2024-25 dated 2nd April 2024.\\n The Out of Order conditions are illustrated below\\n Condition 1 - Outstanding balance in the Smart Home / Smart LAP DLOD account remains continuously in excess of the sanctioned \\nlimit/drawing power for 90 days* (i.e Interest debited every month to Smart Home / Smart LAP DLOD but no EMI credited in Smart \\nHome / Smart LAP DLOD, nor any other funds have been credited in the Smart Home / Smart LAP DLOD). For illustration purpose the \\ninterest debited per month is Rs 130 and EMI is Rs 150.\\n     \\n Condition 2 – No credit in 90 days* (Interest debited every month, and no EMI/other transaction credited Smart Home / Smart LAP \\nDLOD. However, funds already parked in Smart Home / Smart LAP DLOD prior to January which is diﬀerent from condition 1). For \\nillustration, amount already parked in Smart Home / Smart LAP DLOD is Rs 500.\\n \\nPrevious 90* days Interest debits\\n(January, February, March)\\nSmart Home / Smart LAP DLOD \\nclassiﬁed as Non-performing Asset \\n(NPA) since Smart Home/Smart LAP \\nDLOD was overlimit in previous 90 \\ndays due to non-payment of Interest\\nPrevious 90* days credits (including\\nEMI) (January, February, March)\\n130+130+130 = 390\\n0\\n500\\n390\\nNPA\\nAmount already deposited in the Smart\\nHome / Smart LAP DLOD prior to January\\nInterest paid from amount deposited\\nin Smart Home / Smart LAP DLOD\\nNPA classiﬁcation as on 1st April\\nActivity Amount (Rs) Remarks\\nPrevious 90* days Interest debits\\n(January, February, March)\\nSmart Home / Smart LAP DLOD \\nclassiﬁed as Non-performing Asset \\n(NPA) since Smart Home/Smart LAP \\nDLOD was overlimit in previous 90 \\ndays due to non-payment of Interest\\nPrevious 90* days credits (including\\nEMI) (January, February, March)\\nAmount already deposited in\\nthe Smart Home / Smart LAP DLOD\\nInterest paid from amount deposited\\nin Smart Home / Smart LAP DLOD\\nNPA classiﬁcation as on 1st April\\nActivity\\n130+130+130 = 390\\n0\\n0\\n0\\nNPA\\nAmount (Rs) Remarks\\nHML_MITC_06/25_v1'),\n",
       " Document(metadata={'producer': 'Adobe PDF library 17.00', 'creator': 'Adobe Illustrator 28.7 (Windows)', 'creationdate': '2025-06-11T15:16:44+06:30', 'author': 'Kriti MANTRI', 'moddate': '2025-06-11T15:16:44+05:30', 'title': 'MITC-home-loans_11-6-25', 'source': 'data/mitc-home-loans.pdf', 'total_pages': 13, 'page': 12, 'page_label': '13'}, page_content='Condition 3 - Credits are not enough to cover the interest debited during the previous 90 days* period (Interest debited every month, \\nand EMI transaction credited Smart Home / Smart LAP DLOD, however the EMI credits is not suﬃcient to cover interest for 90 days. \\nFunds already credited in Smart Home / Smart LAP DLOD prior to January which is diﬀerent from condition 1 & 2). For illustration, \\namount already parked in Smart Home / Smart LAP DLOD is Rs 500.\\n \\n *90 days refer to rolling 90 days wherein last 90 days debits / credits are checked daily and NPA classiﬁcation is done accordingly.\\n Borrower(s) have understood the above example and understand that if any of the conditions illustrated above is not met then the  \\n Smart Home / Smart LAP DLOD will immediately get classiﬁed as non-performing asset (NPA), despite keeping surplus funds in  \\nSmart Home / Smart LAP DLOD.\\n • Borrower(s) understand that the saving bank account opened with Smart Home/Smart LAP DLOD will be a zero-balance facility  \\n  till Smart Home / Smart LAP DLOD is open/active. Post closure of the Smart Home / Smart LAP DLOD, the minimum balance  \\n  requirement shall be applicable as per saving bank account type. Borrower(s) shall maintain adequate balance in the saving bank  \\n  account to avoid any charges for non-maintenance.\\n • Borrower(s) agree to abide by Opening of current account / overdraft circular issued by RBI and corresponding aggregate banking  \\n  exposure requirements as speciﬁed in the circular. Borrower(s) understand that in the event the aggregate banking exposure for  \\n  any borrower on the Smart Home/ Smart LAP DLOD becomes INR 5 crore or higher and HSBC’s share in the banking exposure is  \\n  less than 10% then, HSBC will convert Smart Home / Smart LAP DLOD to the normal Term loan with due notice of 30 days.\\n • Borrower(s) understand that Smart Home/ Smart LAP DLOD facility renewal will be performed by HSBC annually as per internal  \\n  policies of the HSBC and agree to provide relevant documents / evidence, on timely basis, as and when requested by HSBC to  \\n  complete the annual renewal.\\nChange in the Terms and Conditions of the Agreement\\n The Bank has sole right to amend any of the terms and conditions of the agreement or any product features without assigning any \\nreasons, by giving prior notice of 30 days, The Borrower(s) agree/s that such revisions shall become applicable on expiry of notice. The \\nSmart Home / Smart LAP DLOD facility being extended to the Borrower(s) shall also be subject to additional terms and condition as the \\nBank may stipulate from time-to-time, as an outcome of changes in regulatory/statutory directions.\\nIssued by The Hongkong and Shanghai Banking Corporation Limited, India. Incorporated in Hong Kong SAR with limited liability.\\nPrevious 90* days Interest debits\\n(January, February, March)\\nSmart Home / Smart LAP DLOD classiﬁed \\nas Non-performing Asset (NPA) since sum \\nof credits is lesser than sum of interest \\ndebits in previous 90 days, despite \\nkeeping funds in Smart Home / Smart \\nLAP DLOD for EMI payment.\\nPrevious 90* days credits (including\\nEMI) (January, February, March)\\nAmount already deposited in the Smart\\nHome / Smart LAP DLOD prior to January\\nInterest paid from amount deposited\\nin Smart Home / Smart LAP DLOD\\nNPA classiﬁcation as on 1st April\\nActivity\\n130+130+130 = 390\\n150+150+0=300\\n500\\n390\\nNPA\\nAmount (Rs) Remarks\\nHML_MITC_06/25_v1')]"
      ]
     },
     "execution_count": 9,
     "metadata": {},
     "output_type": "execute_result"
    }
   ],
   "source": [
    "extracted_data"
   ]
  },
  {
   "cell_type": "code",
   "execution_count": 10,
   "metadata": {},
   "outputs": [
    {
     "data": {
      "text/plain": [
       "13"
      ]
     },
     "execution_count": 10,
     "metadata": {},
     "output_type": "execute_result"
    }
   ],
   "source": [
    "len(extracted_data)"
   ]
  },
  {
   "cell_type": "code",
   "execution_count": 11,
   "metadata": {},
   "outputs": [],
   "source": [
    "from typing import List\n",
    "from langchain.schema import Document\n",
    "\n",
    "def filter_to_minimal_docs(docs: List[Document]) -> List[Document]:\n",
    "    \"\"\"\n",
    "    Given a list of Document objects, return a new list of Document objects\n",
    "    containing only 'source' in metadata and the original page_content.\n",
    "    \"\"\"\n",
    "    minimal_docs: List[Document] = []\n",
    "    for doc in docs:\n",
    "        src = doc.metadata.get(\"source\")\n",
    "        minimal_docs.append(\n",
    "            Document(\n",
    "                page_content=doc.page_content,\n",
    "                metadata={\"source\": src}\n",
    "            )\n",
    "        )\n",
    "    return minimal_docs"
   ]
  },
  {
   "cell_type": "code",
   "execution_count": 12,
   "metadata": {},
   "outputs": [],
   "source": [
    "minimal_docs = filter_to_minimal_docs(extracted_data)"
   ]
  },
  {
   "cell_type": "code",
   "execution_count": 13,
   "metadata": {},
   "outputs": [
    {
     "data": {
      "text/plain": [
       "[Document(metadata={'source': 'data/mitc-home-loans.pdf'}, page_content='This MITC covers following loan products: \\ni.  Home Loan\\nii.  Smart Home Loan **\\niii.  Loan Against Property (LAP) \\niv.  Smart Loan Against Property ** \\nv.  Smart Home Drop-line Overdraft (Smart Home DLOD)\\nvi.  Smart Loan Against Property Drop-line Overdraft (Smart LAP DLOD)\\n1. Fees and Charges:\\n• A list of our fees and charges applicable on our Home Loan products are set out in the tariﬀ section of this document and \\nare also updated on our website (www.hsbc.co.in). They are also available upon request at any of our branches across India.\\n• Please be advised that indirect taxes any other amount liable to tax under prevailing Indirect tax Laws would be recovered \\non all our fees and charges.\\n• For Additional information, you can visit any of our branches in India or call HSBC Phone Banking service.\\n \\nTariﬀ  sheet   \\nHome Loan/Smart Home Loan/LAP/Smart LAP/Smart Home DLOD/Smart LAP DLOD \\nProcessing Fee (PF)\\n(Fixed and Floating rate Loans)\\n 1% of the sanctioned loan amount or 10,000, whichever is higher, will be \\napplicable as your PF plus applicable taxes* The fee will be collected from \\nyou in two parts: 5,000 plus applicable taxes is payable upfront along with \\nthe loan application and the balance PF plus applicable taxes* is payable \\nbefore loan disbursal Please note that the PF paid by you is \\nnon-refundable.\\nNon-utilization Fee (Applicable only to Smart Home \\nLoan/Smart LAP and Smart Home DLOD/Smart LAP \\nDLOD) with Commitment Fee variant\\n \\nUp-to 1% fees on amount above 25% of the sanctioned amount In the \\nevent if the Excess Funds in the account are more than 25% of the \\nsanctioned Amount (‘Threshold limit’), then the Bank will charge a \\nNon-utilisation fee/ Commitment fee of 1% p.a. on the balance amount \\nmaintained over and above the Minimum Threshold. Example - If \\nnon-utilisation/Commitment fee fees is 1%, original sanctioned amount \\nis `2,000,000 and limit deﬁned as 25% i.e. `500,000/- In this scenario if \\nthe fund in the account is `600,000, then the non-utilisation \\nfees/Commitment fee of 1% will be charged on `100,000. (This is for \\nillustration purpose only)\\n \\nPenal interest on the delayed instalments on \\naccount of cheque bounce or dishonoured \\nStanding Instruction and on overdue submission of \\nPost Disbursal documents (PDD) on Fixed and \\nFloating rate Loans.\\n \\nPenal Interest has been discontinued eﬀective 1st January 2024. The \\nBank however, reserves the right to review its exiting fees and charges \\nand introduce suitable Penal Charges for non-compliance to key terms \\nand conditions in the loan agreement, after giving prior notice to \\nborrowers.\\n \\n**Smart Home Loan and Smart Loan against Property stand discontinued w.e.f. 1st April 2025.\\nMost Important Terms and Conditions (MITC) \\nHML_MITC_06/25_v1'),\n",
       " Document(metadata={'source': 'data/mitc-home-loans.pdf'}, page_content='Prepayment Charges (Floating rate loans):\\n \\nNIL\\n Prepayment Charges (Fixed rate loans): 5% of the principal outstanding balance/amount prepaid.\\nNote:\\nPrepayment charge will be applicable in the following scenarios:\\ni)  A bulk payment (over and above EMI) that results in a drop in account \\nbalance.\\nii) Any mid-term changes to the ﬁxed rate loan account (for example: \\nswitching from ﬁxed rate to variable rate type etc.).\\niii) The entire ﬁxed rate home loan being paid oﬀ before the end of the \\nﬁxed rate period.\\n  \\n \\nSwitching charges: \\n \\n(i) Floating rate to Fixed rate: `5,000/- \\n(ii) Fixed rate to Floating rate: `5,000 + 5% of the principal outstanding \\nbalance.\\nNote:\\n• Stamping/franking costs as applicable for switching, will be \\n borne by the borrower.\\n• Switching from one variant (ﬂoating/ﬁxed) to other variant will be \\nallowed up to three times during the loan tenure. \\n• The ﬁrst switch will be permissible 12 months after date of \\ndisbursement. \\n• A gap of a minimum of 12 months will be required between two \\nswitches.\\n• Existing borrowers opting to switch from ﬂoating to ﬁxed rate loan \\nmay be required to submit their latest income documents for fresh \\ncredit assessment or make a part-payment to maintain loan \\naﬀordability.\\n• Upon switching from ﬂoating rate to ﬁxed rate, the loan tenure on the \\nﬁxed rate loan would be capped at the residual tenure on the existing \\n(ﬂoating rate) loan, subject to maximum of 240 months.\\n \\n \\n \\n*Please note that basis Goods and Services Tax (GST) regulations and notiﬁed GST rates, Central GST and State/Union Territory GST \\nor Inter- State GST, as applicable, would apply on all our fees and charges with eﬀect from 1 July 2017\\nNote: \\nWe reserve the right to vary charges or fees from time to time by giving you prior notice of not less than 30 days for any variation \\naﬀecting fees and charges under our control or aﬀecting your liabilities or obligations or for such reasonable period as we may \\nspecify in the case of other variations. We will immediately update, on our website, any changes to the tariﬀ. If we have made any \\nchange without notice, we will notify the change within 30 days. If such change is to your disadvantage, you may within 60 days of \\nthe notice, close your account without having to pay any prepayment charge. We would not be bound by a month’s notice for \\nchange in interest rates or any charge levied as a result of regulatory requirements.\\nFloating Rate Loans\\na) The interest rate on your ﬂoating rate loan, is linked to the Bank’s Repo Linked Lending Rate (RLLR). Any revision in the Repo \\nLinked Lending Rate (RLLR) would also have an impact on your interest rate. \\nb) A revision in RLLR, MCLR or any other ﬂoating rate benchmark would typically lead to a revision in the Home Loan tenure, and \\nthe EMI would remain constant, however, the Bank reserves the right to change the loan EMI/tenure or a combination of both, \\nwhich will be duly communicated to you via email or SMS. \\nc) For processing prepayment requests, you are required to send, a written instruction communicating your desire to prepay and \\nintent of reducing either of the loan tenure or EMI. \\nHML_MITC_06/25_v1'),\n",
       " Document(metadata={'source': 'data/mitc-home-loans.pdf'}, page_content='In the absence of clear instruction, we would by default reduce the loan tenure. In case excess funds are received towards the \\nloan account without any written instructions to prepay, for Smart Home Loan/Smart LAP and Smart Home DLOD and Smart \\nLAP DLOD, the amount will be credited to the Smart Home Loan/Smart LAP and Smart Home DLOD and Smart LAP DLOD, \\naccount which will reduce the balance in the account.\\nFixed Rate Loans (Oﬀered with Normal Home loan and Loan against Property variants only).\\na) Fixed rate loans are capped at a maximum tenure of 240 months.\\nb) Fixed rate loans will be priced at the ﬁxed rate of interest announced by the Bank from time to time.\\nc) Switching from one variant (ﬂoating/ﬁxed) to other variant will be allowed up to three times during the loan tenure. \\nd) The ﬁrst switch will be permissible 12 months after date of disbursement. \\ne) A gap of a minimum of 12 months will be required between two switches. \\nf) The pricing for the ﬁxed rate loans is expected to be higher than ﬂoating rate loans. Due to rate diﬀerential and relatively lower \\nmaximum tenure on ﬁxed rate loans (implying higher EMI), existing borrowers opting to switch from ﬂoating to ﬁxed rate loan \\nmay be required to submit their latest income documents for fresh credit assessment or make a part-payment to maintain loan \\naﬀordability.\\ng) Fixed rate loans are currently available under Normal Home/Normal LAP variants only. Borrowers running a Smart Home/ Smart \\nLAP/ Smart Home DLOD/Smart LAP DLOD will need to convert to a Normal Home Loan/LAP variant if they wish to avail the ﬁxed \\nrate option. Applicable conversion and switch charges will apply.\\nh) Upon switching from ﬂoating rate to ﬁxed rate, the loan tenure on the ﬁxed rate loan would be capped at the residual tenure on \\nthe existing (ﬂoating rate) loan, subject to maximum of 240 months.\\nService charges for all products\\nRequest for copy of property documents held with the Bank \\n \\n`500/-\\nLegal and Other Miscellaneous charges:\\nExpenses incurred on proceedings under SARFAESI \\nAct/proceedings under Section 138 of NI Act and/or other \\nlitigation on the account. \\n \\nAs per actuals applicable to an overdue/delinquent\\naccount. \\n \\nConversion Fees\\n \\n`5,000 plus applicable taxes are payable at the time of \\nconverting the loan from Normal to Smart, Smart to Normal or \\nwithin diﬀerent variants of Smart Home / Smart LAP DLOD.\\n \\n \\nSwitching Charges `2,500/-\\nBenchmark rate change from RLR/MCLR/Base rate/ to Repo \\nLinked Lending Rate.\\nExisting loans (disbursed till 30 Sep 2019) which are linked to \\nMCLR, Base Rate, RLR are eligible to switch to RBI’s Repo \\nLinked Lending Rate.\\n \\nRequest for change of EMI date, rescheduling of loans (increase/decrease in EMI/tenure).\\n Request for daily interest calculation details.\\n \\n2.  Services Oﬀered*\\nRequest for duplicate amortisation schedule.  \\nRequest for duplicate copy of welcome pack (amortisation schedule plus key fact statement plus list of \\ndocuments).  \\nRe-pricing request for an active account.  \\nRequest for change of Standing Instructions, change of repayment mode (cheque swap charges).  \\nCopy of track record.  \\nCopy of Credit Information Report (CIR).  \\n *The services oﬀered in this section are currently not chargeable to you.  \\n \\nHML_MITC_06/25_v1'),\n",
       " Document(metadata={'source': 'data/mitc-home-loans.pdf'}, page_content='3. Interest\\n• On a monthly basis, you would be required to repay the principal amount of the loan and interest on the loan at the rate as set out \\nin the agreement.\\n• Interest on your loan accrues on a daily basis on the total outstanding balance on that day, and is compounded and will be payable \\nmonthly on EMI dates as mentioned in point No 4 herein.\\n• If your Equated Monthly Instalment (EMI) date falls on a Sunday/public holiday, your interest will be calculated inclusive of that \\nday and debited on the next working day.\\n• The interest rate on the Floating Rate Loan which is linked to HSBC’s published Repo Linked Lending Rate (RLLR) will undergo \\nre-pricing (i.e. upwards or downwards as the case may be) in line with the movement of the RLLR. Repo rate is normally reviewed \\nby the Monetary Policy Committee at intervals of two months. In case of change in Policy Repo Rate, RLLR will be changed in the \\nbeginning of the following month (by 7th calendar day of the following month). Consequent upon any change in RLLR, the rate of \\ninterest of loans linked to RLLR will undergo a change. The RLLR is published by HSBC at the beginning of every month, which \\nwill be the benchmark rate for loans that are disbursed in that month.\\n• The ﬂoating rate of interest on all the loans linked to RLLR disbursed by HSBC will be reset on the month following the \\nannouncement by RBI on change of policy repo rate. The reset will be done by the 7th calendar day of the month. (refer to the \\nexample below).\\nExample:\\nA RLLR Linked Home Loan disbursed during Month 1 will be benchmarked against the RLLR of Month 1. The policy repo rate is reviewed \\nby the RBI in the Monetary Policy Committee every 2 months. If the repo rate is changed by the RBI in month 1, the interest will be reset in \\nMonth 2 against the revised RLLR at the beginning of Month 2 (by the 7th calendar day of Month 2). If the repo rate is changed by the RBI \\nin month 2, the interest will be reset in Month 3 against the revised RLLR at the beginning of Month 3 (by the 7th calendar day of Month 3)\\n• A revision in rate of interest would typically lead to a revision in the Home Loan tenure, and the EMI would remain constant, \\nhowever, the Bank reserves the right to change the loan EMI/tenor or a combination of both, which will be duly communicated to \\nyou via email or SMS.\\n• The revised loan interest rate will be notiﬁed to you by SMS, or E-mail or letter as per HSBC’s prevailing policy/uni003B however, SMS will \\nbe the preferred mode.\\n• The applicable rate of interest rate on your loan is linked to the RLLR plus the margin (spread).The margin charged to you will not \\nbe increased throughout the tenure of the loan, except on account of deterioration in the credit risk proﬁle of the borrower.\\n• Your Smart LAP/Smart Home account / Smart Home DLOD/Smart LAP DLOD can be used for other regular banking transactions \\n(deposit & withdrawals). Excess funds over and above the EMI parked by you into the account will result in savings on interest as \\nthe account will compute interest only on the net ledger balance on a daily basis. This interest oﬀset enables you to reduce the \\ninterest paid and thereby resulting in a reduced tenure of the loan.\\n• However, in the event the Excess Funds in the Smart LAP/Smart Home/ Smart Home DLOD/Smart LAP DLOD account are more \\nthan the threshold Limit then the Bank will charge Non-utilization/Commitment Fee as mentioned and agreed in the Key Fact \\nStatement.\\n• The Customer acknowledges that the bank has discretion to change Non-utilization/Commitment fee or ‘Threshold Limit’ basis \\ninternal review with prior notiﬁcation to the customer.\\n• Interest payment – The interest will be levied once in a month and will be computed on the daily outstanding ledger balance basis \\nthe actual number of days in the year. This interest amount will be debited to the Smart Loan itself thereby recovering the interest \\ncomponent of the EMI. For interest servicing loans, only interest will be due for payment. If there is excess funds over and above \\nthe EMI in the smart loan then the monthly EMI will be adjusted from the excess funds parked in the account every month, till this \\nexcess balance is fully exhausted. The smart loan will remain Standard till such time that the EMI is being serviced from the excess \\nfunds parked in the account. If the Borrower(s) does not deposit any funds into the smart loan for EMI recovery in a particular \\nmonth, and if the interest debited for the month results in the smart loan ledger balance exceeding the account limit, the account \\nwill be shown as a delinquent account. The normal Interest rate and the overlimit Interest rate on the account will be kept the same \\nprocedurally and no additional (penal) interest will be levied.\\nChanges in the rate of interest\\n• Your ﬂoating interest rate loan is linked to the Repo Linked Lending Rate (RLLR). Any change in the RLLR would also have an \\nimpact on your rate of interest of your loan\\n• A revision in rate of interest would typically lead to a revision in the Home Loan tenure, and the EMI would remain constant, \\nhowever, the Bank reserves the right to change the loan EMI/tenor or a combination of both, which will be duly communicated to \\nyou via email or SMS.\\nHML_MITC_06/25_v1'),\n",
       " Document(metadata={'source': 'data/mitc-home-loans.pdf'}, page_content='4.  EMI Date\\n• Your EMI date would be either the 1st or the 15th of every month following the month of disbursal. For loans disbursed between \\nthe 1st and the 15th, the EMI would fall on the 1st of the next month and for loans disbursed between the 15th and the 31st of \\nthe month, the EMI would fall on the 15th of the next month.\\n5.  Conditions for disbursement\\n• We may disburse the quantum of loan in lump sum or in instalments, at our own discretion depending on whether the property \\nis under construction or complete in all respects or existing for a certain number of years as acceptable to our internal policies\\n• We would also be at liberty to disburse the loan amount directly to the builder/seller/society as the case may be and as \\nrequested/speciﬁed/ directed by you. We will not be responsible/liable in any manner whatsoever for any delay from your side in \\nproviding such request/speciﬁcation/ direction. You will not claim any costs, charges and expenses in relation to any non-disbursal \\nby us, due to any such delay from your side. If you authorise us to handover the disbursement proceeds to the aforesaid persons \\ndirectly, then after such disbursement as per your instructions, we will be discharged from our liability to make the disbursement\\n• We would be free to stop disbursements of further instalments, on happening of any of the events which will aﬀect the security \\ncreated in any way, i.e. due to stoppage of construction, delay in construction, litigation, acquisition, requisition, reduction in the \\nvalue of the security oﬀered, on happening of any events as stipulated in the loan agreement under the heading ‘Events of default’ \\nor for any other reason as deemed ﬁt by HSBC\\n• Disbursements under the loan shall be made subject to fulﬁlment and compliance with the terms and conditions of the agreement \\nfor loan and furnishing of all other standard documents and writings executed by you and as speciﬁed by HSBC, including the \\nfollowing:\\na. No event of default has occurred or is subsisting.\\nb. You furnishing an evidence that the disbursement requested by yourselves is required for the purpose for which the loan was \\ninitially approved.\\nc. You furnishing such documents, evidences and writings as may be required in connection with the requested disbursement.\\nd. No circumstances shall have occurred which in our opinion, may make it impossible for you to fulﬁl the obligations under \\ndocuments executed or under the terms and conditions of the agreement for loan or other standard documents executed by you \\nfor availing of the loan.\\ne. You delivering the evidence to our satisfaction that all consents, approvals and permissions required to avail of the loan and to \\ncomply with all documentation related to availing of the loan including creation of security, is completed.\\nf. You need to obtain Collateral insurance for the property with an insurance company at all times during the loan tenure, against \\nloss by Fire, Lightning, Implosion/Explosion, STFI (Storm/Tempest/Flood/Inundation), Impact Damage due to Accident, RSMD \\n(Riot/Strike and Malicious Damage), Subsidence and Landslide including Rockslide, Aircraft Damage, Missile Testing, Bush Fire, \\nBursting of Water Tanks, Leakage from Automatic Sprinklers, Earthquake and Terrorism, with The Hongkong and Shanghai \\nBanking Corporation Limited, India, as the beneﬁciary. It is mandatory to have policy cover for minimum of ﬁve years for \\nresidential property and one year for commercial property (or as advised by the Bank) at the time of disbursement and renewal \\nthereafter to cover the remaining tenure of your loan. You are required to furnish copy of the insurance policy with respect to the \\nproperty(ies) endorsed in favour of HSBC as the ﬁnancier/mortgage. In case of non-renewal post the initial period the Bank may \\nrenew the policy on its own and cost of which may be recovered from the customer or charged to the loan account.\\n• The disbursement shall be deemed to have been made to the borrower(s) on the date of actual disbursement of the loan on \\nHSBC’s system or the date of the cheque or the payment advice whichever is earlier. Therefore, the interest on the loan shall \\naccrue in favour of HSBC from the date of the disbursement or cheque/payment advice/pay order/transfer by HSBC whichever is \\nearlier, irrespective of the time taken for the transit/collection/ realisation of the cheque/pay order by the borrower(s). The EMIs on \\nthe loan will commence based on the date of disbursement of the loan\\n• In cases of under-construction properties, we shall have the discretion to disburse the loan without any conditions, however, we \\nmay exercise our discretion to disburse in certain circumstances, only after the construction/improvement of such property has \\ncommenced and you producing documentary proof to us. We shall make disbursements in stages as per the progress of work, in \\nterms of our internal norms and guidelines. You shall not hold us responsible for any delay in the construction/giving possession \\nof/completion of the property by the developer/builder/society to yourselves or for quality, condition, ﬁtness of the property even \\nif we may have approved/sanctioned any facilities to such developer/promoter/builder/ development authority or given you any \\ninformation about such promoter/property/builder/development authority. You shall have to abide by all its obligations as required \\nin case of availing of loan for an under-construction property\\nHML_MITC_06/25_v1'),\n",
       " Document(metadata={'source': 'data/mitc-home-loans.pdf'}, page_content=\"• The Home Loan for Under-construction property is disbursed in tranches and only interest will be levied on the loan amount \\ndisbursed till the time property is completed or upto 3 years from the date of disbursal of the ﬁrst tranche, whichever is earlier\\n• On completion of the property or post 3 years from the date of ﬁrst disbursal of the tranche, whichever is earlier, loan will get \\nautomatically converted from Interest servicing loan to EMI servicing loan without taking any consent of whatsoever nature form \\nthe Borrower(s). Conversion will happen without downsizing the sanctioned loan amount \\n•  If loan is auto converted the EMI will be calculated as follows -\\na. Normal Home Loan - the EMI will be calculated on the sanctioned loan amount. However, the interest will only be charged on the \\ndisbursed amount. The excess amount collected will be apportioned towards the principal outstanding which will lead to faster \\nprincipal prepayment and closure of the loan\\nb. Smart Home Loan / Smart LAP / Smart Home DLOD/Smart LAP DLOD the EMI will be calculated on the disbursed amount and \\nnot the sanctioned loan amount\\n• Once the loan is auto converted the Bank will intimate the customer with revised EMI amount and loan tenure.\\n• The standing instruction given by the borrower(s) to debit his/her/their savings/current account to recover the Pre- EMIs at time of \\ndisbursement of the ﬁrst tranche will be used to recover the EMI post auto conversion of the loan from Pre-EMI to EMI Servicing\\n• After conversion of the loan to EMI Servicing loan, if the Borrower(s) wish avail further tranche disbursal or wish to downsize the \\nloan, he/she/they need to inform the Bank in writing along with necessary documents as requested by Bank from time to time\\n• In case of future tranche disbursal post conversion to EMI Servicing, the account limit as well as the outstanding of the loan will \\nincrease by the tranche amount disbursed. This will lead to an increase in the EMI of the loan\\n• In case you wish to convert your loan to EMI servicing before property completion or 3 years from the disbursal of the ﬁrst tranche \\n(whichever is earlier) you should inform the Bank about the same in writing and also instruct the Bank to convert the Pre-EMI to \\nEMI\\n6. Loan Disbursement\\n Your pre-approval expires after 120 days post which a fresh pre-approval will have to be sought. The pre-approval may be kept \\nopen at the Bank's sole discretion. We may at our sole discretion recall the loan oﬀer/pre-approval at any point of time.\\n7. Repayment\\n• You need to repay the loan in monthly instalments on the EMI date as mentioned in point No 4 herein. You are required to repay \\nthe loan EMI through Standing Instruction from your HSBC account/letter of authority to debit your HSBC account\\n• Your instalment amount would comprise of principal and interest, that are payable in EMIs as set out in the loan agreement/Key \\nFact Statement \\n• For Smart Loans, the interest portion of the EMI will be debited to the smart loan account itself. The principal portion of the EMI \\nwill be recovered by auto reducing the smart loan limit on a monthly basis. You need to ensure the smart loan account is \\nadequately funded for EMI repayment\\n• You would be required to pay outstanding balance, if any, pertaining to his loan account (after payment of all instalments) on the \\nlast EMI date as notiﬁed by us\\n• You would be required to pay the instalments, irrespective of you utilising any of the loan funds disbursed by HSBC from the loan \\naccount as per the disbursal advice signed by yourselves.\\n• You need to ensure that the repayment instrument/instruction is honoured Accordingly, you must ensure that:\\na. Suﬃcient funds are available in the designated account to be debited.\\nb. You do not cancel or put stop payment on the cheques/instruments given towards the loan agreement.\\nc. You do not cancel or vary payment arrangement/Standing Instructions (unless required by us) given towards the loan repayment.\\nd. You do not close or change the account on which repayment instrument is drawn (unless you make an alternate arrangement for \\nthe repayment as agreeable to us).\\nHML_MITC_06/25_v1\"),\n",
       " Document(metadata={'source': 'data/mitc-home-loans.pdf'}, page_content='8.  Default\\n• In the event of default (i.e. non-payment of the EMI amount on the due date, or breach of any clause of the agreement), you will \\nreceive periodic reminders for outstanding payments on your loan account by post,  telephone, e-mail, SMS / WhatsApp \\nmessaging and/or through third parties appointed for collection purposes to remind, follow-up and collect outstanding dues. Any \\nthird party so appointed, shall adhere to the Indian Banks Association’s (IBA) code of conduct on debt collection. You may also \\nrefer to the ‘list of collection agencies’ at: https://www.hsbc.co.in/regulatory-disclosures/\\n• We will follow a deﬁned process in accordance with our guidelines for recovery of dues. The process will involve sending you \\nreminders via notice or by making personal visits and/or repossession of security. Our collection policy is built on fair treatment \\nand persuasion\\n• As per The Reserve Bank of India guidelines, we provide credit information relating to any customer who has availed of a credit \\nfacility, to the Credit Information Companies [CICs] or any other licenced bureau on a monthly basis. The information provided \\nreﬂects the status as at the previous month-end and includes information regarding whether the loan account is regular or \\ndelinquent. In the event a loan account is delinquent as of the date of such reporting and the account is subsequently regularised, \\nthe status of the account will only be updated prospectively, at the time of the next monthly reporting. As per CICs, all changes in \\nyour status are updated within a maximum of 30 days. To avoid any adverse credit history with CICs, you should ensure that timely \\npayment of the amount due on the loan amount is duly made\\n• In an event of default or non-repayment of monthly EMI, borrower accounts shall be ﬂagged as overdue and classiﬁed as Special \\nMention Account (SMA) or Non-Performing Asset (NPA) as per the prevailing RBI guidelines. \\n Example: If due date of a loan account is March 31, 2021, and full dues are not received before the day-end process for this date, \\nthe date of overdue shall be March 31, 2021. If it continues to remain overdue, then this account shall get tagged as SMA-1 upon \\nrunning day-end process on April 30, 2021 i.e. upon completion of a month of being continuously overdue. Accordingly, the date \\nof SMA-1 classiﬁcation for that account shall be April 30, 2021.\\n Similarly, if the account continues to remain overdue, it shall get tagged as SMA-2 upon running day-end process on May 30, 2021 \\nand if continues to remain overdue further, it shall get classiﬁed as NPA upon running day-end process on June 29, 2021. Bank \\nmay change the classiﬁcation logic basis the regulatory guideline from time to time.\\n The above SMA/NPA classiﬁcation approach is applicable to all variants - Normal Loans, Smart Loans and Smart Home / Smart \\nLAP DLOD\\n9. Prepayment and foreclosure\\n• You can prepay/foreclose the loan by giving a notice in writing and pay in accordance with our rules of prepayment/foreclose, \\nalong with charges if any (Please refer to the Loans — Service Charges and Fees section of our website for more details).\\n• If you make a prepayment/pay towards foreclosure by cheque, the payment will take eﬀect only when the cheque is cleared\\n10. Release of Movable/Immovable Property Documents\\n• Bank shall release all the original movable/immovable property documents and remove charges registered with any registry within \\na period of 30 days after full repayment/settlement of the loan account \\n• The original property documents submitted by you as security against your home loan would be returned to your preferred HSBC \\nbranch address as per sanction letter Or to the home-branch address or to your nearest HSBC branch (in the event of your \\npreferred/home branch being non operational on the date of document release) for your collection within 30-days from the date \\nof full repayment/settlement of the loan account for your collection\\n11. Compensation for delay in release of Movable/Immovable Property Documents\\n• In case of delay in releasing of original movable/immovable property documents beyond 30 days after full repayment/settlement \\nof loan, the Bank shall communicate to the borrower reasons for such delay. In case the delay is attributable to the Bank, it shall \\ncompensate the borrower at the rate of `5,000 for each day of delay. Similarly, in case of delay in removal of charge from relevant \\nregistry beyond 30 days after full repayment/settlement of loan, the Bank shall communicate to the borrower reasons for such \\ndelay. In case the delay is attributable to the Bank, it shall compensate the borrower at the rate of `5,000 for each day of delay. \\n• In case of loss/damage to original movable/immovable property documents, either in part or in full, the Bank shall assist the \\nborrower in obtaining duplicate/certiﬁed copies of the movable/ immovable property documents and shall bear the associated \\ncosts, in addition to paying compensation of `5,000 for each day of delay as indicated above. However, in such cases, an \\nadditional time of 30 days will be available to the Bank to complete this procedure and the delayed period compensation will be \\ncalculated thereafter (i.e., after a total period of 60 days).\\nHML_MITC_06/25_v1'),\n",
       " Document(metadata={'source': 'data/mitc-home-loans.pdf'}, page_content='12. Statement of account\\n• We will send across a half-yearly statement of the loan account at your correspondence address registered on the Bank’s record. \\nIf you have signed up for Internet Banking and electronic statement, a paper copy will not be sent to your correspondence address. \\nYou can now instantly access and download the following statements for your active HSBC Home loan and Loan against property \\n(LAP) account from the HSBC India Personal Internet Banking a) Interest certiﬁcate b) Provisional Interest Certiﬁcate c) Repayment \\nTrack record d) Amortization Schedule. If you do not have access to HSBC India Personal Internet Banking and wish to activate it, \\nplease call HSBC PhoneBanking or visit your nearest HSBC Branch and we will be glad to assist you. If you need a copy of the \\nstatement of account, you may call our PhoneBanking service or visit our branch and request for a copy subject to the applicable \\nfee.\\n13. Know Your Customer/Due diligence requirement\\n• In line with the requirements of the HSBC’s policy, the Know Your Customer (KYC) documents along with other documentation \\nneed to be submitted at the time of opening a new account or as and when requested by HSBC.\\n HSBC reserves a right to allow/restrict operations in a newly opened/ existing accounts maintained with HSBC, if the customer is not \\nable to satisfy the due diligence requirements in line with the HSBC’s policy. HSBC reserves a right to block transactions/allow \\noperations in a newly opened/existing accounts maintained with HSBC, if the account deliverables/ welcome letter/welcome pack/bank \\ncorrespondences not limited to account statements, etc., are returned undelivered and HSBC is unable to contact you at the \\naddress/contact number provided by you at the time of account opening/updated in HSBC’s records.\\n14. Sanctions\\n• HSBC and other members of the HSBC Group are required to and may take any action to meet Compliance Obligations relating to or in \\nconnection with the detection, investigation and prevention of Financial Crime (Financial Crime Risk Management Activity) and act in \\naccordance with the laws, regulations and requests of public and regulatory authorities operating in various jurisdictions which relate \\nto Financial Crime. . HSBC may take, and may instruct (or be instructed by) any other member of the HSBC Group to take, any action \\nwhich it or such other member, in its sole and absolute discretion, considers appropriate to take in accordance with all such laws, \\nregulations and requests. Such action may include but is not limited to (a) screening, intercepting and investigating any instruction, \\ncommunication, drawdown request, application for services, or any payment sent to or by you, or on your behalf, (b) investigating the \\nsource of or intended recipient of funds, (c) combining customer information with other related information in the possession of the \\nHSBC Group, and/or (d) making further enquiries as to the status of a person or entity, whether they are subject to a sanctions regime, \\nor conﬁrming your identity and status and (e) share information on a conﬁdential basis with such HSBC Group oﬃces whether located \\nin India or overseas in relation to prevention of Financial Crime. Exceptionally, our Financial Crime Risk Management Activity may lead \\nto us delaying, blocking or refusing the making or clearing of any payment, the processing of your instructions or application for services \\nor the provision of all or part of the services. To the extent permissible by law, neither we nor any other member of HSBC Group shall \\nbe liable to you or any third party in respect of any loss (whether direct or consequential and including, without limitation, loss of proﬁt \\nor interest, however it arose) that was suﬀered or incurred by you or a third party, caused in whole or in part in connection with the \\nundertaking of Financial Crime Risk Management Activity. In certain circumstances, the action which HSBC may take may prevent or \\ncause a delay in the processing of certain information. Therefore, neither HSBC nor any member of the HSBC Group warrants that any \\ninformation on the HSBC’s systems relating to any payment messages or other information and communications which are the subject \\nof any action taken pursuant to this clause is accurate, current or up-to-date at the time it is accessed, whilst such action is being taken.\\n For the purpose of the present clause:\\n ‘Compliance Obligations’ means obligations of the HSBC Group to comply with: (a) laws or international guidance and internal policies \\nor procedures, (b) any demand or request from authorities or reporting, disclosure or other obligations under laws, and (c) laws requiring \\nus to verify the identity of our customers. \\n ‘Financial Crime’ includes money laundering, terrorist ﬁnancing, bribery, corruption, tax evasion, fraud, evasion of economic or trade \\nsanctions, and/or any acts or attempts to circumvent or violate any laws relating to these matters.\\n15. Customer service\\n We’re here to help\\n If you have any questions or would like further information, please contact your Relationship Manager who will be happy to help.\\n You can also,\\n –  Call our PhoneBanking service or\\n –  Visit us at any of our branches or\\nHML_MITC_06/25_v1'),\n",
       " Document(metadata={'source': 'data/mitc-home-loans.pdf'}, page_content='Please note that all grievance/escalations should be marked to:\\n The Nodal Oﬃcer,\\n The Hongkong and Shanghai Banking Corporation Limited, Rajalakshmi, No. 5 and 7 Cathedral Road, Chennai - 600 086, India.\\n Nodal Oﬃcer e-mail: nodaloﬃcerinm@hsbc.co.in \\n You can call the team within Monday to Friday between 9:30a.m.- 6:00p.m. Contact number: 040-65118015/022-71728015.\\n Fax number: +91-022-66476011 and +91-022-49146011\\n16. Disclosures\\n• You acknowledge our right to provide details of your account to third party agencies for the purpose of availing support services of any \\nnature by us, without any speciﬁc consent or authorisation from you or any joint applicants/add-on customers.\\n• HSBC is required to provide information relating to credit history/repayment record of the customer to a credit information company \\n(speciﬁcally authorised by RBI), in terms of the Credit Information Companies (Regulation) Act, 2005/uni003B including information relating to \\nany default committed by the customer in discharge of the customer’s obligation, as HSBC may deem appropriate and necessary, with \\nany existing or future credit bureaus/credit reference agencies as determined by HSBC from time to time. Such entities may further \\nmake available processed information or data or products thereof to banks/ﬁnancial institutions and other credit grantors.\\n• As per Indian Banks Association (IBA) guidelines, we provide information related to our charge on your property against the credit \\nfacility availed by you, to the Central Registry of Securitisation Asset Reconstruction and Security Interest of India (CERSAI). The \\ninformation would reﬂect with CERSAI till your loan account is operational with us. We will de-register our charge on CERSAI records \\nwithin 30 working days of your loan closure.\\n• We have right to recall the loan in the event of you failing to submit all/any post disbursal documents as prescribed by us.\\n• You should seek independent legal advice on the legal status of property being purchased. In case you approach our empanelled lawyer \\nfor legal advice, they will do so on their own volition and we shall not be held liable for any disputes that you may have with them\\n17.  Cross default and cross collateralisation\\n• Your default on any other credit facility agreement or arrangement with the Bank or its successors-interest or with any of the aﬃliates \\nor our Group companies, shall be deemed to be a default across all fund based or non-fund based facilities availed of by you with any \\nof our entities. You agree that the securities charged with the Bank for diﬀerent credit facilities, would be cross collateralized and in the \\nevent of such default, HSBC shall be entitled to exercise any or all our rights under the security documents executed by you with any of \\nour Group entities.\\n18.  Tax representation\\n• You are responsible for fulﬁlling any obligation that you may have with respect to the ﬁling of returns or other required documentation \\nin respect of and the payment of all relevant taxes, including, without limitation, all income, capital gains, wealth and estate duties, \\nstamp duties and any other applicable taxes. The creation and continued operation of your account and/or the acquisition, holding or \\ndisposal of investments or assets in such account, as well as any income, distributions or losses realised in relation to the operation of \\nthe account may expose you to tax consequences depending on a number of factors including, but not limited to, your applicable \\ndomicile, your place of residence, your citizenship or the type of assets you hold in your account. Certain countries may have tax \\nlegislation with extraterritorial eﬀect regardless of your place of domicile, residence or citizenship. The Bank does not provide any legal \\nor tax advice and you should seek legal and/or tax advice from an independent legal and/or tax adviser. You acknowledge and agree \\nthat the Bank has no liability in respect of any of your tax obligations and/or any legal and/or tax advice provided to you by third parties.\\n19.  Smart Home/Smart LAP EMI calculation\\n• Equated Monthly Instalment (EMI) and interest calculation: The EMI of the smart loan is calculated based on 372 days in a year (31 days \\nin a month), however the interest will be computed on the daily outstanding ledger balance basis the actual number of days in the year. \\nThe principal amount will be the diﬀerence between the EMI and the interest amount calculated for the month. This approach implies \\nthat the principal component of a Smart Loan EMI is marginally higher that the interest component. This higher principal component in \\nthe EMI of smart loans results in a faster repayment of the loan.\\n20.  Change of correspondence address, email-ID and Mobile Number\\n• To enable the bank to contact you for any important communication or announcement, you need to notify the Bank regarding any \\nchange of residential address, email-ID and Mobile Number due to relocation or any other reason and you need to get the new address, \\nemail-ID and Mobile Number updated in the Bank’s system within one week of such a change. HML_MITC_06/25_v1'),\n",
       " Document(metadata={'source': 'data/mitc-home-loans.pdf'}, page_content='21.  Foreign Exchange Management Act, 1999 (FEMA) guidelines for Non-Resident Indians\\n Loans disbursed to you should not be utilised for any of the activities listed herewith/uni003B the business of chit fund, or nidhi company, or \\nagricultural or plantation activities or in real estate business, or construction of farm houses/uni003B or trading in Transferable Development \\nRights (TDRs), investment in capital market including margin trading and derivatives. You are required to ensure that the loan amount \\ndisbursed to you is not remitted outside India. You should also ensure that the loan disbursed to you is not credited into your NRE/FCNR \\n(B) accounts. Non-Resident customers can repay the Home Loans or Loan Against Property by one of the following modes only: Debit \\nto their NRE Account/ NRO Account/Inward remittance/liquidation of FCNR/sales proceeds of immovable property on which loan was \\ngranted/Close relative’s (as deﬁned in Companies Act, 1956) bank account. \\n22. Liberalised Remittance Scheme (LRS) guidelines\\n• Please note that the Bank does not extend any kind of credit facilities to resident individuals to facilitate capital account remittance \\ntransaction under the Liberalised Remittance Scheme (LRS). Therefore, utilising the disbursed loan amount towards facilitating current \\naccount remittance transaction under the Liberalised Remittance Scheme (LRS) is prohibited.\\n23.  General points\\n• You should read the application form, all loan facility related documents and the loan agreement carefully understand its contents \\nbefore signing them. You should seek legal advice from your lawyers to ensure that you understand the contents and your obligations. \\nThese terms and conditions and those pertaining to any services provided by HSBC may, at the HSBC’s sole discretion, be changed \\nfrom time to time upon giving the accountholder prior notice or by way of display in HSBC’s premises/website. If the accountholder has \\nany objection pursuant to the change in the terms and condition, he/she can close the account or cancel the services prior to the expiry \\nof the notice period, else the accountholder shall be deemed to have agreed to such change. \\n24.  Additional conditions applicable to Smart Home and Smart LAP DLOD.\\n1. Smart Home / Smart LAP DLOD: Is a dropline overdraft facility wherein the limit will be equal to the amount disbursed to the \\nborrower(s). The limit is reduced on monthly basis by a minimum of the expected principal payment as per the amortization schedule.\\n2. The Smart Home / Smart LAP DLOD: Has an additional feature of interest save to the borrower(s)/uni003B to operationalize the same,  \\n borrower(s) can park surplus funds in the Smart loan to lower interest. The surplus funds are adjusted towards the Smart loan balance  \\n resulting in interest saves, since the interest calculation for the month considers the day end balance (post adjustment of the surplus  \\n funds). Borrower(s) can withdraw surplus funds from the Smart loan to the extent of the available limit on system (diﬀerence of current  \\n limit and the balance in the Smart Home / Smart LAP DLOD ). Whenever any amount is withdrawn from Smart Home / Smart LAP  \\n DLOD, the outstanding Smart Home / Smart LAP DLOD balance is increased accordingly.\\n3. In under-construction projects where the disbursal is construction-linked and released in tranches, the Smart Home / Smart LAP DLOD  \\n limit will be enhanced as and when the subsequent tranches are disbursed.\\n4.  Repayment account: A Saving Bank account will be opened simultaneously with Smart Home/Smart LAP DLOD. Existing HSBC \\nsaving bank account can also be used, however each Smart Home / Smart LAP DLOD will require a separate savings bank account. \\nAdditionally, borrower(s) authorized standing instruction for an amount equivalent to atleast an EMI will be loaded on the Savings Bank \\naccount to enable monthly credits into the Smart Home/Smart LAP DLOD on or prior EMI cycle date, towards EMI dues. The borrower \\nmay also place a request or authorize a standing instruction for periodic transfer of amount from Smart Home / Smart LAP DLOD to \\nlinked saving bank account.\\n Upon maturity/pre-payment/prior Smart Home/Smart LAP DLOD the linked Saving Bank account will be retained until unless \\nBorrower(s) submits a speciﬁc request to the Bank for closure of Savings Bank account.\\n5.  Equated Monthly Instalment (EMI) and Interest calculation: The EMI for the Smart Home/Smart LAP DLOD is calculated based on \\n372 days in a year (31 days in a month), however the interest will be computed on the daily outstanding ledger balance basis the actual \\nnumber of days in the year. The principal amount will be the diﬀerence between the EMI and the interest amount calculated for the \\nmonth. This approach implies that the principal component of a Smart Home/Smart LAP DLOD EMI is marginally higher than the \\ninterest component. This higher principal component in the EMI of Smart Home/Smart LAP DLOD results in a faster repayment of the \\nloan. \\n6.  Principal payment: The principal amount (i.e. the amount by which the Smart Home/Smart LAP DLOD limit will drop in a month) will \\nbe the diﬀerence between the EMI and the interest computed for the month. The principal recovery gets accounted in the Smart Home \\n/ Smart LAP DLOD through a monthly drop in the limit by at least the principal component as per the standard amortization schedule. \\nThe drop in the limit may be higher depending on the interest charge applicable for the month. \\n7.  Interest payment: The interest will be levied once in a month and will be computed on the daily outstanding ledger balance basis the \\nactual number of days in the year. This interest amount will be debited to the Smart Home / Smart LAP DLOD itself thereby recovering \\nthe interest component of the EMI. For interest servicing loans (under-construction property), only interest will be due for payment till \\nthe time property is completed, or upto 3 years from the date of disbursement of the ﬁrst tranche, whichever occurs earlier. \\nHML_MITC_06/25_v1'),\n",
       " Document(metadata={'source': 'data/mitc-home-loans.pdf'}, page_content=\"Illustration:\\nAssuming a Smart Home / Smart LAP DLOD with a limit of `1,000,000/- availed @8.50% for 240 months, at an EMI of `8,782/-. \\nScenario1: Borrower maintains a balance of `100,000/- in the Smart Home / Smart LAP DLOD. i.e. limit utilization is `900,000/-.\\nMonthly interest will be computed on ledger balance of `900,000/- [`1,000,000 (-) 100,000], which is `6,288/-.\\nOn the EMI due date, the Smart Home / Smart LAP DLOD account will be debited with an interest amount of ` 6,288/-, and principal \\nadjustment of `2,494 [ ` 8,782 (-) 6,288] will take place by way of the Smart Home / Smart LAP DLOD limit dropping to ` 997,506/- \\n(`1,000,000-2,494). \\nScenario2: If the borrower maintains `10,50,000/- in the Smart Home / Smart LAP DLOD account during the interest computation period (i.e., \\n`50,000/- over and above the Smart Home / Smart LAP DLOD limit):\\nInterest liability for the given period will be NIL, and the entire EMI amount of INR 8,782/- will be apportioned towards principal dues, by way \\nof the Smart Home / Smart LAP DLOD limit dropping to `991,218/- [`1,000,000 (–) `8,782]. \\nAny credit balance in the account, over and above the Smart Home / Smart LAP DLOD limit may be transferred to the linked savings bank \\naccount at a periodicity decided by bank, without any notiﬁcation to the borrower(s).\\n6.  No EMI credit scenario: The EMI recovery process for the Smart Home / Smart LAP DLOD involves the recovery of the installment \\namount from the savings bank account. This is preceded by the following actions on the Smart Home / Smart LAP DLOD, i.e. interest debit \\nfor the month on due date, followed by lowering of limit to the extent of the principal component i.e. the diﬀerence between EMI amount \\nand interest debited on the day following the due date. If the EMI is not recovered, the Smart Home / Smart LAP DLOD will become \\noverlimit to the extent of the interest amount on the due date. Thereafter, “Out of order” conditions as deﬁned in ‘Critical Conditions for \\nNon-performing asset classiﬁcation’ section below will apply on the. The Smart Home / Smart LAP DLOD will be shown as an overlimit \\naccount. The contracted rate of interest and the rate of interest on the overlimit amount will be the same, with no additional (penal) interest \\nbeing levied.\\n In the event no EMI credit is received in Smart Home / Smart LAP DLOD, however available balance maintained by the borrower in is \\ngreater than interest due for the month, then the borrower will not become overlimit, as the starting position of the was below the exiting \\ncredit limit. Therefore, the Overlimit counter for the Smart Home / Smart LAP DLOD will not be triggered. However, since no new credit \\nhas been received in the Smart Home / Smart LAP DLOD, the 'Out of Order' condition requiring new credits in account to the extent of \\ninterest debits will be triggered and the countdown to NPA status will commence.\\nCritical Conditions for Non-performing asset (NPA) classiﬁcation\\n Borrower(s) needs to comply with below three ‘Out of order ‘conditions to ensure that the account is not classiﬁed as NPA\\n(Non- Performing Asset).\\n •  Borrower to ensure Smart Home / Smart LAP DLOD outstanding balance does not remain continuously in excess of sanctioned Limit  \\n     /drawing power for 90 days.\\n •  Borrower to ensure a credit transaction in Smart Home / Smart LAP DLOD account at least once in every 90 days.\\n •  Borrower to ensure that credits in Smart Home / Smart LAP DLOD are adequate to cover the interest debited during the previous 90  \\n     days period.\\n7.  Excess funds: Borrower(s) shall park funds in the Smart Home / Smart LAP DLOD upto the prevailing Smart Home / Smart LAP DLOD \\nlimit only. Maintaining funds over and above the prevailing Smart Home / Smart LAP DLOD limit leads to a credit balance in the DLOD \\naccount on which no interest saves/beneﬁt will be provided. Any credit balance in the Smart Home / Smart LAP DLOD (over and above \\nthe prevailing limit) may be transferred to linked Savings Bank account at a periodicity decided by bank, without any notiﬁcation to the \\nBorrower(s).\\n8.  Pre-payment: Borrower(s) has an option of prepaying the facility partially or in full by approaching any of the Bank’s service channels. \\nBorrower(s) can request a pre-payment by depositing the amount in the Savings Bank account or by requesting for the available balance \\nin the Smart Home DLOD to be adjusted towards partial or full pre-payment of the Smart Home / Smart LAP DLOD. Any shortfall during \\nclosure will be recovered from the Savings Bank account, subject to availability of clear balance. Once the pre-payment is eﬀected, the \\nSmart Home / Smart LAP DLOD limit will reduce permanently. In case excess funds are received towards the Smart Home / Smart LAP \\nDLOD without any written instruction to pre-pay, the amount will be credited to the Smart Home account which will impact the available \\nbalance in the account.\\n Notwithstanding anything contained herein above, in the event the excess funds in the Smart Home / Smart LAP DLOD account exceeds \\nthe ‘Threshold Limit’ then the Bank may charge Non-utilization/Commitment fee as detailed in the ‘Tariﬀ sheet’ section above, which will \\nbe subject to normal procedures of loan interest compounding. The Borrower(s) acknowledges that the Bank has the discretion to change \\nthe Non-utilization/Commitment fee rate or ‘Threshold Limit’ with prior notiﬁcation to the borrower.\\nHML_MITC_06/25_v1\"),\n",
       " Document(metadata={'source': 'data/mitc-home-loans.pdf'}, page_content='Miscellaneous conditions applicable to Smart Home/LAP DLOD facility\\n • The Borrower(s) undertake not to use the Smart Home / Smart LAP DLOD credit facility being availed herein for remittances for  \\n  capital account transactions under the Liberalized Remittance Scheme (LRS).\\n • Borrower(s) agree than end use of the Smart Home / Smart LAP DLOD cannot be towards any speculative, anti-social , illegal ,  \\n  unproductive or capital market exposure.\\n • Borrower(s) agree that the loan proceeds will be solely used by the borrower(s) for the purpose declared to the bank by\\n  borrower(s) while availing the Smart home DLOD / Smart LAP DLOD. \\n • Further, borrower(s) agree to provide relevant evidences / CA certiﬁcates towards the end use of the Smart Home / Smart LAP  \\n  DLOD funds , as required by bank from time to time.\\n • Borrower(s) agree to comply with all the norms of the various guidelines issued by Reserve Bank of India from time to time  \\n  applicable to overdraft facilities, renewals, including but not limited to Consolidated Circular on Opening of Current Accounts and  \\n  CC/OD Accounts by Banks RBI ( RBI/2022-23/27DOR.CRE.REC.23/ 21.08.008 /2022-23) , Master Circular on Management of  \\n  Advances(RBI/2015-16/77DCBR.BPD.(PCB) MC No.14/13.05.000/2015-16 ), Master Circular - Prudential norms on Income  \\n  Recognition, Asset Classiﬁcation and Provisioning pertaining to Advances ( RBI/2024-25/12 DOR.STR.REC.8/21.04.048/2024-25)  \\n  and the borrower(s) agrees that the Smart Home / Smart LAP DLOD account will be converted to a normal term loan facility after  \\n  providing due notice if the Smart Home / Smart LAP DLOD account is in non-compliance of the aforesaid RBI circulars / not  \\n  meeting speciﬁc criteria in  any of the relevant regulatory guidelines.\\n • Borrower(s) understand that adequate credits in Smart Home / Smart LAP DLOD are done every month, even when surplus funds  \\n  are parked in the Smart Home / Smart LAP DLOD to ensure that Smart Home / Smart LAP DLOD account is not categorized as  \\n  Out of Order and consequently is categorized as a non-performing asset (NPA) as per the Master Circular - Prudential norms on  \\n  Income Recognition, Asset Classiﬁcation and Provisioning pertaining to Advances - RBI/2024-25/12DOR.STR.REC.8/21.04.048  \\n  /2024-25 dated 2nd April 2024.\\n The Out of Order conditions are illustrated below\\n Condition 1 - Outstanding balance in the Smart Home / Smart LAP DLOD account remains continuously in excess of the sanctioned \\nlimit/drawing power for 90 days* (i.e Interest debited every month to Smart Home / Smart LAP DLOD but no EMI credited in Smart \\nHome / Smart LAP DLOD, nor any other funds have been credited in the Smart Home / Smart LAP DLOD). For illustration purpose the \\ninterest debited per month is Rs 130 and EMI is Rs 150.\\n     \\n Condition 2 – No credit in 90 days* (Interest debited every month, and no EMI/other transaction credited Smart Home / Smart LAP \\nDLOD. However, funds already parked in Smart Home / Smart LAP DLOD prior to January which is diﬀerent from condition 1). For \\nillustration, amount already parked in Smart Home / Smart LAP DLOD is Rs 500.\\n \\nPrevious 90* days Interest debits\\n(January, February, March)\\nSmart Home / Smart LAP DLOD \\nclassiﬁed as Non-performing Asset \\n(NPA) since Smart Home/Smart LAP \\nDLOD was overlimit in previous 90 \\ndays due to non-payment of Interest\\nPrevious 90* days credits (including\\nEMI) (January, February, March)\\n130+130+130 = 390\\n0\\n500\\n390\\nNPA\\nAmount already deposited in the Smart\\nHome / Smart LAP DLOD prior to January\\nInterest paid from amount deposited\\nin Smart Home / Smart LAP DLOD\\nNPA classiﬁcation as on 1st April\\nActivity Amount (Rs) Remarks\\nPrevious 90* days Interest debits\\n(January, February, March)\\nSmart Home / Smart LAP DLOD \\nclassiﬁed as Non-performing Asset \\n(NPA) since Smart Home/Smart LAP \\nDLOD was overlimit in previous 90 \\ndays due to non-payment of Interest\\nPrevious 90* days credits (including\\nEMI) (January, February, March)\\nAmount already deposited in\\nthe Smart Home / Smart LAP DLOD\\nInterest paid from amount deposited\\nin Smart Home / Smart LAP DLOD\\nNPA classiﬁcation as on 1st April\\nActivity\\n130+130+130 = 390\\n0\\n0\\n0\\nNPA\\nAmount (Rs) Remarks\\nHML_MITC_06/25_v1'),\n",
       " Document(metadata={'source': 'data/mitc-home-loans.pdf'}, page_content='Condition 3 - Credits are not enough to cover the interest debited during the previous 90 days* period (Interest debited every month, \\nand EMI transaction credited Smart Home / Smart LAP DLOD, however the EMI credits is not suﬃcient to cover interest for 90 days. \\nFunds already credited in Smart Home / Smart LAP DLOD prior to January which is diﬀerent from condition 1 & 2). For illustration, \\namount already parked in Smart Home / Smart LAP DLOD is Rs 500.\\n \\n *90 days refer to rolling 90 days wherein last 90 days debits / credits are checked daily and NPA classiﬁcation is done accordingly.\\n Borrower(s) have understood the above example and understand that if any of the conditions illustrated above is not met then the  \\n Smart Home / Smart LAP DLOD will immediately get classiﬁed as non-performing asset (NPA), despite keeping surplus funds in  \\nSmart Home / Smart LAP DLOD.\\n • Borrower(s) understand that the saving bank account opened with Smart Home/Smart LAP DLOD will be a zero-balance facility  \\n  till Smart Home / Smart LAP DLOD is open/active. Post closure of the Smart Home / Smart LAP DLOD, the minimum balance  \\n  requirement shall be applicable as per saving bank account type. Borrower(s) shall maintain adequate balance in the saving bank  \\n  account to avoid any charges for non-maintenance.\\n • Borrower(s) agree to abide by Opening of current account / overdraft circular issued by RBI and corresponding aggregate banking  \\n  exposure requirements as speciﬁed in the circular. Borrower(s) understand that in the event the aggregate banking exposure for  \\n  any borrower on the Smart Home/ Smart LAP DLOD becomes INR 5 crore or higher and HSBC’s share in the banking exposure is  \\n  less than 10% then, HSBC will convert Smart Home / Smart LAP DLOD to the normal Term loan with due notice of 30 days.\\n • Borrower(s) understand that Smart Home/ Smart LAP DLOD facility renewal will be performed by HSBC annually as per internal  \\n  policies of the HSBC and agree to provide relevant documents / evidence, on timely basis, as and when requested by HSBC to  \\n  complete the annual renewal.\\nChange in the Terms and Conditions of the Agreement\\n The Bank has sole right to amend any of the terms and conditions of the agreement or any product features without assigning any \\nreasons, by giving prior notice of 30 days, The Borrower(s) agree/s that such revisions shall become applicable on expiry of notice. The \\nSmart Home / Smart LAP DLOD facility being extended to the Borrower(s) shall also be subject to additional terms and condition as the \\nBank may stipulate from time-to-time, as an outcome of changes in regulatory/statutory directions.\\nIssued by The Hongkong and Shanghai Banking Corporation Limited, India. Incorporated in Hong Kong SAR with limited liability.\\nPrevious 90* days Interest debits\\n(January, February, March)\\nSmart Home / Smart LAP DLOD classiﬁed \\nas Non-performing Asset (NPA) since sum \\nof credits is lesser than sum of interest \\ndebits in previous 90 days, despite \\nkeeping funds in Smart Home / Smart \\nLAP DLOD for EMI payment.\\nPrevious 90* days credits (including\\nEMI) (January, February, March)\\nAmount already deposited in the Smart\\nHome / Smart LAP DLOD prior to January\\nInterest paid from amount deposited\\nin Smart Home / Smart LAP DLOD\\nNPA classiﬁcation as on 1st April\\nActivity\\n130+130+130 = 390\\n150+150+0=300\\n500\\n390\\nNPA\\nAmount (Rs) Remarks\\nHML_MITC_06/25_v1')]"
      ]
     },
     "execution_count": 13,
     "metadata": {},
     "output_type": "execute_result"
    }
   ],
   "source": [
    "minimal_docs"
   ]
  },
  {
   "cell_type": "code",
   "execution_count": 14,
   "metadata": {},
   "outputs": [],
   "source": [
    "# Split the documents into smaller chunks\n",
    "def text_split(minimal_docs):\n",
    "    text_splitter = RecursiveCharacterTextSplitter(\n",
    "        chunk_size=500,\n",
    "        chunk_overlap=20,\n",
    "    )\n",
    "    texts_chunk = text_splitter.split_documents(minimal_docs)\n",
    "    return texts_chunk"
   ]
  },
  {
   "cell_type": "code",
   "execution_count": 15,
   "metadata": {},
   "outputs": [
    {
     "name": "stdout",
     "output_type": "stream",
     "text": [
      "Number of chunks: 140\n"
     ]
    }
   ],
   "source": [
    "texts_chunk = text_split(minimal_docs)\n",
    "print(f\"Number of chunks: {len(texts_chunk)}\")"
   ]
  },
  {
   "cell_type": "code",
   "execution_count": 16,
   "metadata": {},
   "outputs": [
    {
     "data": {
      "text/plain": [
       "[Document(metadata={'source': 'data/mitc-home-loans.pdf'}, page_content='This MITC covers following loan products: \\ni.  Home Loan\\nii.  Smart Home Loan **\\niii.  Loan Against Property (LAP) \\niv.  Smart Loan Against Property ** \\nv.  Smart Home Drop-line Overdraft (Smart Home DLOD)\\nvi.  Smart Loan Against Property Drop-line Overdraft (Smart LAP DLOD)\\n1. Fees and Charges:\\n• A list of our fees and charges applicable on our Home Loan products are set out in the tariﬀ section of this document and'),\n",
       " Document(metadata={'source': 'data/mitc-home-loans.pdf'}, page_content='are also updated on our website (www.hsbc.co.in). They are also available upon request at any of our branches across India.\\n• Please be advised that indirect taxes any other amount liable to tax under prevailing Indirect tax Laws would be recovered \\non all our fees and charges.\\n• For Additional information, you can visit any of our branches in India or call HSBC Phone Banking service.\\n \\nTariﬀ  sheet   \\nHome Loan/Smart Home Loan/LAP/Smart LAP/Smart Home DLOD/Smart LAP DLOD \\nProcessing Fee (PF)'),\n",
       " Document(metadata={'source': 'data/mitc-home-loans.pdf'}, page_content='Processing Fee (PF)\\n(Fixed and Floating rate Loans)\\n 1% of the sanctioned loan amount or 10,000, whichever is higher, will be \\napplicable as your PF plus applicable taxes* The fee will be collected from \\nyou in two parts: 5,000 plus applicable taxes is payable upfront along with \\nthe loan application and the balance PF plus applicable taxes* is payable \\nbefore loan disbursal Please note that the PF paid by you is \\nnon-refundable.\\nNon-utilization Fee (Applicable only to Smart Home'),\n",
       " Document(metadata={'source': 'data/mitc-home-loans.pdf'}, page_content='Loan/Smart LAP and Smart Home DLOD/Smart LAP \\nDLOD) with Commitment Fee variant\\n \\nUp-to 1% fees on amount above 25% of the sanctioned amount In the \\nevent if the Excess Funds in the account are more than 25% of the \\nsanctioned Amount (‘Threshold limit’), then the Bank will charge a \\nNon-utilisation fee/ Commitment fee of 1% p.a. on the balance amount \\nmaintained over and above the Minimum Threshold. Example - If \\nnon-utilisation/Commitment fee fees is 1%, original sanctioned amount'),\n",
       " Document(metadata={'source': 'data/mitc-home-loans.pdf'}, page_content='is `2,000,000 and limit deﬁned as 25% i.e. `500,000/- In this scenario if \\nthe fund in the account is `600,000, then the non-utilisation \\nfees/Commitment fee of 1% will be charged on `100,000. (This is for \\nillustration purpose only)\\n \\nPenal interest on the delayed instalments on \\naccount of cheque bounce or dishonoured \\nStanding Instruction and on overdue submission of \\nPost Disbursal documents (PDD) on Fixed and \\nFloating rate Loans.'),\n",
       " Document(metadata={'source': 'data/mitc-home-loans.pdf'}, page_content='Penal Interest has been discontinued eﬀective 1st January 2024. The \\nBank however, reserves the right to review its exiting fees and charges \\nand introduce suitable Penal Charges for non-compliance to key terms \\nand conditions in the loan agreement, after giving prior notice to \\nborrowers.\\n \\n**Smart Home Loan and Smart Loan against Property stand discontinued w.e.f. 1st April 2025.\\nMost Important Terms and Conditions (MITC) \\nHML_MITC_06/25_v1'),\n",
       " Document(metadata={'source': 'data/mitc-home-loans.pdf'}, page_content='Prepayment Charges (Floating rate loans):\\n \\nNIL\\n Prepayment Charges (Fixed rate loans): 5% of the principal outstanding balance/amount prepaid.\\nNote:\\nPrepayment charge will be applicable in the following scenarios:\\ni)  A bulk payment (over and above EMI) that results in a drop in account \\nbalance.\\nii) Any mid-term changes to the ﬁxed rate loan account (for example: \\nswitching from ﬁxed rate to variable rate type etc.).\\niii) The entire ﬁxed rate home loan being paid oﬀ before the end of the'),\n",
       " Document(metadata={'source': 'data/mitc-home-loans.pdf'}, page_content='ﬁxed rate period.\\n  \\n \\nSwitching charges: \\n \\n(i) Floating rate to Fixed rate: `5,000/- \\n(ii) Fixed rate to Floating rate: `5,000 + 5% of the principal outstanding \\nbalance.\\nNote:\\n• Stamping/franking costs as applicable for switching, will be \\n borne by the borrower.\\n• Switching from one variant (ﬂoating/ﬁxed) to other variant will be \\nallowed up to three times during the loan tenure. \\n• The ﬁrst switch will be permissible 12 months after date of \\ndisbursement.'),\n",
       " Document(metadata={'source': 'data/mitc-home-loans.pdf'}, page_content='disbursement. \\n• A gap of a minimum of 12 months will be required between two \\nswitches.\\n• Existing borrowers opting to switch from ﬂoating to ﬁxed rate loan \\nmay be required to submit their latest income documents for fresh \\ncredit assessment or make a part-payment to maintain loan \\naﬀordability.\\n• Upon switching from ﬂoating rate to ﬁxed rate, the loan tenure on the \\nﬁxed rate loan would be capped at the residual tenure on the existing \\n(ﬂoating rate) loan, subject to maximum of 240 months.'),\n",
       " Document(metadata={'source': 'data/mitc-home-loans.pdf'}, page_content='*Please note that basis Goods and Services Tax (GST) regulations and notiﬁed GST rates, Central GST and State/Union Territory GST \\nor Inter- State GST, as applicable, would apply on all our fees and charges with eﬀect from 1 July 2017\\nNote: \\nWe reserve the right to vary charges or fees from time to time by giving you prior notice of not less than 30 days for any variation'),\n",
       " Document(metadata={'source': 'data/mitc-home-loans.pdf'}, page_content='aﬀecting fees and charges under our control or aﬀecting your liabilities or obligations or for such reasonable period as we may \\nspecify in the case of other variations. We will immediately update, on our website, any changes to the tariﬀ. If we have made any \\nchange without notice, we will notify the change within 30 days. If such change is to your disadvantage, you may within 60 days of'),\n",
       " Document(metadata={'source': 'data/mitc-home-loans.pdf'}, page_content='the notice, close your account without having to pay any prepayment charge. We would not be bound by a month’s notice for \\nchange in interest rates or any charge levied as a result of regulatory requirements.\\nFloating Rate Loans\\na) The interest rate on your ﬂoating rate loan, is linked to the Bank’s Repo Linked Lending Rate (RLLR). Any revision in the Repo \\nLinked Lending Rate (RLLR) would also have an impact on your interest rate.'),\n",
       " Document(metadata={'source': 'data/mitc-home-loans.pdf'}, page_content='b) A revision in RLLR, MCLR or any other ﬂoating rate benchmark would typically lead to a revision in the Home Loan tenure, and \\nthe EMI would remain constant, however, the Bank reserves the right to change the loan EMI/tenure or a combination of both, \\nwhich will be duly communicated to you via email or SMS. \\nc) For processing prepayment requests, you are required to send, a written instruction communicating your desire to prepay and \\nintent of reducing either of the loan tenure or EMI.'),\n",
       " Document(metadata={'source': 'data/mitc-home-loans.pdf'}, page_content='HML_MITC_06/25_v1'),\n",
       " Document(metadata={'source': 'data/mitc-home-loans.pdf'}, page_content='In the absence of clear instruction, we would by default reduce the loan tenure. In case excess funds are received towards the \\nloan account without any written instructions to prepay, for Smart Home Loan/Smart LAP and Smart Home DLOD and Smart \\nLAP DLOD, the amount will be credited to the Smart Home Loan/Smart LAP and Smart Home DLOD and Smart LAP DLOD, \\naccount which will reduce the balance in the account.\\nFixed Rate Loans (Oﬀered with Normal Home loan and Loan against Property variants only).'),\n",
       " Document(metadata={'source': 'data/mitc-home-loans.pdf'}, page_content='a) Fixed rate loans are capped at a maximum tenure of 240 months.\\nb) Fixed rate loans will be priced at the ﬁxed rate of interest announced by the Bank from time to time.\\nc) Switching from one variant (ﬂoating/ﬁxed) to other variant will be allowed up to three times during the loan tenure. \\nd) The ﬁrst switch will be permissible 12 months after date of disbursement. \\ne) A gap of a minimum of 12 months will be required between two switches.'),\n",
       " Document(metadata={'source': 'data/mitc-home-loans.pdf'}, page_content='f) The pricing for the ﬁxed rate loans is expected to be higher than ﬂoating rate loans. Due to rate diﬀerential and relatively lower \\nmaximum tenure on ﬁxed rate loans (implying higher EMI), existing borrowers opting to switch from ﬂoating to ﬁxed rate loan \\nmay be required to submit their latest income documents for fresh credit assessment or make a part-payment to maintain loan \\naﬀordability.'),\n",
       " Document(metadata={'source': 'data/mitc-home-loans.pdf'}, page_content='aﬀordability.\\ng) Fixed rate loans are currently available under Normal Home/Normal LAP variants only. Borrowers running a Smart Home/ Smart \\nLAP/ Smart Home DLOD/Smart LAP DLOD will need to convert to a Normal Home Loan/LAP variant if they wish to avail the ﬁxed \\nrate option. Applicable conversion and switch charges will apply.\\nh) Upon switching from ﬂoating rate to ﬁxed rate, the loan tenure on the ﬁxed rate loan would be capped at the residual tenure on'),\n",
       " Document(metadata={'source': 'data/mitc-home-loans.pdf'}, page_content='the existing (ﬂoating rate) loan, subject to maximum of 240 months.\\nService charges for all products\\nRequest for copy of property documents held with the Bank \\n \\n`500/-\\nLegal and Other Miscellaneous charges:\\nExpenses incurred on proceedings under SARFAESI \\nAct/proceedings under Section 138 of NI Act and/or other \\nlitigation on the account. \\n \\nAs per actuals applicable to an overdue/delinquent\\naccount. \\n \\nConversion Fees\\n \\n`5,000 plus applicable taxes are payable at the time of'),\n",
       " Document(metadata={'source': 'data/mitc-home-loans.pdf'}, page_content='converting the loan from Normal to Smart, Smart to Normal or \\nwithin diﬀerent variants of Smart Home / Smart LAP DLOD.\\n \\n \\nSwitching Charges `2,500/-\\nBenchmark rate change from RLR/MCLR/Base rate/ to Repo \\nLinked Lending Rate.\\nExisting loans (disbursed till 30 Sep 2019) which are linked to \\nMCLR, Base Rate, RLR are eligible to switch to RBI’s Repo \\nLinked Lending Rate.\\n \\nRequest for change of EMI date, rescheduling of loans (increase/decrease in EMI/tenure).'),\n",
       " Document(metadata={'source': 'data/mitc-home-loans.pdf'}, page_content='Request for daily interest calculation details.\\n \\n2.  Services Oﬀered*\\nRequest for duplicate amortisation schedule.  \\nRequest for duplicate copy of welcome pack (amortisation schedule plus key fact statement plus list of \\ndocuments).  \\nRe-pricing request for an active account.  \\nRequest for change of Standing Instructions, change of repayment mode (cheque swap charges).  \\nCopy of track record.  \\nCopy of Credit Information Report (CIR).'),\n",
       " Document(metadata={'source': 'data/mitc-home-loans.pdf'}, page_content='*The services oﬀered in this section are currently not chargeable to you.  \\n \\nHML_MITC_06/25_v1'),\n",
       " Document(metadata={'source': 'data/mitc-home-loans.pdf'}, page_content='3. Interest\\n• On a monthly basis, you would be required to repay the principal amount of the loan and interest on the loan at the rate as set out \\nin the agreement.\\n• Interest on your loan accrues on a daily basis on the total outstanding balance on that day, and is compounded and will be payable \\nmonthly on EMI dates as mentioned in point No 4 herein.\\n• If your Equated Monthly Instalment (EMI) date falls on a Sunday/public holiday, your interest will be calculated inclusive of that'),\n",
       " Document(metadata={'source': 'data/mitc-home-loans.pdf'}, page_content='day and debited on the next working day.\\n• The interest rate on the Floating Rate Loan which is linked to HSBC’s published Repo Linked Lending Rate (RLLR) will undergo \\nre-pricing (i.e. upwards or downwards as the case may be) in line with the movement of the RLLR. Repo rate is normally reviewed \\nby the Monetary Policy Committee at intervals of two months. In case of change in Policy Repo Rate, RLLR will be changed in the'),\n",
       " Document(metadata={'source': 'data/mitc-home-loans.pdf'}, page_content='beginning of the following month (by 7th calendar day of the following month). Consequent upon any change in RLLR, the rate of \\ninterest of loans linked to RLLR will undergo a change. The RLLR is published by HSBC at the beginning of every month, which \\nwill be the benchmark rate for loans that are disbursed in that month.\\n• The ﬂoating rate of interest on all the loans linked to RLLR disbursed by HSBC will be reset on the month following the'),\n",
       " Document(metadata={'source': 'data/mitc-home-loans.pdf'}, page_content='announcement by RBI on change of policy repo rate. The reset will be done by the 7th calendar day of the month. (refer to the \\nexample below).\\nExample:\\nA RLLR Linked Home Loan disbursed during Month 1 will be benchmarked against the RLLR of Month 1. The policy repo rate is reviewed \\nby the RBI in the Monetary Policy Committee every 2 months. If the repo rate is changed by the RBI in month 1, the interest will be reset in'),\n",
       " Document(metadata={'source': 'data/mitc-home-loans.pdf'}, page_content='Month 2 against the revised RLLR at the beginning of Month 2 (by the 7th calendar day of Month 2). If the repo rate is changed by the RBI \\nin month 2, the interest will be reset in Month 3 against the revised RLLR at the beginning of Month 3 (by the 7th calendar day of Month 3)\\n• A revision in rate of interest would typically lead to a revision in the Home Loan tenure, and the EMI would remain constant,'),\n",
       " Document(metadata={'source': 'data/mitc-home-loans.pdf'}, page_content='however, the Bank reserves the right to change the loan EMI/tenor or a combination of both, which will be duly communicated to \\nyou via email or SMS.\\n• The revised loan interest rate will be notiﬁed to you by SMS, or E-mail or letter as per HSBC’s prevailing policy/uni003B however, SMS will \\nbe the preferred mode.\\n• The applicable rate of interest rate on your loan is linked to the RLLR plus the margin (spread).The margin charged to you will not'),\n",
       " Document(metadata={'source': 'data/mitc-home-loans.pdf'}, page_content='be increased throughout the tenure of the loan, except on account of deterioration in the credit risk proﬁle of the borrower.\\n• Your Smart LAP/Smart Home account / Smart Home DLOD/Smart LAP DLOD can be used for other regular banking transactions \\n(deposit & withdrawals). Excess funds over and above the EMI parked by you into the account will result in savings on interest as'),\n",
       " Document(metadata={'source': 'data/mitc-home-loans.pdf'}, page_content='the account will compute interest only on the net ledger balance on a daily basis. This interest oﬀset enables you to reduce the \\ninterest paid and thereby resulting in a reduced tenure of the loan.\\n• However, in the event the Excess Funds in the Smart LAP/Smart Home/ Smart Home DLOD/Smart LAP DLOD account are more \\nthan the threshold Limit then the Bank will charge Non-utilization/Commitment Fee as mentioned and agreed in the Key Fact \\nStatement.'),\n",
       " Document(metadata={'source': 'data/mitc-home-loans.pdf'}, page_content='Statement.\\n• The Customer acknowledges that the bank has discretion to change Non-utilization/Commitment fee or ‘Threshold Limit’ basis \\ninternal review with prior notiﬁcation to the customer.\\n• Interest payment – The interest will be levied once in a month and will be computed on the daily outstanding ledger balance basis \\nthe actual number of days in the year. This interest amount will be debited to the Smart Loan itself thereby recovering the interest'),\n",
       " Document(metadata={'source': 'data/mitc-home-loans.pdf'}, page_content='component of the EMI. For interest servicing loans, only interest will be due for payment. If there is excess funds over and above \\nthe EMI in the smart loan then the monthly EMI will be adjusted from the excess funds parked in the account every month, till this \\nexcess balance is fully exhausted. The smart loan will remain Standard till such time that the EMI is being serviced from the excess'),\n",
       " Document(metadata={'source': 'data/mitc-home-loans.pdf'}, page_content='funds parked in the account. If the Borrower(s) does not deposit any funds into the smart loan for EMI recovery in a particular \\nmonth, and if the interest debited for the month results in the smart loan ledger balance exceeding the account limit, the account \\nwill be shown as a delinquent account. The normal Interest rate and the overlimit Interest rate on the account will be kept the same \\nprocedurally and no additional (penal) interest will be levied.\\nChanges in the rate of interest'),\n",
       " Document(metadata={'source': 'data/mitc-home-loans.pdf'}, page_content='• Your ﬂoating interest rate loan is linked to the Repo Linked Lending Rate (RLLR). Any change in the RLLR would also have an \\nimpact on your rate of interest of your loan\\n• A revision in rate of interest would typically lead to a revision in the Home Loan tenure, and the EMI would remain constant, \\nhowever, the Bank reserves the right to change the loan EMI/tenor or a combination of both, which will be duly communicated to \\nyou via email or SMS.\\nHML_MITC_06/25_v1'),\n",
       " Document(metadata={'source': 'data/mitc-home-loans.pdf'}, page_content='4.  EMI Date\\n• Your EMI date would be either the 1st or the 15th of every month following the month of disbursal. For loans disbursed between \\nthe 1st and the 15th, the EMI would fall on the 1st of the next month and for loans disbursed between the 15th and the 31st of \\nthe month, the EMI would fall on the 15th of the next month.\\n5.  Conditions for disbursement\\n• We may disburse the quantum of loan in lump sum or in instalments, at our own discretion depending on whether the property'),\n",
       " Document(metadata={'source': 'data/mitc-home-loans.pdf'}, page_content='is under construction or complete in all respects or existing for a certain number of years as acceptable to our internal policies\\n• We would also be at liberty to disburse the loan amount directly to the builder/seller/society as the case may be and as \\nrequested/speciﬁed/ directed by you. We will not be responsible/liable in any manner whatsoever for any delay from your side in'),\n",
       " Document(metadata={'source': 'data/mitc-home-loans.pdf'}, page_content='providing such request/speciﬁcation/ direction. You will not claim any costs, charges and expenses in relation to any non-disbursal \\nby us, due to any such delay from your side. If you authorise us to handover the disbursement proceeds to the aforesaid persons \\ndirectly, then after such disbursement as per your instructions, we will be discharged from our liability to make the disbursement'),\n",
       " Document(metadata={'source': 'data/mitc-home-loans.pdf'}, page_content='• We would be free to stop disbursements of further instalments, on happening of any of the events which will aﬀect the security \\ncreated in any way, i.e. due to stoppage of construction, delay in construction, litigation, acquisition, requisition, reduction in the \\nvalue of the security oﬀered, on happening of any events as stipulated in the loan agreement under the heading ‘Events of default’ \\nor for any other reason as deemed ﬁt by HSBC'),\n",
       " Document(metadata={'source': 'data/mitc-home-loans.pdf'}, page_content='• Disbursements under the loan shall be made subject to fulﬁlment and compliance with the terms and conditions of the agreement \\nfor loan and furnishing of all other standard documents and writings executed by you and as speciﬁed by HSBC, including the \\nfollowing:\\na. No event of default has occurred or is subsisting.\\nb. You furnishing an evidence that the disbursement requested by yourselves is required for the purpose for which the loan was \\ninitially approved.'),\n",
       " Document(metadata={'source': 'data/mitc-home-loans.pdf'}, page_content='initially approved.\\nc. You furnishing such documents, evidences and writings as may be required in connection with the requested disbursement.\\nd. No circumstances shall have occurred which in our opinion, may make it impossible for you to fulﬁl the obligations under \\ndocuments executed or under the terms and conditions of the agreement for loan or other standard documents executed by you \\nfor availing of the loan.'),\n",
       " Document(metadata={'source': 'data/mitc-home-loans.pdf'}, page_content='e. You delivering the evidence to our satisfaction that all consents, approvals and permissions required to avail of the loan and to \\ncomply with all documentation related to availing of the loan including creation of security, is completed.\\nf. You need to obtain Collateral insurance for the property with an insurance company at all times during the loan tenure, against \\nloss by Fire, Lightning, Implosion/Explosion, STFI (Storm/Tempest/Flood/Inundation), Impact Damage due to Accident, RSMD'),\n",
       " Document(metadata={'source': 'data/mitc-home-loans.pdf'}, page_content='(Riot/Strike and Malicious Damage), Subsidence and Landslide including Rockslide, Aircraft Damage, Missile Testing, Bush Fire, \\nBursting of Water Tanks, Leakage from Automatic Sprinklers, Earthquake and Terrorism, with The Hongkong and Shanghai \\nBanking Corporation Limited, India, as the beneﬁciary. It is mandatory to have policy cover for minimum of ﬁve years for \\nresidential property and one year for commercial property (or as advised by the Bank) at the time of disbursement and renewal'),\n",
       " Document(metadata={'source': 'data/mitc-home-loans.pdf'}, page_content='thereafter to cover the remaining tenure of your loan. You are required to furnish copy of the insurance policy with respect to the \\nproperty(ies) endorsed in favour of HSBC as the ﬁnancier/mortgage. In case of non-renewal post the initial period the Bank may \\nrenew the policy on its own and cost of which may be recovered from the customer or charged to the loan account.\\n• The disbursement shall be deemed to have been made to the borrower(s) on the date of actual disbursement of the loan on'),\n",
       " Document(metadata={'source': 'data/mitc-home-loans.pdf'}, page_content='HSBC’s system or the date of the cheque or the payment advice whichever is earlier. Therefore, the interest on the loan shall \\naccrue in favour of HSBC from the date of the disbursement or cheque/payment advice/pay order/transfer by HSBC whichever is \\nearlier, irrespective of the time taken for the transit/collection/ realisation of the cheque/pay order by the borrower(s). The EMIs on \\nthe loan will commence based on the date of disbursement of the loan'),\n",
       " Document(metadata={'source': 'data/mitc-home-loans.pdf'}, page_content='• In cases of under-construction properties, we shall have the discretion to disburse the loan without any conditions, however, we \\nmay exercise our discretion to disburse in certain circumstances, only after the construction/improvement of such property has \\ncommenced and you producing documentary proof to us. We shall make disbursements in stages as per the progress of work, in'),\n",
       " Document(metadata={'source': 'data/mitc-home-loans.pdf'}, page_content='terms of our internal norms and guidelines. You shall not hold us responsible for any delay in the construction/giving possession \\nof/completion of the property by the developer/builder/society to yourselves or for quality, condition, ﬁtness of the property even \\nif we may have approved/sanctioned any facilities to such developer/promoter/builder/ development authority or given you any'),\n",
       " Document(metadata={'source': 'data/mitc-home-loans.pdf'}, page_content='information about such promoter/property/builder/development authority. You shall have to abide by all its obligations as required \\nin case of availing of loan for an under-construction property\\nHML_MITC_06/25_v1'),\n",
       " Document(metadata={'source': 'data/mitc-home-loans.pdf'}, page_content='• The Home Loan for Under-construction property is disbursed in tranches and only interest will be levied on the loan amount \\ndisbursed till the time property is completed or upto 3 years from the date of disbursal of the ﬁrst tranche, whichever is earlier\\n• On completion of the property or post 3 years from the date of ﬁrst disbursal of the tranche, whichever is earlier, loan will get'),\n",
       " Document(metadata={'source': 'data/mitc-home-loans.pdf'}, page_content='automatically converted from Interest servicing loan to EMI servicing loan without taking any consent of whatsoever nature form \\nthe Borrower(s). Conversion will happen without downsizing the sanctioned loan amount \\n•  If loan is auto converted the EMI will be calculated as follows -\\na. Normal Home Loan - the EMI will be calculated on the sanctioned loan amount. However, the interest will only be charged on the'),\n",
       " Document(metadata={'source': 'data/mitc-home-loans.pdf'}, page_content='disbursed amount. The excess amount collected will be apportioned towards the principal outstanding which will lead to faster \\nprincipal prepayment and closure of the loan\\nb. Smart Home Loan / Smart LAP / Smart Home DLOD/Smart LAP DLOD the EMI will be calculated on the disbursed amount and \\nnot the sanctioned loan amount\\n• Once the loan is auto converted the Bank will intimate the customer with revised EMI amount and loan tenure.'),\n",
       " Document(metadata={'source': 'data/mitc-home-loans.pdf'}, page_content='• The standing instruction given by the borrower(s) to debit his/her/their savings/current account to recover the Pre- EMIs at time of \\ndisbursement of the ﬁrst tranche will be used to recover the EMI post auto conversion of the loan from Pre-EMI to EMI Servicing\\n• After conversion of the loan to EMI Servicing loan, if the Borrower(s) wish avail further tranche disbursal or wish to downsize the'),\n",
       " Document(metadata={'source': 'data/mitc-home-loans.pdf'}, page_content='loan, he/she/they need to inform the Bank in writing along with necessary documents as requested by Bank from time to time\\n• In case of future tranche disbursal post conversion to EMI Servicing, the account limit as well as the outstanding of the loan will \\nincrease by the tranche amount disbursed. This will lead to an increase in the EMI of the loan\\n• In case you wish to convert your loan to EMI servicing before property completion or 3 years from the disbursal of the ﬁrst tranche'),\n",
       " Document(metadata={'source': 'data/mitc-home-loans.pdf'}, page_content=\"(whichever is earlier) you should inform the Bank about the same in writing and also instruct the Bank to convert the Pre-EMI to \\nEMI\\n6. Loan Disbursement\\n Your pre-approval expires after 120 days post which a fresh pre-approval will have to be sought. The pre-approval may be kept \\nopen at the Bank's sole discretion. We may at our sole discretion recall the loan oﬀer/pre-approval at any point of time.\\n7. Repayment\"),\n",
       " Document(metadata={'source': 'data/mitc-home-loans.pdf'}, page_content='7. Repayment\\n• You need to repay the loan in monthly instalments on the EMI date as mentioned in point No 4 herein. You are required to repay \\nthe loan EMI through Standing Instruction from your HSBC account/letter of authority to debit your HSBC account\\n• Your instalment amount would comprise of principal and interest, that are payable in EMIs as set out in the loan agreement/Key \\nFact Statement'),\n",
       " Document(metadata={'source': 'data/mitc-home-loans.pdf'}, page_content='Fact Statement \\n• For Smart Loans, the interest portion of the EMI will be debited to the smart loan account itself. The principal portion of the EMI \\nwill be recovered by auto reducing the smart loan limit on a monthly basis. You need to ensure the smart loan account is \\nadequately funded for EMI repayment\\n• You would be required to pay outstanding balance, if any, pertaining to his loan account (after payment of all instalments) on the \\nlast EMI date as notiﬁed by us'),\n",
       " Document(metadata={'source': 'data/mitc-home-loans.pdf'}, page_content='• You would be required to pay the instalments, irrespective of you utilising any of the loan funds disbursed by HSBC from the loan \\naccount as per the disbursal advice signed by yourselves.\\n• You need to ensure that the repayment instrument/instruction is honoured Accordingly, you must ensure that:\\na. Suﬃcient funds are available in the designated account to be debited.\\nb. You do not cancel or put stop payment on the cheques/instruments given towards the loan agreement.'),\n",
       " Document(metadata={'source': 'data/mitc-home-loans.pdf'}, page_content='c. You do not cancel or vary payment arrangement/Standing Instructions (unless required by us) given towards the loan repayment.\\nd. You do not close or change the account on which repayment instrument is drawn (unless you make an alternate arrangement for \\nthe repayment as agreeable to us).\\nHML_MITC_06/25_v1'),\n",
       " Document(metadata={'source': 'data/mitc-home-loans.pdf'}, page_content='8.  Default\\n• In the event of default (i.e. non-payment of the EMI amount on the due date, or breach of any clause of the agreement), you will \\nreceive periodic reminders for outstanding payments on your loan account by post,  telephone, e-mail, SMS / WhatsApp \\nmessaging and/or through third parties appointed for collection purposes to remind, follow-up and collect outstanding dues. Any'),\n",
       " Document(metadata={'source': 'data/mitc-home-loans.pdf'}, page_content='third party so appointed, shall adhere to the Indian Banks Association’s (IBA) code of conduct on debt collection. You may also \\nrefer to the ‘list of collection agencies’ at: https://www.hsbc.co.in/regulatory-disclosures/\\n• We will follow a deﬁned process in accordance with our guidelines for recovery of dues. The process will involve sending you \\nreminders via notice or by making personal visits and/or repossession of security. Our collection policy is built on fair treatment \\nand persuasion'),\n",
       " Document(metadata={'source': 'data/mitc-home-loans.pdf'}, page_content='and persuasion\\n• As per The Reserve Bank of India guidelines, we provide credit information relating to any customer who has availed of a credit \\nfacility, to the Credit Information Companies [CICs] or any other licenced bureau on a monthly basis. The information provided \\nreﬂects the status as at the previous month-end and includes information regarding whether the loan account is regular or'),\n",
       " Document(metadata={'source': 'data/mitc-home-loans.pdf'}, page_content='delinquent. In the event a loan account is delinquent as of the date of such reporting and the account is subsequently regularised, \\nthe status of the account will only be updated prospectively, at the time of the next monthly reporting. As per CICs, all changes in \\nyour status are updated within a maximum of 30 days. To avoid any adverse credit history with CICs, you should ensure that timely \\npayment of the amount due on the loan amount is duly made'),\n",
       " Document(metadata={'source': 'data/mitc-home-loans.pdf'}, page_content='• In an event of default or non-repayment of monthly EMI, borrower accounts shall be ﬂagged as overdue and classiﬁed as Special \\nMention Account (SMA) or Non-Performing Asset (NPA) as per the prevailing RBI guidelines. \\n Example: If due date of a loan account is March 31, 2021, and full dues are not received before the day-end process for this date, \\nthe date of overdue shall be March 31, 2021. If it continues to remain overdue, then this account shall get tagged as SMA-1 upon'),\n",
       " Document(metadata={'source': 'data/mitc-home-loans.pdf'}, page_content='running day-end process on April 30, 2021 i.e. upon completion of a month of being continuously overdue. Accordingly, the date \\nof SMA-1 classiﬁcation for that account shall be April 30, 2021.\\n Similarly, if the account continues to remain overdue, it shall get tagged as SMA-2 upon running day-end process on May 30, 2021 \\nand if continues to remain overdue further, it shall get classiﬁed as NPA upon running day-end process on June 29, 2021. Bank'),\n",
       " Document(metadata={'source': 'data/mitc-home-loans.pdf'}, page_content='may change the classiﬁcation logic basis the regulatory guideline from time to time.\\n The above SMA/NPA classiﬁcation approach is applicable to all variants - Normal Loans, Smart Loans and Smart Home / Smart \\nLAP DLOD\\n9. Prepayment and foreclosure\\n• You can prepay/foreclose the loan by giving a notice in writing and pay in accordance with our rules of prepayment/foreclose, \\nalong with charges if any (Please refer to the Loans — Service Charges and Fees section of our website for more details).'),\n",
       " Document(metadata={'source': 'data/mitc-home-loans.pdf'}, page_content='• If you make a prepayment/pay towards foreclosure by cheque, the payment will take eﬀect only when the cheque is cleared\\n10. Release of Movable/Immovable Property Documents\\n• Bank shall release all the original movable/immovable property documents and remove charges registered with any registry within \\na period of 30 days after full repayment/settlement of the loan account'),\n",
       " Document(metadata={'source': 'data/mitc-home-loans.pdf'}, page_content='• The original property documents submitted by you as security against your home loan would be returned to your preferred HSBC \\nbranch address as per sanction letter Or to the home-branch address or to your nearest HSBC branch (in the event of your \\npreferred/home branch being non operational on the date of document release) for your collection within 30-days from the date \\nof full repayment/settlement of the loan account for your collection'),\n",
       " Document(metadata={'source': 'data/mitc-home-loans.pdf'}, page_content='11. Compensation for delay in release of Movable/Immovable Property Documents\\n• In case of delay in releasing of original movable/immovable property documents beyond 30 days after full repayment/settlement \\nof loan, the Bank shall communicate to the borrower reasons for such delay. In case the delay is attributable to the Bank, it shall \\ncompensate the borrower at the rate of `5,000 for each day of delay. Similarly, in case of delay in removal of charge from relevant'),\n",
       " Document(metadata={'source': 'data/mitc-home-loans.pdf'}, page_content='registry beyond 30 days after full repayment/settlement of loan, the Bank shall communicate to the borrower reasons for such \\ndelay. In case the delay is attributable to the Bank, it shall compensate the borrower at the rate of `5,000 for each day of delay. \\n• In case of loss/damage to original movable/immovable property documents, either in part or in full, the Bank shall assist the'),\n",
       " Document(metadata={'source': 'data/mitc-home-loans.pdf'}, page_content='borrower in obtaining duplicate/certiﬁed copies of the movable/ immovable property documents and shall bear the associated \\ncosts, in addition to paying compensation of `5,000 for each day of delay as indicated above. However, in such cases, an \\nadditional time of 30 days will be available to the Bank to complete this procedure and the delayed period compensation will be \\ncalculated thereafter (i.e., after a total period of 60 days).\\nHML_MITC_06/25_v1'),\n",
       " Document(metadata={'source': 'data/mitc-home-loans.pdf'}, page_content='12. Statement of account\\n• We will send across a half-yearly statement of the loan account at your correspondence address registered on the Bank’s record. \\nIf you have signed up for Internet Banking and electronic statement, a paper copy will not be sent to your correspondence address. \\nYou can now instantly access and download the following statements for your active HSBC Home loan and Loan against property'),\n",
       " Document(metadata={'source': 'data/mitc-home-loans.pdf'}, page_content='(LAP) account from the HSBC India Personal Internet Banking a) Interest certiﬁcate b) Provisional Interest Certiﬁcate c) Repayment \\nTrack record d) Amortization Schedule. If you do not have access to HSBC India Personal Internet Banking and wish to activate it, \\nplease call HSBC PhoneBanking or visit your nearest HSBC Branch and we will be glad to assist you. If you need a copy of the'),\n",
       " Document(metadata={'source': 'data/mitc-home-loans.pdf'}, page_content='statement of account, you may call our PhoneBanking service or visit our branch and request for a copy subject to the applicable \\nfee.\\n13. Know Your Customer/Due diligence requirement\\n• In line with the requirements of the HSBC’s policy, the Know Your Customer (KYC) documents along with other documentation \\nneed to be submitted at the time of opening a new account or as and when requested by HSBC.'),\n",
       " Document(metadata={'source': 'data/mitc-home-loans.pdf'}, page_content='HSBC reserves a right to allow/restrict operations in a newly opened/ existing accounts maintained with HSBC, if the customer is not \\nable to satisfy the due diligence requirements in line with the HSBC’s policy. HSBC reserves a right to block transactions/allow \\noperations in a newly opened/existing accounts maintained with HSBC, if the account deliverables/ welcome letter/welcome pack/bank'),\n",
       " Document(metadata={'source': 'data/mitc-home-loans.pdf'}, page_content='correspondences not limited to account statements, etc., are returned undelivered and HSBC is unable to contact you at the \\naddress/contact number provided by you at the time of account opening/updated in HSBC’s records.\\n14. Sanctions\\n• HSBC and other members of the HSBC Group are required to and may take any action to meet Compliance Obligations relating to or in'),\n",
       " Document(metadata={'source': 'data/mitc-home-loans.pdf'}, page_content='connection with the detection, investigation and prevention of Financial Crime (Financial Crime Risk Management Activity) and act in \\naccordance with the laws, regulations and requests of public and regulatory authorities operating in various jurisdictions which relate \\nto Financial Crime. . HSBC may take, and may instruct (or be instructed by) any other member of the HSBC Group to take, any action'),\n",
       " Document(metadata={'source': 'data/mitc-home-loans.pdf'}, page_content='which it or such other member, in its sole and absolute discretion, considers appropriate to take in accordance with all such laws, \\nregulations and requests. Such action may include but is not limited to (a) screening, intercepting and investigating any instruction, \\ncommunication, drawdown request, application for services, or any payment sent to or by you, or on your behalf, (b) investigating the'),\n",
       " Document(metadata={'source': 'data/mitc-home-loans.pdf'}, page_content='source of or intended recipient of funds, (c) combining customer information with other related information in the possession of the \\nHSBC Group, and/or (d) making further enquiries as to the status of a person or entity, whether they are subject to a sanctions regime, \\nor conﬁrming your identity and status and (e) share information on a conﬁdential basis with such HSBC Group oﬃces whether located'),\n",
       " Document(metadata={'source': 'data/mitc-home-loans.pdf'}, page_content='in India or overseas in relation to prevention of Financial Crime. Exceptionally, our Financial Crime Risk Management Activity may lead \\nto us delaying, blocking or refusing the making or clearing of any payment, the processing of your instructions or application for services \\nor the provision of all or part of the services. To the extent permissible by law, neither we nor any other member of HSBC Group shall'),\n",
       " Document(metadata={'source': 'data/mitc-home-loans.pdf'}, page_content='be liable to you or any third party in respect of any loss (whether direct or consequential and including, without limitation, loss of proﬁt \\nor interest, however it arose) that was suﬀered or incurred by you or a third party, caused in whole or in part in connection with the \\nundertaking of Financial Crime Risk Management Activity. In certain circumstances, the action which HSBC may take may prevent or'),\n",
       " Document(metadata={'source': 'data/mitc-home-loans.pdf'}, page_content='cause a delay in the processing of certain information. Therefore, neither HSBC nor any member of the HSBC Group warrants that any \\ninformation on the HSBC’s systems relating to any payment messages or other information and communications which are the subject \\nof any action taken pursuant to this clause is accurate, current or up-to-date at the time it is accessed, whilst such action is being taken.\\n For the purpose of the present clause:'),\n",
       " Document(metadata={'source': 'data/mitc-home-loans.pdf'}, page_content='‘Compliance Obligations’ means obligations of the HSBC Group to comply with: (a) laws or international guidance and internal policies \\nor procedures, (b) any demand or request from authorities or reporting, disclosure or other obligations under laws, and (c) laws requiring \\nus to verify the identity of our customers. \\n ‘Financial Crime’ includes money laundering, terrorist ﬁnancing, bribery, corruption, tax evasion, fraud, evasion of economic or trade'),\n",
       " Document(metadata={'source': 'data/mitc-home-loans.pdf'}, page_content='sanctions, and/or any acts or attempts to circumvent or violate any laws relating to these matters.\\n15. Customer service\\n We’re here to help\\n If you have any questions or would like further information, please contact your Relationship Manager who will be happy to help.\\n You can also,\\n –  Call our PhoneBanking service or\\n –  Visit us at any of our branches or\\nHML_MITC_06/25_v1'),\n",
       " Document(metadata={'source': 'data/mitc-home-loans.pdf'}, page_content='Please note that all grievance/escalations should be marked to:\\n The Nodal Oﬃcer,\\n The Hongkong and Shanghai Banking Corporation Limited, Rajalakshmi, No. 5 and 7 Cathedral Road, Chennai - 600 086, India.\\n Nodal Oﬃcer e-mail: nodaloﬃcerinm@hsbc.co.in \\n You can call the team within Monday to Friday between 9:30a.m.- 6:00p.m. Contact number: 040-65118015/022-71728015.\\n Fax number: +91-022-66476011 and +91-022-49146011\\n16. Disclosures'),\n",
       " Document(metadata={'source': 'data/mitc-home-loans.pdf'}, page_content='16. Disclosures\\n• You acknowledge our right to provide details of your account to third party agencies for the purpose of availing support services of any \\nnature by us, without any speciﬁc consent or authorisation from you or any joint applicants/add-on customers.\\n• HSBC is required to provide information relating to credit history/repayment record of the customer to a credit information company'),\n",
       " Document(metadata={'source': 'data/mitc-home-loans.pdf'}, page_content='(speciﬁcally authorised by RBI), in terms of the Credit Information Companies (Regulation) Act, 2005/uni003B including information relating to \\nany default committed by the customer in discharge of the customer’s obligation, as HSBC may deem appropriate and necessary, with \\nany existing or future credit bureaus/credit reference agencies as determined by HSBC from time to time. Such entities may further'),\n",
       " Document(metadata={'source': 'data/mitc-home-loans.pdf'}, page_content='make available processed information or data or products thereof to banks/ﬁnancial institutions and other credit grantors.\\n• As per Indian Banks Association (IBA) guidelines, we provide information related to our charge on your property against the credit \\nfacility availed by you, to the Central Registry of Securitisation Asset Reconstruction and Security Interest of India (CERSAI). The'),\n",
       " Document(metadata={'source': 'data/mitc-home-loans.pdf'}, page_content='information would reﬂect with CERSAI till your loan account is operational with us. We will de-register our charge on CERSAI records \\nwithin 30 working days of your loan closure.\\n• We have right to recall the loan in the event of you failing to submit all/any post disbursal documents as prescribed by us.\\n• You should seek independent legal advice on the legal status of property being purchased. In case you approach our empanelled lawyer'),\n",
       " Document(metadata={'source': 'data/mitc-home-loans.pdf'}, page_content='for legal advice, they will do so on their own volition and we shall not be held liable for any disputes that you may have with them\\n17.  Cross default and cross collateralisation\\n• Your default on any other credit facility agreement or arrangement with the Bank or its successors-interest or with any of the aﬃliates \\nor our Group companies, shall be deemed to be a default across all fund based or non-fund based facilities availed of by you with any'),\n",
       " Document(metadata={'source': 'data/mitc-home-loans.pdf'}, page_content='of our entities. You agree that the securities charged with the Bank for diﬀerent credit facilities, would be cross collateralized and in the \\nevent of such default, HSBC shall be entitled to exercise any or all our rights under the security documents executed by you with any of \\nour Group entities.\\n18.  Tax representation\\n• You are responsible for fulﬁlling any obligation that you may have with respect to the ﬁling of returns or other required documentation'),\n",
       " Document(metadata={'source': 'data/mitc-home-loans.pdf'}, page_content='in respect of and the payment of all relevant taxes, including, without limitation, all income, capital gains, wealth and estate duties, \\nstamp duties and any other applicable taxes. The creation and continued operation of your account and/or the acquisition, holding or \\ndisposal of investments or assets in such account, as well as any income, distributions or losses realised in relation to the operation of'),\n",
       " Document(metadata={'source': 'data/mitc-home-loans.pdf'}, page_content='the account may expose you to tax consequences depending on a number of factors including, but not limited to, your applicable \\ndomicile, your place of residence, your citizenship or the type of assets you hold in your account. Certain countries may have tax \\nlegislation with extraterritorial eﬀect regardless of your place of domicile, residence or citizenship. The Bank does not provide any legal'),\n",
       " Document(metadata={'source': 'data/mitc-home-loans.pdf'}, page_content='or tax advice and you should seek legal and/or tax advice from an independent legal and/or tax adviser. You acknowledge and agree \\nthat the Bank has no liability in respect of any of your tax obligations and/or any legal and/or tax advice provided to you by third parties.\\n19.  Smart Home/Smart LAP EMI calculation\\n• Equated Monthly Instalment (EMI) and interest calculation: The EMI of the smart loan is calculated based on 372 days in a year (31 days'),\n",
       " Document(metadata={'source': 'data/mitc-home-loans.pdf'}, page_content='in a month), however the interest will be computed on the daily outstanding ledger balance basis the actual number of days in the year. \\nThe principal amount will be the diﬀerence between the EMI and the interest amount calculated for the month. This approach implies \\nthat the principal component of a Smart Loan EMI is marginally higher that the interest component. This higher principal component in \\nthe EMI of smart loans results in a faster repayment of the loan.'),\n",
       " Document(metadata={'source': 'data/mitc-home-loans.pdf'}, page_content='20.  Change of correspondence address, email-ID and Mobile Number\\n• To enable the bank to contact you for any important communication or announcement, you need to notify the Bank regarding any \\nchange of residential address, email-ID and Mobile Number due to relocation or any other reason and you need to get the new address, \\nemail-ID and Mobile Number updated in the Bank’s system within one week of such a change. HML_MITC_06/25_v1'),\n",
       " Document(metadata={'source': 'data/mitc-home-loans.pdf'}, page_content='21.  Foreign Exchange Management Act, 1999 (FEMA) guidelines for Non-Resident Indians\\n Loans disbursed to you should not be utilised for any of the activities listed herewith/uni003B the business of chit fund, or nidhi company, or \\nagricultural or plantation activities or in real estate business, or construction of farm houses/uni003B or trading in Transferable Development'),\n",
       " Document(metadata={'source': 'data/mitc-home-loans.pdf'}, page_content='Rights (TDRs), investment in capital market including margin trading and derivatives. You are required to ensure that the loan amount \\ndisbursed to you is not remitted outside India. You should also ensure that the loan disbursed to you is not credited into your NRE/FCNR \\n(B) accounts. Non-Resident customers can repay the Home Loans or Loan Against Property by one of the following modes only: Debit'),\n",
       " Document(metadata={'source': 'data/mitc-home-loans.pdf'}, page_content='to their NRE Account/ NRO Account/Inward remittance/liquidation of FCNR/sales proceeds of immovable property on which loan was \\ngranted/Close relative’s (as deﬁned in Companies Act, 1956) bank account. \\n22. Liberalised Remittance Scheme (LRS) guidelines\\n• Please note that the Bank does not extend any kind of credit facilities to resident individuals to facilitate capital account remittance'),\n",
       " Document(metadata={'source': 'data/mitc-home-loans.pdf'}, page_content='transaction under the Liberalised Remittance Scheme (LRS). Therefore, utilising the disbursed loan amount towards facilitating current \\naccount remittance transaction under the Liberalised Remittance Scheme (LRS) is prohibited.\\n23.  General points\\n• You should read the application form, all loan facility related documents and the loan agreement carefully understand its contents'),\n",
       " Document(metadata={'source': 'data/mitc-home-loans.pdf'}, page_content='before signing them. You should seek legal advice from your lawyers to ensure that you understand the contents and your obligations. \\nThese terms and conditions and those pertaining to any services provided by HSBC may, at the HSBC’s sole discretion, be changed \\nfrom time to time upon giving the accountholder prior notice or by way of display in HSBC’s premises/website. If the accountholder has'),\n",
       " Document(metadata={'source': 'data/mitc-home-loans.pdf'}, page_content='any objection pursuant to the change in the terms and condition, he/she can close the account or cancel the services prior to the expiry \\nof the notice period, else the accountholder shall be deemed to have agreed to such change. \\n24.  Additional conditions applicable to Smart Home and Smart LAP DLOD.\\n1. Smart Home / Smart LAP DLOD: Is a dropline overdraft facility wherein the limit will be equal to the amount disbursed to the'),\n",
       " Document(metadata={'source': 'data/mitc-home-loans.pdf'}, page_content='borrower(s). The limit is reduced on monthly basis by a minimum of the expected principal payment as per the amortization schedule.\\n2. The Smart Home / Smart LAP DLOD: Has an additional feature of interest save to the borrower(s)/uni003B to operationalize the same,  \\n borrower(s) can park surplus funds in the Smart loan to lower interest. The surplus funds are adjusted towards the Smart loan balance'),\n",
       " Document(metadata={'source': 'data/mitc-home-loans.pdf'}, page_content='resulting in interest saves, since the interest calculation for the month considers the day end balance (post adjustment of the surplus  \\n funds). Borrower(s) can withdraw surplus funds from the Smart loan to the extent of the available limit on system (diﬀerence of current  \\n limit and the balance in the Smart Home / Smart LAP DLOD ). Whenever any amount is withdrawn from Smart Home / Smart LAP  \\n DLOD, the outstanding Smart Home / Smart LAP DLOD balance is increased accordingly.'),\n",
       " Document(metadata={'source': 'data/mitc-home-loans.pdf'}, page_content='3. In under-construction projects where the disbursal is construction-linked and released in tranches, the Smart Home / Smart LAP DLOD  \\n limit will be enhanced as and when the subsequent tranches are disbursed.\\n4.  Repayment account: A Saving Bank account will be opened simultaneously with Smart Home/Smart LAP DLOD. Existing HSBC \\nsaving bank account can also be used, however each Smart Home / Smart LAP DLOD will require a separate savings bank account.'),\n",
       " Document(metadata={'source': 'data/mitc-home-loans.pdf'}, page_content='Additionally, borrower(s) authorized standing instruction for an amount equivalent to atleast an EMI will be loaded on the Savings Bank \\naccount to enable monthly credits into the Smart Home/Smart LAP DLOD on or prior EMI cycle date, towards EMI dues. The borrower \\nmay also place a request or authorize a standing instruction for periodic transfer of amount from Smart Home / Smart LAP DLOD to \\nlinked saving bank account.'),\n",
       " Document(metadata={'source': 'data/mitc-home-loans.pdf'}, page_content='Upon maturity/pre-payment/prior Smart Home/Smart LAP DLOD the linked Saving Bank account will be retained until unless \\nBorrower(s) submits a speciﬁc request to the Bank for closure of Savings Bank account.\\n5.  Equated Monthly Instalment (EMI) and Interest calculation: The EMI for the Smart Home/Smart LAP DLOD is calculated based on \\n372 days in a year (31 days in a month), however the interest will be computed on the daily outstanding ledger balance basis the actual'),\n",
       " Document(metadata={'source': 'data/mitc-home-loans.pdf'}, page_content='number of days in the year. The principal amount will be the diﬀerence between the EMI and the interest amount calculated for the \\nmonth. This approach implies that the principal component of a Smart Home/Smart LAP DLOD EMI is marginally higher than the \\ninterest component. This higher principal component in the EMI of Smart Home/Smart LAP DLOD results in a faster repayment of the \\nloan.'),\n",
       " Document(metadata={'source': 'data/mitc-home-loans.pdf'}, page_content='loan. \\n6.  Principal payment: The principal amount (i.e. the amount by which the Smart Home/Smart LAP DLOD limit will drop in a month) will \\nbe the diﬀerence between the EMI and the interest computed for the month. The principal recovery gets accounted in the Smart Home \\n/ Smart LAP DLOD through a monthly drop in the limit by at least the principal component as per the standard amortization schedule.'),\n",
       " Document(metadata={'source': 'data/mitc-home-loans.pdf'}, page_content='The drop in the limit may be higher depending on the interest charge applicable for the month. \\n7.  Interest payment: The interest will be levied once in a month and will be computed on the daily outstanding ledger balance basis the \\nactual number of days in the year. This interest amount will be debited to the Smart Home / Smart LAP DLOD itself thereby recovering'),\n",
       " Document(metadata={'source': 'data/mitc-home-loans.pdf'}, page_content='the interest component of the EMI. For interest servicing loans (under-construction property), only interest will be due for payment till \\nthe time property is completed, or upto 3 years from the date of disbursement of the ﬁrst tranche, whichever occurs earlier. \\nHML_MITC_06/25_v1'),\n",
       " Document(metadata={'source': 'data/mitc-home-loans.pdf'}, page_content='Illustration:\\nAssuming a Smart Home / Smart LAP DLOD with a limit of `1,000,000/- availed @8.50% for 240 months, at an EMI of `8,782/-. \\nScenario1: Borrower maintains a balance of `100,000/- in the Smart Home / Smart LAP DLOD. i.e. limit utilization is `900,000/-.\\nMonthly interest will be computed on ledger balance of `900,000/- [`1,000,000 (-) 100,000], which is `6,288/-.'),\n",
       " Document(metadata={'source': 'data/mitc-home-loans.pdf'}, page_content='On the EMI due date, the Smart Home / Smart LAP DLOD account will be debited with an interest amount of ` 6,288/-, and principal \\nadjustment of `2,494 [ ` 8,782 (-) 6,288] will take place by way of the Smart Home / Smart LAP DLOD limit dropping to ` 997,506/- \\n(`1,000,000-2,494). \\nScenario2: If the borrower maintains `10,50,000/- in the Smart Home / Smart LAP DLOD account during the interest computation period (i.e., \\n`50,000/- over and above the Smart Home / Smart LAP DLOD limit):'),\n",
       " Document(metadata={'source': 'data/mitc-home-loans.pdf'}, page_content='Interest liability for the given period will be NIL, and the entire EMI amount of INR 8,782/- will be apportioned towards principal dues, by way \\nof the Smart Home / Smart LAP DLOD limit dropping to `991,218/- [`1,000,000 (–) `8,782]. \\nAny credit balance in the account, over and above the Smart Home / Smart LAP DLOD limit may be transferred to the linked savings bank \\naccount at a periodicity decided by bank, without any notiﬁcation to the borrower(s).'),\n",
       " Document(metadata={'source': 'data/mitc-home-loans.pdf'}, page_content='6.  No EMI credit scenario: The EMI recovery process for the Smart Home / Smart LAP DLOD involves the recovery of the installment \\namount from the savings bank account. This is preceded by the following actions on the Smart Home / Smart LAP DLOD, i.e. interest debit \\nfor the month on due date, followed by lowering of limit to the extent of the principal component i.e. the diﬀerence between EMI amount'),\n",
       " Document(metadata={'source': 'data/mitc-home-loans.pdf'}, page_content='and interest debited on the day following the due date. If the EMI is not recovered, the Smart Home / Smart LAP DLOD will become \\noverlimit to the extent of the interest amount on the due date. Thereafter, “Out of order” conditions as deﬁned in ‘Critical Conditions for \\nNon-performing asset classiﬁcation’ section below will apply on the. The Smart Home / Smart LAP DLOD will be shown as an overlimit'),\n",
       " Document(metadata={'source': 'data/mitc-home-loans.pdf'}, page_content='account. The contracted rate of interest and the rate of interest on the overlimit amount will be the same, with no additional (penal) interest \\nbeing levied.\\n In the event no EMI credit is received in Smart Home / Smart LAP DLOD, however available balance maintained by the borrower in is \\ngreater than interest due for the month, then the borrower will not become overlimit, as the starting position of the was below the exiting'),\n",
       " Document(metadata={'source': 'data/mitc-home-loans.pdf'}, page_content=\"credit limit. Therefore, the Overlimit counter for the Smart Home / Smart LAP DLOD will not be triggered. However, since no new credit \\nhas been received in the Smart Home / Smart LAP DLOD, the 'Out of Order' condition requiring new credits in account to the extent of \\ninterest debits will be triggered and the countdown to NPA status will commence.\\nCritical Conditions for Non-performing asset (NPA) classiﬁcation\"),\n",
       " Document(metadata={'source': 'data/mitc-home-loans.pdf'}, page_content='Borrower(s) needs to comply with below three ‘Out of order ‘conditions to ensure that the account is not classiﬁed as NPA\\n(Non- Performing Asset).\\n •  Borrower to ensure Smart Home / Smart LAP DLOD outstanding balance does not remain continuously in excess of sanctioned Limit  \\n     /drawing power for 90 days.\\n •  Borrower to ensure a credit transaction in Smart Home / Smart LAP DLOD account at least once in every 90 days.'),\n",
       " Document(metadata={'source': 'data/mitc-home-loans.pdf'}, page_content='•  Borrower to ensure that credits in Smart Home / Smart LAP DLOD are adequate to cover the interest debited during the previous 90  \\n     days period.\\n7.  Excess funds: Borrower(s) shall park funds in the Smart Home / Smart LAP DLOD upto the prevailing Smart Home / Smart LAP DLOD \\nlimit only. Maintaining funds over and above the prevailing Smart Home / Smart LAP DLOD limit leads to a credit balance in the DLOD'),\n",
       " Document(metadata={'source': 'data/mitc-home-loans.pdf'}, page_content='account on which no interest saves/beneﬁt will be provided. Any credit balance in the Smart Home / Smart LAP DLOD (over and above \\nthe prevailing limit) may be transferred to linked Savings Bank account at a periodicity decided by bank, without any notiﬁcation to the \\nBorrower(s).\\n8.  Pre-payment: Borrower(s) has an option of prepaying the facility partially or in full by approaching any of the Bank’s service channels.'),\n",
       " Document(metadata={'source': 'data/mitc-home-loans.pdf'}, page_content='Borrower(s) can request a pre-payment by depositing the amount in the Savings Bank account or by requesting for the available balance \\nin the Smart Home DLOD to be adjusted towards partial or full pre-payment of the Smart Home / Smart LAP DLOD. Any shortfall during \\nclosure will be recovered from the Savings Bank account, subject to availability of clear balance. Once the pre-payment is eﬀected, the'),\n",
       " Document(metadata={'source': 'data/mitc-home-loans.pdf'}, page_content='Smart Home / Smart LAP DLOD limit will reduce permanently. In case excess funds are received towards the Smart Home / Smart LAP \\nDLOD without any written instruction to pre-pay, the amount will be credited to the Smart Home account which will impact the available \\nbalance in the account.\\n Notwithstanding anything contained herein above, in the event the excess funds in the Smart Home / Smart LAP DLOD account exceeds'),\n",
       " Document(metadata={'source': 'data/mitc-home-loans.pdf'}, page_content='the ‘Threshold Limit’ then the Bank may charge Non-utilization/Commitment fee as detailed in the ‘Tariﬀ sheet’ section above, which will \\nbe subject to normal procedures of loan interest compounding. The Borrower(s) acknowledges that the Bank has the discretion to change \\nthe Non-utilization/Commitment fee rate or ‘Threshold Limit’ with prior notiﬁcation to the borrower.\\nHML_MITC_06/25_v1'),\n",
       " Document(metadata={'source': 'data/mitc-home-loans.pdf'}, page_content='Miscellaneous conditions applicable to Smart Home/LAP DLOD facility\\n • The Borrower(s) undertake not to use the Smart Home / Smart LAP DLOD credit facility being availed herein for remittances for  \\n  capital account transactions under the Liberalized Remittance Scheme (LRS).\\n • Borrower(s) agree than end use of the Smart Home / Smart LAP DLOD cannot be towards any speculative, anti-social , illegal ,  \\n  unproductive or capital market exposure.'),\n",
       " Document(metadata={'source': 'data/mitc-home-loans.pdf'}, page_content='• Borrower(s) agree that the loan proceeds will be solely used by the borrower(s) for the purpose declared to the bank by\\n  borrower(s) while availing the Smart home DLOD / Smart LAP DLOD. \\n • Further, borrower(s) agree to provide relevant evidences / CA certiﬁcates towards the end use of the Smart Home / Smart LAP  \\n  DLOD funds , as required by bank from time to time.'),\n",
       " Document(metadata={'source': 'data/mitc-home-loans.pdf'}, page_content='• Borrower(s) agree to comply with all the norms of the various guidelines issued by Reserve Bank of India from time to time  \\n  applicable to overdraft facilities, renewals, including but not limited to Consolidated Circular on Opening of Current Accounts and  \\n  CC/OD Accounts by Banks RBI ( RBI/2022-23/27DOR.CRE.REC.23/ 21.08.008 /2022-23) , Master Circular on Management of  \\n  Advances(RBI/2015-16/77DCBR.BPD.(PCB) MC No.14/13.05.000/2015-16 ), Master Circular - Prudential norms on Income'),\n",
       " Document(metadata={'source': 'data/mitc-home-loans.pdf'}, page_content='Recognition, Asset Classiﬁcation and Provisioning pertaining to Advances ( RBI/2024-25/12 DOR.STR.REC.8/21.04.048/2024-25)  \\n  and the borrower(s) agrees that the Smart Home / Smart LAP DLOD account will be converted to a normal term loan facility after  \\n  providing due notice if the Smart Home / Smart LAP DLOD account is in non-compliance of the aforesaid RBI circulars / not  \\n  meeting speciﬁc criteria in  any of the relevant regulatory guidelines.'),\n",
       " Document(metadata={'source': 'data/mitc-home-loans.pdf'}, page_content='• Borrower(s) understand that adequate credits in Smart Home / Smart LAP DLOD are done every month, even when surplus funds  \\n  are parked in the Smart Home / Smart LAP DLOD to ensure that Smart Home / Smart LAP DLOD account is not categorized as  \\n  Out of Order and consequently is categorized as a non-performing asset (NPA) as per the Master Circular - Prudential norms on'),\n",
       " Document(metadata={'source': 'data/mitc-home-loans.pdf'}, page_content='Income Recognition, Asset Classiﬁcation and Provisioning pertaining to Advances - RBI/2024-25/12DOR.STR.REC.8/21.04.048  \\n  /2024-25 dated 2nd April 2024.\\n The Out of Order conditions are illustrated below\\n Condition 1 - Outstanding balance in the Smart Home / Smart LAP DLOD account remains continuously in excess of the sanctioned \\nlimit/drawing power for 90 days* (i.e Interest debited every month to Smart Home / Smart LAP DLOD but no EMI credited in Smart'),\n",
       " Document(metadata={'source': 'data/mitc-home-loans.pdf'}, page_content='Home / Smart LAP DLOD, nor any other funds have been credited in the Smart Home / Smart LAP DLOD). For illustration purpose the \\ninterest debited per month is Rs 130 and EMI is Rs 150.\\n     \\n Condition 2 – No credit in 90 days* (Interest debited every month, and no EMI/other transaction credited Smart Home / Smart LAP \\nDLOD. However, funds already parked in Smart Home / Smart LAP DLOD prior to January which is diﬀerent from condition 1). For'),\n",
       " Document(metadata={'source': 'data/mitc-home-loans.pdf'}, page_content='illustration, amount already parked in Smart Home / Smart LAP DLOD is Rs 500.\\n \\nPrevious 90* days Interest debits\\n(January, February, March)\\nSmart Home / Smart LAP DLOD \\nclassiﬁed as Non-performing Asset \\n(NPA) since Smart Home/Smart LAP \\nDLOD was overlimit in previous 90 \\ndays due to non-payment of Interest\\nPrevious 90* days credits (including\\nEMI) (January, February, March)\\n130+130+130 = 390\\n0\\n500\\n390\\nNPA\\nAmount already deposited in the Smart\\nHome / Smart LAP DLOD prior to January'),\n",
       " Document(metadata={'source': 'data/mitc-home-loans.pdf'}, page_content='Interest paid from amount deposited\\nin Smart Home / Smart LAP DLOD\\nNPA classiﬁcation as on 1st April\\nActivity Amount (Rs) Remarks\\nPrevious 90* days Interest debits\\n(January, February, March)\\nSmart Home / Smart LAP DLOD \\nclassiﬁed as Non-performing Asset \\n(NPA) since Smart Home/Smart LAP \\nDLOD was overlimit in previous 90 \\ndays due to non-payment of Interest\\nPrevious 90* days credits (including\\nEMI) (January, February, March)\\nAmount already deposited in\\nthe Smart Home / Smart LAP DLOD'),\n",
       " Document(metadata={'source': 'data/mitc-home-loans.pdf'}, page_content='Interest paid from amount deposited\\nin Smart Home / Smart LAP DLOD\\nNPA classiﬁcation as on 1st April\\nActivity\\n130+130+130 = 390\\n0\\n0\\n0\\nNPA\\nAmount (Rs) Remarks\\nHML_MITC_06/25_v1'),\n",
       " Document(metadata={'source': 'data/mitc-home-loans.pdf'}, page_content='Condition 3 - Credits are not enough to cover the interest debited during the previous 90 days* period (Interest debited every month, \\nand EMI transaction credited Smart Home / Smart LAP DLOD, however the EMI credits is not suﬃcient to cover interest for 90 days. \\nFunds already credited in Smart Home / Smart LAP DLOD prior to January which is diﬀerent from condition 1 & 2). For illustration, \\namount already parked in Smart Home / Smart LAP DLOD is Rs 500.'),\n",
       " Document(metadata={'source': 'data/mitc-home-loans.pdf'}, page_content='*90 days refer to rolling 90 days wherein last 90 days debits / credits are checked daily and NPA classiﬁcation is done accordingly.\\n Borrower(s) have understood the above example and understand that if any of the conditions illustrated above is not met then the  \\n Smart Home / Smart LAP DLOD will immediately get classiﬁed as non-performing asset (NPA), despite keeping surplus funds in  \\nSmart Home / Smart LAP DLOD.'),\n",
       " Document(metadata={'source': 'data/mitc-home-loans.pdf'}, page_content='• Borrower(s) understand that the saving bank account opened with Smart Home/Smart LAP DLOD will be a zero-balance facility  \\n  till Smart Home / Smart LAP DLOD is open/active. Post closure of the Smart Home / Smart LAP DLOD, the minimum balance  \\n  requirement shall be applicable as per saving bank account type. Borrower(s) shall maintain adequate balance in the saving bank  \\n  account to avoid any charges for non-maintenance.'),\n",
       " Document(metadata={'source': 'data/mitc-home-loans.pdf'}, page_content='• Borrower(s) agree to abide by Opening of current account / overdraft circular issued by RBI and corresponding aggregate banking  \\n  exposure requirements as speciﬁed in the circular. Borrower(s) understand that in the event the aggregate banking exposure for  \\n  any borrower on the Smart Home/ Smart LAP DLOD becomes INR 5 crore or higher and HSBC’s share in the banking exposure is'),\n",
       " Document(metadata={'source': 'data/mitc-home-loans.pdf'}, page_content='less than 10% then, HSBC will convert Smart Home / Smart LAP DLOD to the normal Term loan with due notice of 30 days.\\n • Borrower(s) understand that Smart Home/ Smart LAP DLOD facility renewal will be performed by HSBC annually as per internal  \\n  policies of the HSBC and agree to provide relevant documents / evidence, on timely basis, as and when requested by HSBC to  \\n  complete the annual renewal.\\nChange in the Terms and Conditions of the Agreement'),\n",
       " Document(metadata={'source': 'data/mitc-home-loans.pdf'}, page_content='The Bank has sole right to amend any of the terms and conditions of the agreement or any product features without assigning any \\nreasons, by giving prior notice of 30 days, The Borrower(s) agree/s that such revisions shall become applicable on expiry of notice. The \\nSmart Home / Smart LAP DLOD facility being extended to the Borrower(s) shall also be subject to additional terms and condition as the'),\n",
       " Document(metadata={'source': 'data/mitc-home-loans.pdf'}, page_content='Bank may stipulate from time-to-time, as an outcome of changes in regulatory/statutory directions.\\nIssued by The Hongkong and Shanghai Banking Corporation Limited, India. Incorporated in Hong Kong SAR with limited liability.\\nPrevious 90* days Interest debits\\n(January, February, March)\\nSmart Home / Smart LAP DLOD classiﬁed \\nas Non-performing Asset (NPA) since sum \\nof credits is lesser than sum of interest \\ndebits in previous 90 days, despite \\nkeeping funds in Smart Home / Smart'),\n",
       " Document(metadata={'source': 'data/mitc-home-loans.pdf'}, page_content='LAP DLOD for EMI payment.\\nPrevious 90* days credits (including\\nEMI) (January, February, March)\\nAmount already deposited in the Smart\\nHome / Smart LAP DLOD prior to January\\nInterest paid from amount deposited\\nin Smart Home / Smart LAP DLOD\\nNPA classiﬁcation as on 1st April\\nActivity\\n130+130+130 = 390\\n150+150+0=300\\n500\\n390\\nNPA\\nAmount (Rs) Remarks\\nHML_MITC_06/25_v1')]"
      ]
     },
     "execution_count": 16,
     "metadata": {},
     "output_type": "execute_result"
    }
   ],
   "source": [
    "texts_chunk"
   ]
  },
  {
   "cell_type": "code",
   "execution_count": 17,
   "metadata": {},
   "outputs": [
    {
     "name": "stderr",
     "output_type": "stream",
     "text": [
      "/var/folders/h4/_1g5fgpx203d5hpzfqcygfkm0000gn/T/ipykernel_18803/1965188103.py:5: LangChainDeprecationWarning: The class `HuggingFaceEmbeddings` was deprecated in LangChain 0.2.2 and will be removed in 1.0. An updated version of the class exists in the :class:`~langchain-huggingface package and should be used instead. To use it run `pip install -U :class:`~langchain-huggingface` and import as `from :class:`~langchain_huggingface import HuggingFaceEmbeddings``.\n",
      "  embeddings = HuggingFaceEmbeddings(model_name=model_name)\n",
      "/Library/Frameworks/Python.framework/Versions/3.11/lib/python3.11/site-packages/tqdm/auto.py:21: TqdmWarning: IProgress not found. Please update jupyter and ipywidgets. See https://ipywidgets.readthedocs.io/en/stable/user_install.html\n",
      "  from .autonotebook import tqdm as notebook_tqdm\n"
     ]
    }
   ],
   "source": [
    "from langchain.embeddings import HuggingFaceEmbeddings\n",
    "\n",
    "def download_embeddings():\n",
    "    model_name = \"sentence-transformers/all-mpnet-base-v2\"\n",
    "    embeddings = HuggingFaceEmbeddings(model_name=model_name)\n",
    "    return embeddings\n",
    "\n",
    "embedding = download_embeddings()"
   ]
  },
  {
   "cell_type": "code",
   "execution_count": 18,
   "metadata": {},
   "outputs": [
    {
     "data": {
      "text/plain": [
       "HuggingFaceEmbeddings(client=SentenceTransformer(\n",
       "  (0): Transformer({'max_seq_length': 384, 'do_lower_case': False}) with Transformer model: MPNetModel \n",
       "  (1): Pooling({'word_embedding_dimension': 768, 'pooling_mode_cls_token': False, 'pooling_mode_mean_tokens': True, 'pooling_mode_max_tokens': False, 'pooling_mode_mean_sqrt_len_tokens': False, 'pooling_mode_weightedmean_tokens': False, 'pooling_mode_lasttoken': False, 'include_prompt': True})\n",
       "  (2): Normalize()\n",
       "), model_name='sentence-transformers/all-mpnet-base-v2', cache_folder=None, model_kwargs={}, encode_kwargs={}, multi_process=False, show_progress=False)"
      ]
     },
     "execution_count": 18,
     "metadata": {},
     "output_type": "execute_result"
    }
   ],
   "source": [
    "embedding"
   ]
  },
  {
   "cell_type": "code",
   "execution_count": 19,
   "metadata": {},
   "outputs": [
    {
     "data": {
      "text/plain": [
       "[0.0262497179210186,\n",
       " 0.01339566521346569,\n",
       " -0.00453313160687685,\n",
       " -0.021791428327560425,\n",
       " 0.0545518659055233,\n",
       " -0.004966484382748604,\n",
       " 0.006655567325651646,\n",
       " 0.03062623180449009,\n",
       " -0.005762856919318438,\n",
       " -0.004562049172818661,\n",
       " -0.0033132920507341623,\n",
       " -0.048496320843696594,\n",
       " -0.011364065110683441,\n",
       " 0.03507746756076813,\n",
       " 0.09309467673301697,\n",
       " -0.086687371134758,\n",
       " 0.05108654871582985,\n",
       " 0.009886188432574272,\n",
       " -0.06356936693191528,\n",
       " -0.008550235070288181,\n",
       " 0.007054397836327553,\n",
       " -0.003862350480630994,\n",
       " 0.024744274094700813,\n",
       " 0.042884934693574905,\n",
       " 0.03509414568543434,\n",
       " -0.029848305508494377,\n",
       " 0.010252607055008411,\n",
       " 0.02234489843249321,\n",
       " 0.02088998816907406,\n",
       " 0.009492207318544388,\n",
       " -0.033044345676898956,\n",
       " -0.012284120544791222,\n",
       " 0.05352889746427536,\n",
       " 0.025429150089621544,\n",
       " 2.022177341132192e-06,\n",
       " -0.03419102355837822,\n",
       " 0.009610000997781754,\n",
       " -0.016484517604112625,\n",
       " 0.005609503481537104,\n",
       " -0.004250052385032177,\n",
       " -0.022801216691732407,\n",
       " 0.04035478085279465,\n",
       " 0.00305197830311954,\n",
       " 0.03137262165546417,\n",
       " -0.010812405496835709,\n",
       " -0.03557083010673523,\n",
       " 0.0222928524017334,\n",
       " 0.0016871062107384205,\n",
       " 0.002077234908938408,\n",
       " 0.023116236552596092,\n",
       " 0.00688587874174118,\n",
       " -0.006830932572484016,\n",
       " -0.048761218786239624,\n",
       " -0.027010753750801086,\n",
       " 0.015491098165512085,\n",
       " 0.03731696307659149,\n",
       " 0.027279380708932877,\n",
       " 0.026498952880501747,\n",
       " -0.001692294143140316,\n",
       " -0.0288223996758461,\n",
       " 0.025662949308753014,\n",
       " -0.004661626182496548,\n",
       " -0.02706408128142357,\n",
       " -0.0060954405926167965,\n",
       " 0.018166769295930862,\n",
       " 0.04138825833797455,\n",
       " -0.03703116998076439,\n",
       " 0.0055403211154043674,\n",
       " 0.014725972898304462,\n",
       " 0.06878933310508728,\n",
       " 0.0236484594643116,\n",
       " -0.02468450553715229,\n",
       " 0.010294554755091667,\n",
       " 0.08591815084218979,\n",
       " 0.008080958388745785,\n",
       " -0.0804877057671547,\n",
       " -0.035835813730955124,\n",
       " 0.07399849593639374,\n",
       " 0.014271575026214123,\n",
       " 0.0201424527913332,\n",
       " -0.014921188354492188,\n",
       " 0.028452491387724876,\n",
       " 0.002442434197291732,\n",
       " 0.005628927145153284,\n",
       " -0.037439774721860886,\n",
       " 0.08276888728141785,\n",
       " 0.013042914681136608,\n",
       " -0.021596698090434074,\n",
       " 0.009582663886249065,\n",
       " -0.005753335542976856,\n",
       " -0.0363350585103035,\n",
       " -0.0015577042941004038,\n",
       " 0.0012776869116351008,\n",
       " 0.022488238289952278,\n",
       " 0.00014662003377452493,\n",
       " -0.03706805408000946,\n",
       " 0.0059373462572693825,\n",
       " 0.014829429797828197,\n",
       " 0.02463032491505146,\n",
       " -0.09740088880062103,\n",
       " 0.020025674253702164,\n",
       " 0.044155482202768326,\n",
       " 0.01797424629330635,\n",
       " 0.04348786175251007,\n",
       " -0.00315324729308486,\n",
       " 0.04379498213529587,\n",
       " 0.010699252597987652,\n",
       " -0.09923218935728073,\n",
       " 0.005017605610191822,\n",
       " 0.002878859406337142,\n",
       " -0.028301941230893135,\n",
       " 0.0041015115566551685,\n",
       " 0.04661993682384491,\n",
       " 0.001953261671587825,\n",
       " -0.05541548877954483,\n",
       " -0.027967657893896103,\n",
       " 0.012364896945655346,\n",
       " 0.033371567726135254,\n",
       " 0.028845373541116714,\n",
       " 0.013699408620595932,\n",
       " 0.007418368943035603,\n",
       " -0.010876834392547607,\n",
       " 0.010057082399725914,\n",
       " 0.014483301900327206,\n",
       " 0.043869927525520325,\n",
       " -0.01985757239162922,\n",
       " -0.05088487267494202,\n",
       " 0.03388291597366333,\n",
       " -0.021758724004030228,\n",
       " -0.07018052041530609,\n",
       " -0.019555555656552315,\n",
       " 0.010530426166951656,\n",
       " 0.022220667451620102,\n",
       " 0.03386985883116722,\n",
       " 0.02788674458861351,\n",
       " 0.044302430003881454,\n",
       " -0.031669631600379944,\n",
       " 0.023876124992966652,\n",
       " 0.03172857314348221,\n",
       " -0.0012006413890048862,\n",
       " -0.040475741028785706,\n",
       " 0.018793249502778053,\n",
       " 0.007720006629824638,\n",
       " -0.013194563798606396,\n",
       " 0.005706442520022392,\n",
       " -0.01352467481046915,\n",
       " 0.05613813176751137,\n",
       " 0.06577473133802414,\n",
       " 0.022538958117365837,\n",
       " -0.02284909598529339,\n",
       " -0.01397999469190836,\n",
       " -0.014985361136496067,\n",
       " -0.11692575365304947,\n",
       " 0.0078046200796961784,\n",
       " 0.03731033205986023,\n",
       " 0.025834737345576286,\n",
       " 0.03988257795572281,\n",
       " -0.024655243381857872,\n",
       " -0.07076147943735123,\n",
       " -0.05755319446325302,\n",
       " -0.017976339906454086,\n",
       " 0.02778548188507557,\n",
       " 0.03747009485960007,\n",
       " 0.01857837848365307,\n",
       " 0.035566188395023346,\n",
       " 0.03145295009016991,\n",
       " 0.021027034148573875,\n",
       " -0.013369877822697163,\n",
       " -0.008704451844096184,\n",
       " -0.06778058409690857,\n",
       " 0.0011322005884721875,\n",
       " 0.01049276813864708,\n",
       " -0.014862370677292347,\n",
       " 0.028050463646650314,\n",
       " 0.0004501538351178169,\n",
       " -0.02934170328080654,\n",
       " -0.07885511219501495,\n",
       " 0.0355604812502861,\n",
       " -0.006516647525131702,\n",
       " -0.0022945627570152283,\n",
       " -0.0399208627641201,\n",
       " -0.09326401352882385,\n",
       " -0.02626604028046131,\n",
       " -0.023833196610212326,\n",
       " -0.044571876525878906,\n",
       " 0.04152985289692879,\n",
       " 0.0004657267709262669,\n",
       " 0.010605293326079845,\n",
       " -0.04306979104876518,\n",
       " 0.03625211492180824,\n",
       " 0.011954452842473984,\n",
       " 0.038606200367212296,\n",
       " -0.05759895592927933,\n",
       " 0.0025722708087414503,\n",
       " 0.002368417102843523,\n",
       " 0.025992989540100098,\n",
       " 0.03428088128566742,\n",
       " -0.010379994288086891,\n",
       " 0.049165934324264526,\n",
       " -0.07218478620052338,\n",
       " -0.036276835948228836,\n",
       " 0.048862263560295105,\n",
       " 0.02727571316063404,\n",
       " -0.03337661921977997,\n",
       " -0.02316313236951828,\n",
       " 0.015082024969160557,\n",
       " 0.06004152446985245,\n",
       " -0.020442655310034752,\n",
       " 0.03195986524224281,\n",
       " 0.030664145946502686,\n",
       " -0.008698663674294949,\n",
       " 0.002644364023581147,\n",
       " 0.018267739564180374,\n",
       " 0.04330723360180855,\n",
       " -0.03468860685825348,\n",
       " -0.011762730777263641,\n",
       " 0.005638002883642912,\n",
       " 0.06686132401227951,\n",
       " -0.010310099460184574,\n",
       " 0.08213378489017487,\n",
       " -0.016256127506494522,\n",
       " 0.0006944179767742753,\n",
       " 0.04943380877375603,\n",
       " -0.01731003448367119,\n",
       " 0.05905081331729889,\n",
       " -0.08812663704156876,\n",
       " 0.023782525211572647,\n",
       " 0.01632368005812168,\n",
       " -0.0033535861875861883,\n",
       " 0.023440780118107796,\n",
       " -0.032798029482364655,\n",
       " -0.017844581976532936,\n",
       " -0.007084844168275595,\n",
       " -0.008532935753464699,\n",
       " 0.004012736491858959,\n",
       " -0.006454031448811293,\n",
       " 0.04807113856077194,\n",
       " -0.052829377353191376,\n",
       " 0.052517667412757874,\n",
       " -0.12337731570005417,\n",
       " 0.0419207327067852,\n",
       " 0.053660593926906586,\n",
       " 0.027557697147130966,\n",
       " -0.041635096073150635,\n",
       " 0.06671740859746933,\n",
       " 0.04384423419833183,\n",
       " 6.950294482521713e-05,\n",
       " 0.024712562561035156,\n",
       " -0.0008701042970642447,\n",
       " -0.021306263282895088,\n",
       " 0.008814590983092785,\n",
       " 0.007482265122234821,\n",
       " -0.07889625430107117,\n",
       " 0.006322658620774746,\n",
       " -0.0021795115899294615,\n",
       " -0.05313744395971298,\n",
       " -0.035315386950969696,\n",
       " -0.0002729546104092151,\n",
       " -0.05505913496017456,\n",
       " -0.07047577202320099,\n",
       " 0.021063504740595818,\n",
       " -0.023738276213407516,\n",
       " 0.013495132327079773,\n",
       " 0.032811712473630905,\n",
       " 0.0349520705640316,\n",
       " 0.011835949495434761,\n",
       " -0.007469115778803825,\n",
       " -0.08200214803218842,\n",
       " -0.027418527752161026,\n",
       " -0.004514703992754221,\n",
       " 0.02169240266084671,\n",
       " 0.024737795814871788,\n",
       " 0.034725338220596313,\n",
       " -0.019067097455263138,\n",
       " -0.023045090958476067,\n",
       " -0.011651566252112389,\n",
       " 0.058914560824632645,\n",
       " 0.01042154710739851,\n",
       " -0.0009954164270311594,\n",
       " 0.029674531891942024,\n",
       " 0.025783903896808624,\n",
       " 0.014973457902669907,\n",
       " -0.031178655102849007,\n",
       " 0.010349776595830917,\n",
       " 0.019898386672139168,\n",
       " 0.0443563275039196,\n",
       " 0.05434996634721756,\n",
       " -0.051432136446237564,\n",
       " 0.036533109843730927,\n",
       " 0.005297190509736538,\n",
       " -0.06547216325998306,\n",
       " 0.02122160978615284,\n",
       " -0.043646201491355896,\n",
       " -0.02599361352622509,\n",
       " 0.01242334209382534,\n",
       " -0.014167772606015205,\n",
       " -0.010088573209941387,\n",
       " -0.06318499892950058,\n",
       " 0.015795685350894928,\n",
       " 0.011789219453930855,\n",
       " -0.015052617527544498,\n",
       " 0.04036778211593628,\n",
       " 0.023427512496709824,\n",
       " -0.011655043810606003,\n",
       " 0.009298006072640419,\n",
       " -0.013838137499988079,\n",
       " -0.000901328690815717,\n",
       " -0.07619259506464005,\n",
       " 0.006516221910715103,\n",
       " 0.04413621872663498,\n",
       " 0.04531911760568619,\n",
       " -0.02281045913696289,\n",
       " 0.01595776528120041,\n",
       " 0.04980508238077164,\n",
       " 0.004302874207496643,\n",
       " -0.022587021812796593,\n",
       " -0.0330142006278038,\n",
       " -0.09512040764093399,\n",
       " 0.03497869148850441,\n",
       " -0.033572208136320114,\n",
       " 0.03521991893649101,\n",
       " 0.033382847905159,\n",
       " -0.00737043609842658,\n",
       " 0.008542296476662159,\n",
       " -0.05324346944689751,\n",
       " 0.08698804676532745,\n",
       " -0.024827757850289345,\n",
       " 0.04805661737918854,\n",
       " 0.026897555217146873,\n",
       " 0.03825505077838898,\n",
       " 0.017772573977708817,\n",
       " 0.019263282418251038,\n",
       " -0.014446254819631577,\n",
       " -0.012907060794532299,\n",
       " -0.06714534759521484,\n",
       " -0.03934827446937561,\n",
       " 0.04939425364136696,\n",
       " -0.04650323837995529,\n",
       " -0.009491016156971455,\n",
       " -0.018378177657723427,\n",
       " -0.04561476781964302,\n",
       " -0.044524453580379486,\n",
       " -0.04483698680996895,\n",
       " -0.007839561440050602,\n",
       " -0.04271150380373001,\n",
       " -0.01604771614074707,\n",
       " -0.0018448082264512777,\n",
       " -0.027529722079634666,\n",
       " -0.09409010410308838,\n",
       " -0.021395936608314514,\n",
       " -0.0022460075560957193,\n",
       " -0.04154859483242035,\n",
       " 0.021337145939469337,\n",
       " -0.024989895522594452,\n",
       " 0.009490388445556164,\n",
       " -0.05907399579882622,\n",
       " 0.016943523660302162,\n",
       " -0.011004636064171791,\n",
       " -0.0018336523789912462,\n",
       " -0.035580262541770935,\n",
       " 0.00915967021137476,\n",
       " -0.037135131657123566,\n",
       " 0.05477576702833176,\n",
       " 0.07624702900648117,\n",
       " -0.004246488679200411,\n",
       " -0.021526899188756943,\n",
       " 0.010821850970387459,\n",
       " 0.037688497453927994,\n",
       " -0.02880566380918026,\n",
       " -0.00836864486336708,\n",
       " -0.0016721736174076796,\n",
       " 0.04817064478993416,\n",
       " -0.01549204159528017,\n",
       " 0.0690932348370552,\n",
       " -0.014471320435404778,\n",
       " 0.02292194776237011,\n",
       " -0.043116457760334015,\n",
       " -0.01753317564725876,\n",
       " 0.009505271911621094,\n",
       " -0.010702941566705704,\n",
       " 0.028666632249951363,\n",
       " -0.01998102106153965,\n",
       " 0.010780973359942436,\n",
       " -0.004066390451043844,\n",
       " -0.018467813730239868,\n",
       " -0.05317622423171997,\n",
       " -0.013222974725067616,\n",
       " 0.009252232499420643,\n",
       " 0.002871007891371846,\n",
       " 0.04033362492918968,\n",
       " 0.028591344133019447,\n",
       " -0.0819123238325119,\n",
       " 0.013726075179874897,\n",
       " 0.004590662196278572,\n",
       " -0.0036419208627194166,\n",
       " 0.030904550105333328,\n",
       " 0.0016556007321923971,\n",
       " 0.009054931811988354,\n",
       " -0.054919593036174774,\n",
       " 0.030259281396865845,\n",
       " -0.03554387018084526,\n",
       " 0.03586917370557785,\n",
       " 0.08151551336050034,\n",
       " 0.006921861786395311,\n",
       " 0.025103649124503136,\n",
       " 0.010263227857649326,\n",
       " 0.05847405642271042,\n",
       " 0.018093613907694817,\n",
       " -0.0038195131346583366,\n",
       " 0.012429894879460335,\n",
       " -0.03220869228243828,\n",
       " 0.016202397644519806,\n",
       " 0.009931654669344425,\n",
       " -0.028961287811398506,\n",
       " -0.028586244210600853,\n",
       " -0.02595769241452217,\n",
       " -0.039231956005096436,\n",
       " -0.052414894104003906,\n",
       " -0.01645042933523655,\n",
       " -0.008665445260703564,\n",
       " 0.020386654883623123,\n",
       " 0.020667990669608116,\n",
       " -0.008197660557925701,\n",
       " 0.060434795916080475,\n",
       " -0.03507953882217407,\n",
       " 0.006689330097287893,\n",
       " 0.04373123496770859,\n",
       " 0.09935157746076584,\n",
       " 0.015627790242433548,\n",
       " 0.012048862874507904,\n",
       " -0.008992445655167103,\n",
       " 0.009422557428479195,\n",
       " 0.03681208938360214,\n",
       " 0.04701802879571915,\n",
       " 0.018507644534111023,\n",
       " -0.011137641966342926,\n",
       " -0.005246751010417938,\n",
       " 0.009609111584722996,\n",
       " -0.05008459463715553,\n",
       " -0.032625652849674225,\n",
       " -0.0022575592156499624,\n",
       " -0.008219119161367416,\n",
       " -0.019599292427301407,\n",
       " -0.003957405686378479,\n",
       " -0.02259870432317257,\n",
       " 0.06969034671783447,\n",
       " 0.004613896366208792,\n",
       " -0.020690616220235825,\n",
       " 0.0016830667154863477,\n",
       " -0.05966116860508919,\n",
       " 0.009722447022795677,\n",
       " -0.0238532442599535,\n",
       " -0.009983649477362633,\n",
       " -0.05318216234445572,\n",
       " 0.005985261406749487,\n",
       " -0.08082769811153412,\n",
       " 0.014591379091143608,\n",
       " 0.02434624545276165,\n",
       " 0.022630974650382996,\n",
       " -0.03526223078370094,\n",
       " 0.0961499810218811,\n",
       " 0.028253711760044098,\n",
       " -0.028913527727127075,\n",
       " 0.02594807930290699,\n",
       " 0.0475233718752861,\n",
       " -0.03472336381673813,\n",
       " -0.019259508699178696,\n",
       " 0.04601162299513817,\n",
       " 0.04846242442727089,\n",
       " -0.004264499060809612,\n",
       " -0.07452886551618576,\n",
       " 0.009601944126188755,\n",
       " -0.024578383192420006,\n",
       " -0.03744063153862953,\n",
       " -0.0054045068100094795,\n",
       " 0.07390852272510529,\n",
       " -0.038990333676338196,\n",
       " -0.037232350558042526,\n",
       " -0.06633494794368744,\n",
       " -0.021570829674601555,\n",
       " -0.013432740233838558,\n",
       " -0.025160623714327812,\n",
       " 0.005525975488126278,\n",
       " 0.014381240122020245,\n",
       " -0.009465170092880726,\n",
       " -0.0771225094795227,\n",
       " 0.07954985648393631,\n",
       " -0.03719690442085266,\n",
       " -0.027506209909915924,\n",
       " 0.004170683678239584,\n",
       " -0.004182943142950535,\n",
       " 0.03046824410557747,\n",
       " 0.06775721162557602,\n",
       " 0.029337551444768906,\n",
       " -0.04712708294391632,\n",
       " 0.03882473707199097,\n",
       " 0.03158612921833992,\n",
       " -0.026740148663520813,\n",
       " -0.0130121149122715,\n",
       " 0.04248747602105141,\n",
       " 0.01799760013818741,\n",
       " 0.04021981731057167,\n",
       " -0.015515151433646679,\n",
       " -0.0255870558321476,\n",
       " 0.002526340540498495,\n",
       " -0.038477689027786255,\n",
       " 0.005115107633173466,\n",
       " -0.01828956976532936,\n",
       " 0.02699217200279236,\n",
       " -0.03990456089377403,\n",
       " 0.03457789123058319,\n",
       " 0.02192637138068676,\n",
       " -0.030530434101819992,\n",
       " -0.0927078127861023,\n",
       " 0.030424663797020912,\n",
       " 0.09682190418243408,\n",
       " -0.00038867988041602075,\n",
       " -0.004475581459701061,\n",
       " 0.013284615240991116,\n",
       " -0.03486103564500809,\n",
       " 0.02517387643456459,\n",
       " -0.004634339362382889,\n",
       " 3.1652959933126112e-06,\n",
       " 0.009199346415698528,\n",
       " 0.020660025998950005,\n",
       " 0.02117181196808815,\n",
       " 0.002505951328203082,\n",
       " -0.017133357003331184,\n",
       " 0.015062011778354645,\n",
       " -0.004563238006085157,\n",
       " -0.05624246224761009,\n",
       " -0.02187250182032585,\n",
       " 0.05297839269042015,\n",
       " 0.0015515417326241732,\n",
       " -0.04807277023792267,\n",
       " 0.07103198021650314,\n",
       " 0.04962184652686119,\n",
       " 0.032733891159296036,\n",
       " -0.00432274816557765,\n",
       " 0.07824970036745071,\n",
       " -0.018487250432372093,\n",
       " 0.04808167368173599,\n",
       " -0.014792189933359623,\n",
       " 0.03339915722608566,\n",
       " 0.016656987369060516,\n",
       " 0.09762314707040787,\n",
       " 0.0059839943423867226,\n",
       " 0.004437333904206753,\n",
       " -0.019730225205421448,\n",
       " -0.03110724873840809,\n",
       " 0.0022734799422323704,\n",
       " 0.0439244844019413,\n",
       " -0.004601835738867521,\n",
       " -0.011302326805889606,\n",
       " -0.015590321272611618,\n",
       " -7.42216463595602e-33,\n",
       " -0.02497943677008152,\n",
       " 0.029912780970335007,\n",
       " -0.05302891880273819,\n",
       " -0.014636536128818989,\n",
       " -0.07892508804798126,\n",
       " -0.024865886196494102,\n",
       " 0.012854174710810184,\n",
       " 0.011149113066494465,\n",
       " -0.03732166439294815,\n",
       " 0.032479699701070786,\n",
       " -0.039110563695430756,\n",
       " 0.0065283761359751225,\n",
       " 0.026438498869538307,\n",
       " 0.006142015103250742,\n",
       " -0.018655942752957344,\n",
       " 0.003409677417948842,\n",
       " 0.03812939673662186,\n",
       " 0.024224163964390755,\n",
       " -0.029595576226711273,\n",
       " 0.020448820665478706,\n",
       " 0.0034931483678519726,\n",
       " 0.009550768882036209,\n",
       " 0.0640823021531105,\n",
       " 0.014981050975620747,\n",
       " 0.0884859636425972,\n",
       " -0.021082453429698944,\n",
       " -0.04016963019967079,\n",
       " -0.04406866431236267,\n",
       " 0.0437961108982563,\n",
       " -0.022586820647120476,\n",
       " -0.05578785017132759,\n",
       " -0.0017554161604493856,\n",
       " -0.008298954926431179,\n",
       " 0.04675403982400894,\n",
       " -0.004986481741070747,\n",
       " 0.05217677354812622,\n",
       " -0.015111668035387993,\n",
       " -0.012675694189965725,\n",
       " 0.03616886958479881,\n",
       " -0.011518770828843117,\n",
       " -0.006843177136033773,\n",
       " 0.04897454380989075,\n",
       " -0.02854122221469879,\n",
       " -0.04785720631480217,\n",
       " 0.013607786037027836,\n",
       " 0.022674251347780228,\n",
       " -0.013731041923165321,\n",
       " 0.010278372094035149,\n",
       " 0.020900174975395203,\n",
       " -0.009633748792111874,\n",
       " -0.0532994382083416,\n",
       " -0.0361589714884758,\n",
       " -0.00814302172511816,\n",
       " -0.04950116574764252,\n",
       " -0.09549389779567719,\n",
       " -0.012199148535728455,\n",
       " -0.008743788115680218,\n",
       " -0.00523860938847065,\n",
       " 0.006486204452812672,\n",
       " 0.014537570998072624,\n",
       " 0.07761501520872116,\n",
       " -0.041205618530511856,\n",
       " -0.04281499981880188,\n",
       " 0.023514384403824806,\n",
       " 0.03292354568839073,\n",
       " 0.06109742447733879,\n",
       " 0.11854949593544006,\n",
       " 0.006075692363083363,\n",
       " -0.031101301312446594,\n",
       " -0.0765526220202446,\n",
       " -0.03043249249458313,\n",
       " -0.014461157843470573,\n",
       " -0.05452161282300949,\n",
       " 0.033489082008600235,\n",
       " -0.03242187574505806,\n",
       " -0.024998368695378304,\n",
       " -0.0652054101228714,\n",
       " -0.021536903455853462,\n",
       " -0.017865212634205818,\n",
       " -0.022192824631929398,\n",
       " -0.015162237919867039,\n",
       " 0.0023485124111175537,\n",
       " -0.011977662332355976,\n",
       " 0.005846391897648573,\n",
       " 0.016001196578145027,\n",
       " 0.03545479103922844,\n",
       " -0.015774212777614594,\n",
       " 0.028600722551345825,\n",
       " -0.04166245460510254,\n",
       " 0.011735893785953522,\n",
       " -0.01680655963718891,\n",
       " -0.04307343438267708,\n",
       " 0.017839232459664345,\n",
       " -0.037709012627601624,\n",
       " -0.03675223886966705,\n",
       " -0.03389231488108635,\n",
       " 0.03937229886651039,\n",
       " -0.02424057573080063,\n",
       " 0.012149159796535969,\n",
       " -0.016354022547602654,\n",
       " 0.012111872434616089,\n",
       " -0.005702125374227762,\n",
       " -0.04870012030005455,\n",
       " 0.024931376799941063,\n",
       " -0.005004601087421179,\n",
       " 0.06189974769949913,\n",
       " -0.03407369926571846,\n",
       " 0.004019835963845253,\n",
       " -0.05242186412215233,\n",
       " -0.023559318855404854,\n",
       " 0.008222180418670177,\n",
       " -0.00014831381849944592,\n",
       " 0.02125236950814724,\n",
       " 0.01965680718421936,\n",
       " -0.030415799468755722,\n",
       " 0.021859105676412582,\n",
       " 0.022153448313474655,\n",
       " 0.004489784128963947,\n",
       " -0.04513737931847572,\n",
       " -0.018923373892903328,\n",
       " 0.02923392876982689,\n",
       " -0.02610987424850464,\n",
       " -0.04777505621314049,\n",
       " 0.02395990677177906,\n",
       " -0.031827524304389954,\n",
       " -0.012403625063598156,\n",
       " -0.02470693178474903,\n",
       " 0.04309448227286339,\n",
       " 0.03403276205062866,\n",
       " 0.006461704149842262,\n",
       " 0.017298663035035133,\n",
       " -0.032916370779275894,\n",
       " 2.5896659394675225e-07,\n",
       " -0.008848811499774456,\n",
       " -0.03630739450454712,\n",
       " -0.017381154000759125,\n",
       " 0.0819883868098259,\n",
       " 0.0021983885671943426,\n",
       " 0.02904174104332924,\n",
       " -0.01806703954935074,\n",
       " 0.08862543106079102,\n",
       " 0.02423625811934471,\n",
       " 0.02361331880092621,\n",
       " -0.01310447696596384,\n",
       " -0.021906746551394463,\n",
       " 0.011557369492948055,\n",
       " -0.08912065625190735,\n",
       " -0.06380235403776169,\n",
       " -0.00955565832555294,\n",
       " -0.05437050387263298,\n",
       " -0.11822570860385895,\n",
       " -0.00921177864074707,\n",
       " -0.0036959932185709476,\n",
       " -0.02876976504921913,\n",
       " 0.018765708431601524,\n",
       " 0.0005117685068398714,\n",
       " 0.002456037327647209,\n",
       " 0.015607098117470741,\n",
       " -0.0072307283990085125,\n",
       " 0.028010645881295204,\n",
       " -0.036571819335222244,\n",
       " 0.017041495069861412,\n",
       " 0.009626294486224651,\n",
       " -0.04827100783586502,\n",
       " -0.061702143400907516,\n",
       " 0.01683959737420082,\n",
       " -0.03689941018819809,\n",
       " 0.017405929043889046,\n",
       " -0.021202076226472855,\n",
       " 0.03651917725801468,\n",
       " 0.03248469904065132,\n",
       " 0.015166069380939007,\n",
       " 0.08810398727655411,\n",
       " -0.016470279544591904,\n",
       " 0.014158624224364758,\n",
       " -0.02659720927476883,\n",
       " -0.03824489936232567,\n",
       " 0.02215002104640007,\n",
       " 0.01816020905971527,\n",
       " 0.016499895602464676,\n",
       " 0.0010088145500048995,\n",
       " -0.06776745617389679,\n",
       " -0.0297931469976902,\n",
       " 0.0036887945607304573,\n",
       " -0.021217765286564827,\n",
       " 0.014949651435017586,\n",
       " 0.009262346662580967,\n",
       " -0.024820098653435707,\n",
       " 0.011967663653194904,\n",
       " 0.06190689653158188,\n",
       " 0.019780775532126427,\n",
       " 0.013480190187692642,\n",
       " -0.022595565766096115,\n",
       " -0.012310879305005074,\n",
       " -0.06700607389211655,\n",
       " 0.012755527161061764,\n",
       " 0.033227428793907166,\n",
       " -0.024979984387755394,\n",
       " -7.903706864453852e-05,\n",
       " -0.003125821240246296,\n",
       " 1.1591554385233385e-34,\n",
       " -0.004750358406454325,\n",
       " 0.033245958387851715,\n",
       " 0.032779522240161896,\n",
       " 0.045813530683517456,\n",
       " -0.028626784682273865,\n",
       " -0.0037842020392417908,\n",
       " -0.05827174335718155,\n",
       " -0.006224827840924263,\n",
       " 0.035534072667360306,\n",
       " -0.030796866863965988,\n",
       " -0.010551494546234608]"
      ]
     },
     "execution_count": 19,
     "metadata": {},
     "output_type": "execute_result"
    }
   ],
   "source": [
    "vector = embedding.embed_query(\"Hello world\")\n",
    "vector"
   ]
  },
  {
   "cell_type": "code",
   "execution_count": 20,
   "metadata": {},
   "outputs": [
    {
     "name": "stdout",
     "output_type": "stream",
     "text": [
      "Vector length: 768\n"
     ]
    }
   ],
   "source": [
    "print( \"Vector length:\", len(vector))"
   ]
  },
  {
   "cell_type": "code",
   "execution_count": 21,
   "metadata": {},
   "outputs": [
    {
     "data": {
      "text/plain": [
       "True"
      ]
     },
     "execution_count": 21,
     "metadata": {},
     "output_type": "execute_result"
    }
   ],
   "source": [
    "from dotenv import load_dotenv\n",
    "import os\n",
    "load_dotenv()"
   ]
  },
  {
   "cell_type": "code",
   "execution_count": 22,
   "metadata": {},
   "outputs": [],
   "source": [
    "PINECONE_API_KEY = os.getenv(\"PINECODE_API_KEY\")\n",
    "OPENAI_API_KEY = os.getenv(\"OPENAI_API_KEY\")\n",
    "GEMINI_API_KEY = os.getenv(\"GEMINI_API_KEY\")\n",
    "\n",
    "\n",
    "\n",
    "os.environ[\"PINECONE_API_KEY\"] = PINECONE_API_KEY\n",
    "os.environ[\"OPENAI_API_KEY\"] = OPENAI_API_KEY\n",
    "os.environ[\"GEMINI_API_KEY\"] = GEMINI_API_KEY"
   ]
  },
  {
   "cell_type": "code",
   "execution_count": 23,
   "metadata": {},
   "outputs": [],
   "source": [
    "from pinecone import Pinecone \n",
    "pinecone_api_key = PINECONE_API_KEY\n",
    "\n",
    "pc = Pinecone(api_key=pinecone_api_key)"
   ]
  },
  {
   "cell_type": "code",
   "execution_count": 24,
   "metadata": {},
   "outputs": [
    {
     "data": {
      "text/plain": [
       "<pinecone.pinecone.Pinecone at 0x339b26f90>"
      ]
     },
     "execution_count": 24,
     "metadata": {},
     "output_type": "execute_result"
    }
   ],
   "source": [
    "pc"
   ]
  },
  {
   "cell_type": "code",
   "execution_count": 25,
   "metadata": {},
   "outputs": [],
   "source": [
    "from pinecone import ServerlessSpec \n",
    "\n",
    "index_name = \"finguidenew\"\n",
    "\n",
    "if not pc.has_index(index_name):\n",
    "    pc.create_index(\n",
    "        name = index_name,\n",
    "        dimension=768,  # Dimension of the embeddings\n",
    "        metric= \"cosine\",  # Cosine similarity\n",
    "        spec=ServerlessSpec(cloud=\"aws\", region=\"us-east-1\")\n",
    "    )\n",
    "\n",
    "\n",
    "index = pc.Index(index_name)"
   ]
  },
  {
   "cell_type": "code",
   "execution_count": 26,
   "metadata": {},
   "outputs": [],
   "source": [
    "from langchain_pinecone import PineconeVectorStore\n",
    "\n",
    "docsearch = PineconeVectorStore.from_documents(\n",
    "    documents=texts_chunk,\n",
    "    embedding=embedding,\n",
    "    index_name=index_name\n",
    ")"
   ]
  },
  {
   "cell_type": "code",
   "execution_count": 27,
   "metadata": {},
   "outputs": [],
   "source": [
    "# Load Existing index \n",
    "\n",
    "from langchain_pinecone import PineconeVectorStore\n",
    "# Embed each chunk and upsert the embeddings into your Pinecone index.\n",
    "docsearch = PineconeVectorStore.from_existing_index(\n",
    "    index_name=index_name,\n",
    "    embedding=embedding\n",
    ")"
   ]
  },
  {
   "cell_type": "code",
   "execution_count": 28,
   "metadata": {},
   "outputs": [],
   "source": [
    "retriever = docsearch.as_retriever(search_type=\"similarity\", search_kwargs={\"k\":3})"
   ]
  },
  {
   "cell_type": "code",
   "execution_count": 29,
   "metadata": {},
   "outputs": [
    {
     "data": {
      "text/plain": [
       "[Document(id='c3017750-1404-472a-ba1a-22530dd71cfe', metadata={'source': 'data/mitc-home-loans.pdf'}, page_content='*90 days refer to rolling 90 days wherein last 90 days debits / credits are checked daily and NPA classiﬁcation is done accordingly.\\n Borrower(s) have understood the above example and understand that if any of the conditions illustrated above is not met then the  \\n Smart Home / Smart LAP DLOD will immediately get classiﬁed as non-performing asset (NPA), despite keeping surplus funds in  \\nSmart Home / Smart LAP DLOD.'),\n",
       " Document(id='3db57ada-40fb-4fbc-9e1d-45ded7268484', metadata={'source': 'data/mitc-home-loans.pdf'}, page_content='*90 days refer to rolling 90 days wherein last 90 days debits / credits are checked daily and NPA classiﬁcation is done accordingly.\\n Borrower(s) have understood the above example and understand that if any of the conditions illustrated above is not met then the  \\n Smart Home / Smart LAP DLOD will immediately get classiﬁed as non-performing asset (NPA), despite keeping surplus funds in  \\nSmart Home / Smart LAP DLOD.'),\n",
       " Document(id='2c54e496-135b-4c3e-bc02-ff1724ac7004', metadata={'source': 'data/mitc-home-loans.pdf'}, page_content='*90 days refer to rolling 90 days wherein last 90 days debits / credits are checked daily and NPA classiﬁcation is done accordingly.\\n Borrower(s) have understood the above example and understand that if any of the conditions illustrated above is not met then the  \\n Smart Home / Smart LAP DLOD will immediately get classiﬁed as non-performing asset (NPA), despite keeping surplus funds in  \\nSmart Home / Smart LAP DLOD.')]"
      ]
     },
     "execution_count": 29,
     "metadata": {},
     "output_type": "execute_result"
    }
   ],
   "source": [
    "retrieved_docs = retriever.invoke(\"I have a Smart Home DLOD account. What are the three conditions that could cause my account to be classified as a Non-Performing Asset (NPA), even if I have surplus funds in it?\")\n",
    "retrieved_docs"
   ]
  },
  {
   "cell_type": "code",
   "execution_count": 30,
   "metadata": {},
   "outputs": [],
   "source": [
    "from langchain_core.runnables import RunnableLambda, RunnableMap\n",
    "from langchain_core.prompts import PromptTemplate\n",
    "from langchain_google_genai import ChatGoogleGenerativeAI\n",
    "from langchain.chains.combine_documents import create_stuff_documents_chain\n",
    "from langchain.chains import create_retrieval_chain\n"
   ]
  },
  {
   "cell_type": "code",
   "execution_count": 31,
   "metadata": {},
   "outputs": [],
   "source": [
    "chat_model = ChatGoogleGenerativeAI(model=\"gemini-1.5-flash\", google_api_key=os.getenv(\"GEMINI_API_KEY\"))"
   ]
  },
  {
   "cell_type": "code",
   "execution_count": 32,
   "metadata": {},
   "outputs": [],
   "source": [
    "prompt_template = PromptTemplate.from_template(\"\"\"\n",
    "You are a helpful assistant for HSBC Clarity Engine where you give answers to queries related to HSBC Questions. Use the context below to answer the question.\n",
    "**Core Instructions:**\n",
    "**Handle \"I Don't Know\" Scenarios:** If the answer is not found in the provided context, you must state: \"I do not have the information on that specific topic. I can assist with questions regarding home loans, card services, and account statements.\"\n",
    "**Safety and Compliance Guardrails:**\n",
    "* **Refuse Inappropriate Queries:** You must politely refuse to answer any questions that involve vulgarity, hate speech, or offensive language. A suitable response is: \"I cannot assist with that request.\"\n",
    "* **Protect Customer Privacy:** You must NEVER ask for, repeat, or acknowledge any personally identification or if a customer asks for someones else personal details just politely say \"I cannot provide you with these details\"\n",
    "Context:\n",
    "{context}\n",
    "\n",
    "Question: {input}\n",
    "\n",
    "Answer:\n",
    "\"\"\")"
   ]
  },
  {
   "cell_type": "code",
   "execution_count": 33,
   "metadata": {},
   "outputs": [],
   "source": [
    "question_answer_chain = create_stuff_documents_chain(chat_model, prompt_template)"
   ]
  },
  {
   "cell_type": "code",
   "execution_count": 34,
   "metadata": {},
   "outputs": [],
   "source": [
    "rag_chain = create_retrieval_chain(retriever, question_answer_chain)"
   ]
  },
  {
   "cell_type": "code",
   "execution_count": 35,
   "metadata": {},
   "outputs": [],
   "source": [
    "query = \"What are the three conditions that could cause my Smart Home DLOD account to be NPA despite surplus funds?\"\n",
    "response = rag_chain.invoke({\"input\": query})"
   ]
  },
  {
   "cell_type": "code",
   "execution_count": 36,
   "metadata": {},
   "outputs": [
    {
     "name": "stdout",
     "output_type": "stream",
     "text": [
      "I do not have the information on that specific topic. I can assist with questions regarding home loans, card services, and account statements.\n"
     ]
    }
   ],
   "source": [
    "print(response[\"answer\"])"
   ]
  },
  {
   "cell_type": "code",
   "execution_count": 37,
   "metadata": {},
   "outputs": [],
   "source": [
    "query = \"Are there any charges if I want to prepay my floating-rate home loan?\"\n",
    "response = rag_chain.invoke({\"input\": query})"
   ]
  },
  {
   "cell_type": "code",
   "execution_count": 38,
   "metadata": {},
   "outputs": [
    {
     "name": "stdout",
     "output_type": "stream",
     "text": [
      "No, there are no prepayment charges for floating-rate home loans.\n"
     ]
    }
   ],
   "source": [
    "print(response[\"answer\"])"
   ]
  },
  {
   "cell_type": "code",
   "execution_count": 39,
   "metadata": {},
   "outputs": [],
   "source": [
    "query = \"How much does it cost to switch from a floating rate to a fixed rate loan?\"\n",
    "response = rag_chain.invoke({\"input\": query})"
   ]
  },
  {
   "cell_type": "code",
   "execution_count": 40,
   "metadata": {},
   "outputs": [
    {
     "name": "stdout",
     "output_type": "stream",
     "text": [
      "The cost to switch from a floating rate to a fixed rate loan is ₹5,000.  Stamping/franking costs will be an additional expense borne by the borrower.\n"
     ]
    }
   ],
   "source": [
    "print(response[\"answer\"])"
   ]
  },
  {
   "cell_type": "code",
   "execution_count": 41,
   "metadata": {},
   "outputs": [],
   "source": [
    "query = \"How long do I have to wait after my loan is disbursed before I can switch my interest rate type for the first time?\"\n",
    "response = rag_chain.invoke({\"input\": query})"
   ]
  },
  {
   "cell_type": "code",
   "execution_count": 42,
   "metadata": {},
   "outputs": [
    {
     "name": "stdout",
     "output_type": "stream",
     "text": [
      "The provided text doesn't specify a waiting period after disbursement before the first interest rate switch.  However, it does state that a minimum 12-month gap is required between *any two* switches.\n"
     ]
    }
   ],
   "source": [
    "print(response[\"answer\"])"
   ]
  },
  {
   "cell_type": "code",
   "execution_count": 43,
   "metadata": {},
   "outputs": [],
   "source": [
    "query = \"How do you calculate switching of intrest rates?\"\n",
    "response = rag_chain.invoke({\"input\": query})"
   ]
  },
  {
   "cell_type": "code",
   "execution_count": 44,
   "metadata": {},
   "outputs": [
    {
     "name": "stdout",
     "output_type": "stream",
     "text": [
      "The switching charges depend on the type of rate change:\n",
      "\n",
      "* **Floating rate to Fixed rate:** A flat fee of ₹5,000 is charged.\n",
      "* **Fixed rate to Floating rate:** A fee of ₹5,000 plus 5% of the outstanding principal balance is charged.\n",
      "\n",
      "Stamping/franking costs will be borne by the borrower.  You are allowed up to three switches during the loan tenure, with the first switch permitted 12 months after the disbursement date.\n"
     ]
    }
   ],
   "source": [
    "print(response[\"answer\"])"
   ]
  },
  {
   "cell_type": "markdown",
   "metadata": {},
   "source": [
    "### Mitigating Compliance Risk:"
   ]
  },
  {
   "cell_type": "markdown",
   "metadata": {},
   "source": [
    "This question is a classic compliance trap. Reserve Bank of India (RBI) and FEMA guidelines have very strict rules about the end-use of loans for Non-Resident Indians (NRIs). A human agent, trying to be helpful but perhaps not recalling the specific clause under pressure, might give a vague or incorrect answer, potentially exposing the bank to regulatory penalties for improper advice."
   ]
  },
  {
   "cell_type": "code",
   "execution_count": 45,
   "metadata": {},
   "outputs": [],
   "source": [
    "query = \"I am an NRI. Can I take out a home loan and use the funds to invest in the Indian stock market?\"\n",
    "response = rag_chain.invoke({\"input\": query})"
   ]
  },
  {
   "cell_type": "code",
   "execution_count": 46,
   "metadata": {},
   "outputs": [
    {
     "name": "stdout",
     "output_type": "stream",
     "text": [
      "Based on the provided text, while NRIs can take out home loans, the loan amount cannot be remitted outside India and should not be credited into NRE/FCNR (B) accounts.  The text does not explicitly forbid using home loan funds for investment in the Indian stock market, but it strongly implies that such use is against the terms.  Therefore, I would advise against it.  To be certain, I recommend contacting HSBC directly to clarify the permissible uses of home loan funds for NRIs.\n"
     ]
    }
   ],
   "source": [
    "print(response[\"answer\"])"
   ]
  },
  {
   "cell_type": "code",
   "execution_count": 47,
   "metadata": {},
   "outputs": [],
   "source": [
    "query = \"Why would my account be marked as an NPA if I have more than the EMI amount saved in it?\"\n",
    "response = rag_chain.invoke({\"input\": query})"
   ]
  },
  {
   "cell_type": "code",
   "execution_count": 48,
   "metadata": {},
   "outputs": [
    {
     "name": "stdout",
     "output_type": "stream",
     "text": [
      "I do not have the information on that specific topic. I can assist with questions regarding home loans, card services, and account statements.\n"
     ]
    }
   ],
   "source": [
    "print(response[\"answer\"])"
   ]
  },
  {
   "cell_type": "code",
   "execution_count": 49,
   "metadata": {},
   "outputs": [],
   "source": [
    "query = \"What a bullshit it is\"\n",
    "response = rag_chain.invoke({\"input\": query})"
   ]
  },
  {
   "cell_type": "code",
   "execution_count": 50,
   "metadata": {},
   "outputs": [
    {
     "name": "stdout",
     "output_type": "stream",
     "text": [
      "I cannot assist with that request.\n"
     ]
    }
   ],
   "source": [
    "print(response[\"answer\"])"
   ]
  }
 ],
 "metadata": {
  "language_info": {
   "name": "python"
  }
 },
 "nbformat": 4,
 "nbformat_minor": 2
}
